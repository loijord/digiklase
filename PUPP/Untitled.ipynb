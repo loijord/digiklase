{
 "cells": [
  {
   "cell_type": "markdown",
   "id": "7098bcb6-6588-46bd-b658-fcfffc6994a7",
   "metadata": {},
   "source": [
    "[Formulynas 2025m.](formulynas.png)\n",
    "## PUPP bandomasis 2025\n",
    "* Patikrinimą sudaro 31 uždavinys.\n",
    "* Patikrinimo taškų suma yra 50 taškų.\n",
    "* Patikrinimo trukmė – 150 min.\n",
    "* Šaltinis: [BETA ITS](https://beta.etestavimas.lt/tests/view/bc0e5412490a/569)"
   ]
  },
  {
   "cell_type": "markdown",
   "id": "deee0d05-d86d-4886-8637-aa89914a05e6",
   "metadata": {},
   "source": [
    "### Uždaviniai su įstatymu.\n",
    "1\\. Sekos $(a_n)$ $n$-tojo nario formulė yra $a_n = 2n – 1$. Apskaičiuokite šios sekos trečiąjį narį $a_3$. (**1 tšk.**)  \n",
    "2\\. Pažymėkite paveikslą, kuriame pavaizduotas funkcijos $y = –x^2$ grafikas. (**2 tšk.**)  \n",
    "<img src=\"../images/2025_2.png\" width=\"500\"/>  \n",
    "3\\. "
   ]
  },
  {
   "cell_type": "code",
   "execution_count": null,
   "id": "a6142d21-af2f-4f71-bbc8-c0fc71521d58",
   "metadata": {},
   "outputs": [],
   "source": []
  }
 ],
 "metadata": {
  "kernelspec": {
   "display_name": "Python 3 (ipykernel)",
   "language": "python",
   "name": "python3"
  },
  "language_info": {
   "codemirror_mode": {
    "name": "ipython",
    "version": 3
   },
   "file_extension": ".py",
   "mimetype": "text/x-python",
   "name": "python",
   "nbconvert_exporter": "python",
   "pygments_lexer": "ipython3",
   "version": "3.12.7"
  }
 },
 "nbformat": 4,
 "nbformat_minor": 5
}
