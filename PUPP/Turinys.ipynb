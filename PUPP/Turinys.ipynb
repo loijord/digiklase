{
 "cells": [
  {
   "cell_type": "markdown",
   "id": "0c80cd31-c6c0-4b72-b3a4-b35d305e4f2a",
   "metadata": {},
   "source": [
    "[Formulynas](formulynas.png)"
   ]
  },
  {
   "cell_type": "markdown",
   "id": "c8c1db32-ae6f-45a0-8bcf-235d937b62c4",
   "metadata": {},
   "source": [
    "* [PUPP 2025 metų oficialus bandomasis](PUPP_pavyzdžiai/PUPP_2025b/PUPP_2025b.ipynb)  \n",
    "* [PUPP 2025 metų neoficialus bandomasis Nr. 1](PUPP_pavyzdžiai/PUPP_2025b1/PUPP_2025b1.ipynb)  (Elicėjus)\n",
    "* [PUPP 2025 metų neoficialus bandomasis Nr. N](PUPP_pavyzdžiai/PUPP_2025bn/PUPP_2025bn.ipynb)  (Nojus Jokūbaitis)\n",
    "* [PUPP 2025 metų neoficialus bandomasis Nr. M](PUPP_pavyzdžiai/PUPP_2025bm/PUPP_2025bm.ipynb)  (Ematematikas)"
   ]
  },
  {
   "cell_type": "markdown",
   "id": "e09cf99f-4f98-4f78-a61a-0a54ea9a59dc",
   "metadata": {},
   "source": [
    "### Sprendimai\n",
    "* [PUPP_2025bm sprendimai](PUPP_sprendimai/PUPP_2025bm.ipynb)"
   ]
  },
  {
   "cell_type": "markdown",
   "id": "c774be92-a569-4158-8281-4da1dda940e5",
   "metadata": {},
   "source": [
    "Įkelti iš viso 4 PUPP 2025 bandomieji. Po truputį keliami jų sprendimai, išlaikantys tokią struktūrą:\n",
    "* Sprendimo planas - skirta pramokusiems moksleiviams, kuriems sprendžiant tam tikrą uždavinį sunkiai pavyksta atrasti veikiantį sprendimo būdą.\n",
    "* Sprendimas - skirta ir pradedantiesiems, ir pramokusiems parodyti, kaip galėtų atrodyti gerai užrašytas tam tikro uždavinio sprendimas. Pradedantiesiems patariama mokytis pradėti nuo sprendimo išanalizavimo.\n",
    "* Paaiškinimai - skirta pradedantiesiems paaiškinti sunkesnėms sprendimo dalims."
   ]
  },
  {
   "cell_type": "markdown",
   "id": "cfc77eda-d87b-4565-af19-4ac251f7502d",
   "metadata": {},
   "source": [
    "### Du pagrindiniai modeliai, pasitaikantys sprendimuose\n",
    "\n",
    "* **Tekstinio uždavinio sprendimo**:\n",
    "  * **Teksto interpretavimas**. Rask tekste palyginamuosius žodžius\n",
    "  * **Nežinomųjų užrašymas**. Užrašyk, ką reiškia nežinomieji arba kiti raidiniai reiškiniai, kuriuos naudoji\n",
    "  * **Lygties sudarymas ir sprendimas**. Sudaryk lygtį ir rask nežinomąjį (arba kelis nežinomuosius)\n",
    "  * **Grįžimas prie nežinomųjų užrašymo**. Grįžk prie nežinomųjų užrašymo, įstatyk gautą nežinomojo ar kelių nežinomųjų reikšmę\n",
    "  * **Grįžimas prie sąlygos**. Grįžk prie sąlygos ir panaudok gautas reikšmes rasti tam, ko prašo uždavinio sąlyga.  \n",
    "$\\phantom{x}$\n",
    "* **Formulės taikymo**:\n",
    "  * **Formulės užrašymas**. Uždavinyje arba formulyne ir užrašyk formulę, kurią reiks naudoti.\n",
    "      * Sudėtingesniais atvejais reikia matematinių žinių, t.y. reikiamą formulę mokėti arba kitaip sudaryti remiantis pateiktais duomenimis.\n",
    "  * **Užrašymas, ką įstatyti**. Rask ir užrašyk, kokius kintamuosius į kokius skaičius (ar kitus reiškinius) reikės pakeisti.\n",
    "      * Sudėtingesniais atvejais gali prireikti detalesnio dviejų reiškinių palyginimo siekiant nustatyti, kaip tiksliai reikia pakeisti kintamuosius.\n",
    "  * **Nauja formulė**. Sudaryk naują formulę, kur tavo užrašytoje formulėje kintamieji būtų pakeisti pagal užrašytą tvarką.\n",
    "      * Sudėtingesniais atvejais reikia ne tik pakeisti, bet ir įsitikinti, kad laikomasi matematinės sintaksės (pvz.: neigiamus skaičius apskliaudžiame arba tarp dviejų skaičių daugybos dedame ženklą ,,$\\cdot$\").\n",
    "  * **Skaičiavimai**. Sudarytą naują formulę įtrauk į savo sprendimą ir, jei įmanoma, apskaičiuok arba kitaip suprastink naują formulę."
   ]
  }
 ],
 "metadata": {
  "kernelspec": {
   "display_name": "Python 3 (ipykernel)",
   "language": "python",
   "name": "python3"
  },
  "language_info": {
   "codemirror_mode": {
    "name": "ipython",
    "version": 3
   },
   "file_extension": ".py",
   "mimetype": "text/x-python",
   "name": "python",
   "nbconvert_exporter": "python",
   "pygments_lexer": "ipython3",
   "version": "3.12.7"
  }
 },
 "nbformat": 4,
 "nbformat_minor": 5
}
