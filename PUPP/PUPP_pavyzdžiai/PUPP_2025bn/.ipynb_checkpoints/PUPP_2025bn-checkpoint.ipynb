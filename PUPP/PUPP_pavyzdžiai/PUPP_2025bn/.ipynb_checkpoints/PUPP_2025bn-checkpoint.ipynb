{
 "cells": [
  {
   "cell_type": "markdown",
   "id": "9cf432fc-2558-4ec9-bea8-74ddbba78a7e",
   "metadata": {},
   "source": [
    "[Formulynas](../../formulynas.png)"
   ]
  },
  {
   "cell_type": "markdown",
   "id": "66d43eac-13dc-487c-9dbc-20aad74449cc",
   "metadata": {},
   "source": [
    "## PUPP bandomasis 2025\n",
    "* Patikrinimą sudaro 30 uždavinių.\n",
    "* Patikrinimo taškų suma yra 50 taškų.\n",
    "* Patikrinimo trukmė – 150 min.\n",
    "* Šaltinis: [Facebook mokytojų grupė](https://www.facebook.com/groups/232147140177466/posts/9629691323756287/)\n",
    "* Sudarė: Nojus Jokūbaitis"
   ]
  },
  {
   "cell_type": "markdown",
   "id": "ba665551-89db-44fd-9c47-864a6fa91371",
   "metadata": {},
   "source": [
    "Užduotys bus [atskirame faile](PUPP.Nojus.Jokūbaitis.pdf)"
   ]
  }
 ],
 "metadata": {
  "kernelspec": {
   "display_name": "Python 3 (ipykernel)",
   "language": "python",
   "name": "python3"
  },
  "language_info": {
   "codemirror_mode": {
    "name": "ipython",
    "version": 3
   },
   "file_extension": ".py",
   "mimetype": "text/x-python",
   "name": "python",
   "nbconvert_exporter": "python",
   "pygments_lexer": "ipython3",
   "version": "3.12.7"
  }
 },
 "nbformat": 4,
 "nbformat_minor": 5
}
