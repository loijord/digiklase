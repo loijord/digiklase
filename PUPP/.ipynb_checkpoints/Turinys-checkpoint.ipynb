{
 "cells": [
  {
   "cell_type": "markdown",
   "id": "0c80cd31-c6c0-4b72-b3a4-b35d305e4f2a",
   "metadata": {},
   "source": [
    "[Formulynas](formulynas.png)"
   ]
  },
  {
   "cell_type": "markdown",
   "id": "c8c1db32-ae6f-45a0-8bcf-235d937b62c4",
   "metadata": {},
   "source": [
    "* [PUPP 2025 metų oficialus bandomasis](PUPP_pavyzdžiai/PUPP_2025b/PUPP_2025b.ipynb)  \n",
    "* [PUPP 2025 metų neoficialus bandomasis Nr. 1](PUPP_pavyzdžiai/PUPP_2025b1/PUPP_2025b1.ipynb)  \n",
    "* [PUPP 2025 metų neoficialus bandomasis Nr. 2](PUPP_pavyzdžiai/PUPP_2025bn/PUPP_2025bn.ipynb)  "
   ]
  }
 ],
 "metadata": {
  "kernelspec": {
   "display_name": "Python 3 (ipykernel)",
   "language": "python",
   "name": "python3"
  },
  "language_info": {
   "codemirror_mode": {
    "name": "ipython",
    "version": 3
   },
   "file_extension": ".py",
   "mimetype": "text/x-python",
   "name": "python",
   "nbconvert_exporter": "python",
   "pygments_lexer": "ipython3",
   "version": "3.12.7"
  }
 },
 "nbformat": 4,
 "nbformat_minor": 5
}
