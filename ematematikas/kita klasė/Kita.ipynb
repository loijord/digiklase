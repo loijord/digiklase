{
 "cells": [
  {
   "cell_type": "markdown",
   "id": "f2ad4328-759a-4959-ba95-18212d1dc19b",
   "metadata": {},
   "source": [
    "$\\begin{cases} \\dfrac{8}{25} = \\dfrac{6xy+x^2}{8y^2} \\\\ 6y + 2x = 17 \\end{cases} \\Leftrightarrow \\begin{cases} 25(6xy+x^2) = 64y^2 \\\\ 3y + x = 8.5 \\end{cases}$\n",
    "\n",
    "Jeigu išreiškiame nežinomuosius iš antros lygties:\n",
    "\n",
    "* $\\boxed{6y + 2x = 17} \\Leftrightarrow \\boxed{y = \\frac{17-2x}{6}}$, tada pirmoje lygtyje gausime:  \n",
    "  $25(6x\\cdot \\frac{17-2x}{6}+x^2) = 64\\left(\\frac{17-2x}{6}\\right)^2$  \n",
    "  $25(x(17-2x)+x^2) = \\frac{64}{36}(17-2x)^2$  \n",
    "  $25(17x-x^2) = \\frac{16}{9}(289-68x+4x^2)$  \n",
    "  $225(17x-x^2) = 16(289-68x+4x^2)$  \n",
    "  $3825x-225x^2 = 4624 - 1088x + 64x^2$  \n",
    "  $289x^2 - 4913x + 4624 = 0 |:289$  \n",
    "  $x^2 - 17x + 16 = 0$  \n",
    "  $(x-1)(x-16)=0$  \n",
    "  $x_1=1 \\quad x_2=16$ (iš čia $y_1 = 2.5,y_2 = -2.5$)\n",
    "\n",
    "* $\\boxed{6y + 2x = 17} \\Leftrightarrow \\boxed{x = 8.5 - 3y}$, tada pirmoje lygtyje gausime:  \n",
    "  $25(6y(8.5 - 3y)+(8.5 - 3y)(8.5 - 3y)) = 64y^2$  \n",
    "  $25(8.5 - 3y)(8.5 + 3y) = 64y^2$  \n",
    "  $25(8.5^2-9y^2) = 64y^2$  \n",
    "  $25\\cdot 8.5^2 - 225y^2= 64y^2$  \n",
    "  $25\\cdot 8.5^2 = 289y^2$  \n",
    "  $(17y)^2 = (5\\cdot 8.5)^2$  \n",
    "  $17y = \\pm 5\\cdot 8.5 $  \n",
    "  $y = \\pm 2.5$\n",
    "\n",
    "Jeigu išreiškiame nežinomuosius iš pirmos lygties $\\boxed{25(6xy+x^2) = 64y^2}$, yra keli būdai, kaip rasti $\\frac{x}{y}$ reikšmę:\n",
    "* 1 būdas:  \n",
    "  $25(6xy+x^2) = 64y^2 |:xy\\, (x,y\\neq 0)$  \n",
    "  $25(6+\\dfrac{x}{y}) = 64\\dfrac{y}{x}$\n",
    "  \n",
    "  Jei imame keitinį $t=\\dfrac{x}{y}:$  \n",
    "  $25(6+t) = \\dfrac{64}{t}$  \n",
    "  $25t^2 + 150t - 64 = 0$  \n",
    "  $t_1 = 0.4, t_2 = -6.4$\n",
    "\n",
    "  Jei imame keitinį $t=\\dfrac{y}{x}:$  \n",
    "  $25(6+\\frac{1}{t}) = 64t$  \n",
    "  $64t^2 - 150t - 25 = 0$  \n",
    "  $t_1 = 2.5, t_2 = -\\frac{5}{32}$  \n",
    "\n",
    "* 2 būdas. Lygtis vadinama homogeniška, jei pakeitus $(x,y) \\to (kx, ky)$ nesikeičia sprendinių aibė.  \n",
    "Pastebime, kad pakeitę $(x,y) \\to (kx, ky)$ gausime ekvivalenčią lygtį, todėl taip ir yra.  \n",
    "Todėl nemažinant bendrumo, galime parinkti norimą $k$\n",
    "  * Jei parenkame tokį $k$, kad $x=1$, tai:  \n",
    "    $\\boxed{25(6y+1) = 64y^2} \\Leftrightarrow \\boxed{64y^2 - 150y - 25 = 0}$ (prieš tai turėta lygtis, $y_1 = 2.5, y_2 = -\\frac{5}{32}$)\n",
    "    Iš čia $(x,y) = (k, 2.5k)$\n",
    "  * Jei parenkame tokį $k$, kad $y=1$, tai:\n",
    "     $\\boxed{25(6x+x^2) = 64} \\Leftrightarrow \\boxed{25x^2 + 150x - 64 = 0}$ (prieš tai turėta lygtis, $x_1 = 0.4, x_2 = -6.4$)\n",
    "    Iš čia $(x,y) = (0.4k, k)$\n",
    "      \n",
    "Abiem atvejais santykis $\\dfrac{x}{y}$ vienodas nepriklausomai nuo to, kokiu sprendimo būdu pasirinkome spręsti."
   ]
  },
  {
   "cell_type": "markdown",
   "id": "22644de3-e19a-46a6-bb85-83d007e3540c",
   "metadata": {},
   "source": [
    "Formulė:  \n",
    "$\\displaystyle S_n=\\frac{b_1q^n-b_1}{q-1}$  \n",
    "Išvedimas:  \n",
    "$\\begin{aligned}[t]\n",
    "S_n &= b_1+b_2+b_3...+b_n =& \\\\\n",
    "&= b_1+b_1q+b_1q^2+...+b_1q^{n-1} =& \\\\\n",
    "&=b_1(1+q+q^2+\\dots q^{n-1}) =& \\\\\n",
    "&=b_1\\left(\\frac{q^n-1}{q-1}\\right)& \\\\\n",
    "\\end{aligned}$\n",
    "\n",
    "Paaiškinimas: $(q-1)(1+q+q^2+\\dots q^{n-1}) = \n",
    "\\begin{array}{||l|l|l|l|l|l|}\\hline\n",
    "& 1 & q & q^2 & \\dots & q^{n-2} & q^{n-1} \\\\ \\hline\n",
    "q & \\cancel{q} & \\cancel{q^2} & \\cancel{q^3} & \\dots & \\cancel{q^{n-1}} & q^{n} \\\\\n",
    "-1& -1 & \\cancel{-q} & \\cancel{-q^2} & \\dots & \\cancel{-q^{n-2}} & \\cancel{-q^{n-1}} \\\\ \\hline\n",
    "\\end{array}$"
   ]
  },
  {
   "cell_type": "markdown",
   "id": "712d3cb2-60aa-4efb-9b03-d19875705b2f",
   "metadata": {},
   "source": [
    "$\\begin{cases} b_2=b_1q \\\\ b_2=1 \\\\ b_1\\left(\\dfrac{q^5-1}{q-1}\\right)=15.5\\end{cases} \\Rightarrow \\dfrac{1}{q}\\cdot\\left(\\dfrac{q^5-1}{q-1}\\right)=15.5$  \n",
    "Pirmas būdas.  \n",
    "$\\dfrac{1}{q}\\cdot\\left(\\dfrac{q^5-1}{q-1}\\right) = 15.5$. Atspėjame, kad $q=2$\n",
    "\n",
    "Antras būdas\n",
    "\n",
    "$\\dfrac{1}{q}\\cdot\\left(\\dfrac{q^5-1}{q-1}\\right) = \\frac{1}{q}(1+q+q^2+q^3+q^4) = \\frac{1}{q}+1+q+q^2+q^3$  \n",
    "$\\frac{1}{q}+1+q+q^2+q^3=15.5$  \n",
    "$1+q+q^2+q^3+q^4=15.5q$  \n",
    "$1-14.5q+q^2+q^3+q^4=0$  \n",
    "$(q^3 + 3 q^2 + 7 q - 0.5)(q - 2) = 0$  \n",
    "$((q+1)^3 + 4(q+1) - 5.5)(q-2) = 0,\\quad x=q+1$  \n",
    "$(x^3 + 4x - 5.5)(q-2) = 0$  \n",
    "$0.5(2x^3 + 8x - 11)(q-2)=0$   "
   ]
  },
  {
   "cell_type": "markdown",
   "id": "09732afb-932a-43c3-8f78-84024e960a34",
   "metadata": {},
   "source": [
    "$\\begin{cases}x\\quad - \\quad \\text{kiek picų nusipirko}\\\\ y \\quad - \\quad \\text{kokia picos kaina}\\end{cases}$  \n",
    "\n",
    "$\\begin{cases}xy=1024 \\\\ (x-5)(y+3.2)=1200\\end{cases} \\Leftrightarrow \\begin{cases}xy=1024 \\\\ 1024 + 3.2x-5y-16=1200\\end{cases} \\Leftrightarrow \\begin{cases}xy=1024 \\\\ 3.2x-5y=192\\end{cases}$\n",
    "\n",
    "Įvedame keitinius $x=5a$, $y=-3.2b$. Tada sistemą galima sutvarkyti iki  \n",
    "$\\begin{cases} ab = -64 \\\\ a+b=12\\end{cases}$  \n",
    "Pagal Vijeto teoremą $a$ ir $b$ yra lygties $t^2-12t-64=0$ aprendiniai (galima tokią pat lygtį išvesti ir be Vijeto teoremos).  \n",
    "Sprendiniai lygūs $16$ ir $-4$. Tuomet $x=5\\cdot 16=80$ ir $y=-3.2\\cdot (-4)=12.8$ (kita tvarka imti negalime, nes turi gautis teigiamos reikšmės)"
   ]
  },
  {
   "cell_type": "code",
   "execution_count": null,
   "id": "5adc5e9d-aab7-40a2-831c-7d072daddcfd",
   "metadata": {},
   "outputs": [],
   "source": []
  }
 ],
 "metadata": {
  "kernelspec": {
   "display_name": "Python 3 (ipykernel)",
   "language": "python",
   "name": "python3"
  },
  "language_info": {
   "codemirror_mode": {
    "name": "ipython",
    "version": 3
   },
   "file_extension": ".py",
   "mimetype": "text/x-python",
   "name": "python",
   "nbconvert_exporter": "python",
   "pygments_lexer": "ipython3",
   "version": "3.12.7"
  }
 },
 "nbformat": 4,
 "nbformat_minor": 5
}
