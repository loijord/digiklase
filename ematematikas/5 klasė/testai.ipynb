{
 "cells": [
  {
   "cell_type": "markdown",
   "id": "6c90bafc-c3e3-4fa5-8574-f85a9f299bc2",
   "metadata": {},
   "source": [
    "## Natūralieji skaičiai ★★☆\n",
    "1\\. Skaičių $42$ mln. $35$ tūkst. $2$ užrašykite skaitmenimis.  \n",
    "2\\. Duotas skaičius $703402569$. Tegul:  \n",
    "* $a$ – šio skaičiaus milijonų klasės dešimčių skyriaus skaitmuo, \n",
    "* $b$ – šio skaičiaus tūkstančių klasės vienetų skyriaus skaitmuo, \n",
    "* $c$ – šio skaičiaus vienetų klasės šimtų skyriaus skaitmuo.\n",
    "  \n",
    "Nurodykite $a+b+c$ reikšmę.  \n",
    "3\\. Kuriuo atveju skaičius $58020$ teisingai užrašytas jo skaitmenų skyrių suma?  \n",
    "    $\\begin{array}{l{\\quad}l{\\quad}}\n",
    "\\boxed{A}\\, 5\\cdot 10000+8\\cdot 1000+2\\cdot 100 & \n",
    "\\boxed{B}\\, 5\\cdot 10000+8\\cdot 1000+2\\cdot 10 \\\\ \n",
    "\\boxed{C}\\, 5\\cdot 1000+8\\cdot 100+2 & \n",
    "\\boxed{D}\\, 58\\cdot 1000+ 20\n",
    "\\end{array}$  \n",
    "4\\. Apskaičiuokite: $9\\cdot 100000+7\\cdot 100+4$.  \n",
    "5\\. Skaičių $14625$ suapvalinkite iki tūkstančių, o skaičių $14843$ suapvalinkite iki šimtų. Kuris teiginys apie gautus skaičius yra teisingas?\n",
    "$\\begin{array}{l{\\quad}l{\\quad}}\n",
    "\\boxed{A}\\, \\text{Pirmasis skaičius mažesnis už $15000$} & \n",
    "\\boxed{B}\\, \\text{Pirmasis skaičius mažesnis už $14800$} \\\\\n",
    "\\boxed{C}\\, \\text{Pirmasis skaičius mažesnis už antrąjį} & \n",
    "\\boxed{D}\\, \\text{Pirmasis skaičius didesnis už antrąjį} \n",
    "\\end{array}$  \n",
    "6\\. Parašykite didžiausią natūralųjį skaičių, kurį suapvalinus iki dešimčių gautume $1940$.  \n",
    "7\\. Duoti skaičiai: $147$, $539$, $590$, $660$, $945$, $3348$, $35142$. Kuriame iš pateiktų variantų teisingai pateikti įvardytų požymių dažniai?  \n",
    "$\\begin{array}{|l|l|l|l|l|l|}\n",
    "\\hline & \\text{Dalus iš 2} & \\text{Dalus iš 3} & \\text{Dalus iš 5} & \\text{Dalus iš 9} & \\text{Dalus iš 10} \\\\ \\hline\n",
    "\\text{Variantas }\\boxed{A} &4&5&3&2&2 \\\\ \\hline \n",
    "\\text{Variantas }\\boxed{B} &1&0&1&0&2 \\\\ \\hline \n",
    "\\text{Variantas }\\boxed{C} &4&5&1&2&2 \\\\ \\hline \n",
    "\\text{Variantas }\\boxed{D} &1&0&3&1&2 \\\\ \\hline \n",
    "\\end{array}$  \n",
    "8\\. Vietoje žvaigždučių įrašykite skaitmenis, jog skaičius $4★8★$ dalintųsi iš $2$, $5$ ir $9$. Atsakyme nurodykite visą skaičių.  \n",
    "9\\. Raskite skaičiaus $84$ daliklių sumą.  \n",
    "10\\. Raskite skaičiaus $14$ kartotinių, kurie būtų didesni už $40$, bet mažesni už $200$, skaičių.  \n",
    "11\\. Kuri skaičių pora turi didžiausią bendrąjį daliklį?  \n",
    "$\\begin{array}{l{\\quad}l{\\quad}l{\\quad}l}\n",
    "\\boxed{A} 40\\text{ ir }55 &\n",
    "\\boxed{B} 12\\text{ ir }60 &\n",
    "\\boxed{C} 36\\text{ ir }54 &\n",
    "\\boxed{D} 27\\text{ ir }63\n",
    "\\end{array}$  \n",
    "12\\. Raskite skaičių $16$ ir $20$ mažiausią bendrąjį kartotinį.  \n",
    "13\\. Duoti skaičiai: $1$, $5$, $9$, $10$, $13$, $16$, $18$, $21$, $23$, $31$. Keli iš šių skaičių yra pirminiai ir keli sudėtiniai?  \n",
    "14\\. Skaičių $252$ išskaidykite pirminiais dauginamaisiais. Apskaičiuokite šių dauginamųjų sumą.  \n",
    "15\\. Du autobusai išvažiuoja iš tos pačios stotelės tuo pačiu metu skirtingais maršrutais. Pirmasis į tą pačią stotelę grįžta po $30\\,\\text{min}$, tada stovi joje $10\\,\\text{min}$ ir vėl kartoja savo maršrutą užtrukdamas tiek pat laiko ir darydamas tokio pat ilgio pertrauką grįžęs. Antrasis autobusas į tą pačią stotelę grįžta po $25\\,\\text{min}$, tada stovi joje $5\\,\\text{min}$ ir taip pat vėl kartoja savo maršrutą užtrukdamas tiek pat laiko ir darydamas tokio pat ilgio pertrauką grįžęs. Po kiek minučių autobusai iš pradinės stotelės išvažiuos tuo pačiu metu?  \n",
    "16\\. Turima $154$ vienos rūšies ir $165$ kitos rūšies saldainių. Šie saldainiai pakuojami į dėžutes taip, kad kiekvienoje jų būtų vienodas vienos ir vienodas kitos rūšies saldainių kiekis. Žinoma, jog pakuojant buvo panaudotas didžiausias įmanomas dėžučių skaičius ir neliko nesupakuotų saldainių. Kiek saldainių yra vienoje dėžutėje?"
   ]
  },
  {
   "cell_type": "markdown",
   "id": "4f4417ca-423a-488f-a009-f6a4411cbecc",
   "metadata": {},
   "source": [
    "## Veiksmai su natūraliaisiais skaičiais ★☆☆\n",
    "1\\. Parašykite skaitmenimis skaičių *šimtas milijonų šimtas vienas*.  \n",
    "2\\. Parašykite mažiausią penkiaženklį skaičių, kurio visi skaitmenys yra skirtingi.  \n",
    "3\\. Iš mažiausio keturženklio skaičiaus atimkite didžiausią triženklį skaičių. Kokį skirtumą gavote?  \n",
    "4\\. Iš mažiausio keturženklio skaičiaus, užrašyto skirtingais skaitmenimis, atimkite didžiausią triženklį skaičių, užrašytą skirtingais skaitmenimis. Kokį skirtumą gavote?  \n",
    "5\\. Dviejų, vienas po kito einančių, skaičių suma yra $187$. Nurodykite mažesnįjį iš tų skaičių.  \n",
    "6\\. Keliais vienetais sumažėtų skaičius $23571$, jei nubrauktume penketą?  \n",
    "7\\. Matas turi kortelių, sunumeruotų nuo $78$ iki $125$ imtinai. Kiek kortelių turi Matas?  \n",
    "8\\. Sekretorė per $5$ minutes parašo $92$ žodžius. Kiek žodžių ji parašytų per $1$ valandą?  \n",
    "9\\. Kiek vienetų reikia pridėti prie skaičiaus $215$, kad jis patrigubėtų?  \n",
    "10\\. $80$ kilogramų miltų reikia supilstyti į pakelius po 400 gramų. Kiek pakelių gausime?  \n",
    "11\\. Dviratininkas stadiono ratą apvažiuoja per $40$ sekundžių. Kiek ratų jis apvažiuos per $16$ minučių?  \n",
    "12\\. Jonas sugalvojo skaičių, tada jį padaugino iš $5$. Tuomet prie gautos sandaugos pridėjo $80$. Gautą sumą padalijo iš $2$ ir gavo $50$. Kokį skaičių sugalvojo Jonas?  "
   ]
  },
  {
   "cell_type": "markdown",
   "id": "48c30911-fbb0-41cf-9a85-b8afbaa4eda8",
   "metadata": {},
   "source": [
    "## Skaičių dalumas ★☆☆\n",
    "Waiting for updates..."
   ]
  },
  {
   "cell_type": "markdown",
   "id": "ed969499-13a1-4366-af7e-9c3196e31baf",
   "metadata": {},
   "source": [
    "## Skaičių dalumas ★★★\n",
    "Waiting for updates..."
   ]
  },
  {
   "cell_type": "markdown",
   "id": "d72cc756-8464-4e4f-bd7e-f133fe2aa4f5",
   "metadata": {},
   "source": [
    "## Matavimo vienetai ★☆☆\n",
    "1\\. Paversk $23000\\,\\text{mm}$ į decimetrus.  \n",
    "2\\. Paversk $0.15\\,\\text{m}$ į milimetrus.  \n",
    "3\\. Paversk $467000\\,\\text{cm}$ į kilometrus.  \n",
    "4\\. Paversk $0.45\\,\\text{cnt}$ į gramus.  \n",
    "5\\. Paversk $15000\\,\\text{g}$ į tonas.  \n",
    "6\\. Paversk $200\\,\\text{cm}^2$ į kvadratinius decimetrus.  \n",
    "7\\. Paversk $10500\\,\\text{cm}^2$ į kvadratinius metrus.  \n",
    "8\\. Paversk $0.35\\,\\text{km}^2$ į kvadratinius metrus.  \n",
    "9\\. Paversk $1050\\,\\text{m}^2$ į arus.  \n",
    "10\\. Paversk $1050\\,\\text{m}^2$ į hektarus.  \n",
    "11\\. Žemėlapio mastelis $1:20000$. Koks tikrasis atstumas tarp miestų, jeigu žemėlapyje jis lygus $7\\,\\text{cm}$?  \n",
    "12\\. Atstumas tarp miestų yra lygus $150\\,\\text{km}$, o žemėlapyje - $3\\,\\text{cm}$. Koks žemėlapio mastelis?"
   ]
  },
  {
   "cell_type": "markdown",
   "id": "65c915bb-d398-449a-b21b-31590ad90825",
   "metadata": {
    "jp-MarkdownHeadingCollapsed": true
   },
   "source": [
    "## Laikrodis ir kampai ★★☆\n",
    "1\\. Kokį kampą sudaro laikrodžio minutinė ir valandinė rodyklės, jei laikrodis rodo 14 h 35 min?  \n",
    "$\\begin{array}{l{\\quad}l{\\quad}l{\\quad}l{\\quad}}\n",
    "\\enclose{circle}{A}\\, \\text{Statųjį} &\n",
    "\\enclose{circle}{B}\\, \\text{Smailųjį} &\n",
    "\\enclose{circle}{C}\\, \\text{Bukąjį} &\n",
    "\\enclose{circle}{D}\\, \\text{Ištiestinį}\n",
    "\\end{array}$  \n",
    "2\\. Kuriuo laiku kampas tarp minutinės ir valandinės rodyklių yra statusis?  \n",
    "$\\begin{array}{l{\\quad}l{\\quad}l{\\quad}l{\\quad}}\n",
    "\\enclose{circle}{A}\\, 2\\,\\text{h}\\,00\\,\\text{min} &\n",
    "\\enclose{circle}{B}\\, 3\\,\\text{h}\\,00\\,\\text{min} &\n",
    "\\enclose{circle}{C}\\, 4\\,\\text{h}\\,00\\,\\text{min} &\n",
    "\\enclose{circle}{D}\\, 5\\,\\text{h}\\,00\\,\\text{min}\n",
    "\\end{array}$  \n",
    "3\\. Kuriuo laiku kampas tarp minutinės ir valandinės rodyklių yra mažiausias?  \n",
    "$\\begin{array}{l{\\quad}l{\\quad}l{\\quad}l{\\quad}}\n",
    "\\enclose{circle}{A}\\, 11\\,\\text{h}\\,15\\,\\text{min} &\n",
    "\\enclose{circle}{B}\\, 12\\,\\text{h}\\,25\\,\\text{min} &\n",
    "\\enclose{circle}{C}\\, 14\\,\\text{h}\\,20\\,\\text{min} &\n",
    "\\enclose{circle}{D}\\, 15\\,\\text{h}\\,10\\,\\text{min}\n",
    "\\end{array}$  \n",
    "4\\. Per kiek minučių minutinė rodyklė pasisuka $60^{\\circ}$ kampu?  \n",
    "5\\. Kokiu kampu pasisuka valandinė rodyklė praėjus $5$ valandoms?  \n",
    "6\\. Kokiu kampu pasisuks valandinė rodyklė praėjus $2\\,\\text{h}\\,30\\,\\text{min}$?  \n",
    "7\\. Kokio dydžio kampą sudaro minutinė ir valandinės rodyklės, kai laikrodis rodo $16:00$  \n",
    "8\\. Kokio dydžio kampą sudaro minutinė ir valandinės rodyklės, kai laikrodis rodo $15:30$   \n",
    "9\\. Kokio dydžio kampu pasisuka minutinė rodyklė praėjus $1$ minutei?  \n",
    "10\\. Kokio dydžio kampu pasisuka valandinė rodyklė praėjus $6$ minutėms?"
   ]
  },
  {
   "cell_type": "markdown",
   "id": "74972fa6-77fc-48a6-a101-3fd43dca1d31",
   "metadata": {},
   "source": [
    "## Trikampiai ir keturkampiai ★★☆\n",
    "1\\. Kiek skirtingų trikampių įžiūri žemiau pateiktame brėžinyje? Atsakyme nurodyk jų skaičių.  \n",
    "<img src=\"../images/5_4_1.png\" width=\"200\"/>  \n",
    "2\\. Rask trikampio, kurio kraštinių ilgiai yra $8\\,\\text{cm}$, $1\\,\\text{dm}$, ir $40\\,\\text{mm}$, perimetrą. Užrašyk jį centimetrais.  \n",
    "3\\. Pagal žemiau pateikto brėžinio duomenis, nurodyk kampo $x$ dydį.  \n",
    "<img src=\"../images/5_4_3.png\" width=\"200\"/>  \n",
    "4\\. Pagal žemiau pateikto brėžinio duomenis, nurodyk kampo $x$ dydį.  \n",
    "<img src=\"../images/5_4_4.png\" width=\"200\"/>  \n",
    "5\\. Pagal žemiau pateikto brėžinio duomenis, nurodyk kampo $x$ dydį.  \n",
    "<img src=\"../images/5_4_5.png\" width=\"200\"/>  \n",
    "6\\. Pagal žemiau pateikto brėžinio duomenis, nurodyk kampo $x$ dydį.  \n",
    "<img src=\"../images/5_4_6.png\" width=\"200\"/>  \n",
    "7\\. Pagal žemiau pateikto brėžinio duomenis, nurodyk kampo $x$ dydį.  \n",
    "<img src=\"../images/5_4_7.png\" width=\"200\"/>  \n",
    "8\\. Stačiakampio perimetras lygus $42$. Rask šio stačiakampio ilgį, jeigu jo plotis yra lygus $9$.  \n",
    "9\\. Surask žemiau pavaizduotos figūros perimetrą.  \n",
    "<img src=\"../images/5_4_9.png\" width=\"200\"/>  \n",
    "10\\. Surask žemiau pavaizduotos figūros perimetrą.  \n",
    "<img src=\"../images/5_4_10.png\" width=\"200\"/>  \n",
    "11\\. Turime kvadratą, kurio perimetras yra lygus $28\\,\\text{cm}$. Kiek centimetrų padidės šio kvadrato perimetras, jeigu jo kraštinę padidinsime $2\\,\\text{cm}$?  \n",
    "12\\. Surask žemiau pavaizduotos figūros perimetrą.  \n",
    "<img src=\"../images/5_4_12.png\" width=\"200\"/>"
   ]
  },
  {
   "cell_type": "markdown",
   "id": "b41c0e7a-2683-4502-82ce-d4e8adafa2ad",
   "metadata": {},
   "source": [
    "## Figūrų plotai ★★☆\n",
    "1\\. Kam lygus kvadrato, kurio perimetras lygus 80 mm, plotas?  \n",
    "2\\. Rask kvadrato perimetrą, kai jo plotas yra lygus 144 kvadratiniams vienetams.  \n",
    "3\\. Vieno kvadrato plotas lygus 25, o kito - 49. Keliais vienetais vieno kvadrato perimetras didesnis už kito kvadrato perimetrą?  \n",
    "4\\. Kiek kartų padidės kvadrato plotas, jeigu jo kraštinę padidinsime tris kartus?  \n",
    "5\\. Stačiakampio ilgis lygus 9, o plotis - 4. Šio stačiakampio plotas lygus kvadrato plotui. Raskite šio kvadrato perimetrą.  \n",
    "6\\. Namo sienos plotas lygus 30 m². Vienos plytelės matmenys yra 30cm x 20cm. Kiek plytelių prireiktų, norint išklijuoti jomis visą sieną?  \n",
    "7\\. Sodo sklypo matmenys yra 3000cm x 200dm. Raskite šio sklypo plotą arais.  \n",
    "8\\. Aplink kvadrato formos gėlyną, kurio plotas lygus 81 m², eina 1 m pločio takelis. Raskite šio takelio plotą.   \n",
    "<img src=\"../images/5_5_8.png\" width=\"120\"/>  \n",
    "9\\. Viename daržo kvadratiniame metre gali užaugti 80 morkų. Tarkime, kad viena morka sveria 150 gramų. Kiek tonų morkų užaugtų sklype, kurio matmenys yra 25m x 40m?  \n",
    "10\\. Rask pavaizduotos figūros plotą.  \n",
    "<img src=\"../images/5_5_10.png\" width=\"200\"/>  \n",
    "11\\. Rask pavaizduotos figūros plotą.  \n",
    "<img src=\"../images/5_5_11.png\" width=\"200\"/>  \n",
    "12\\. Rask pavaizduotos figūros nuspalvintos dalies plotą.  \n",
    "<img src=\"../images/5_5_12.png\" width=\"120\"/>"
   ]
  },
  {
   "cell_type": "markdown",
   "id": "abd375a6-703c-4856-a2d3-0f4931a198cb",
   "metadata": {},
   "source": [
    "## Lygtys ir reiškiniai ★★☆\n",
    "1\\. Rask lygties $x+15=38$ sprendinį.  \n",
    "2\\. Rask lygties $x-48=81$ sprendinį.  \n",
    "3\\. Rask lygties $x:19=0$ sprendinį.  \n",
    "4\\. Rask lygties $3\\cdot x-11=49$ sprendinį.  \n",
    "5\\. Rask lygties $x:5+12=33$ sprendinį.  \n",
    "6\\. Rask lygties $x-42\\cdot 7=49$ sprendinį.  \n",
    "7\\. Rask lygties $x:(5+6)=42$ sprendinį.  \n",
    "8\\. Rask lygties $123+x:4=179$ sprendinį.  \n",
    "9\\. Rask lygties $42⋅(x−7)=168$ sprendinį.  \n",
    "10\\. Rask lygties $440−108:x=404$ sprendinį.  \n",
    "11\\. Apskaičiuok reiškinio $a\\cdot b−a:b$ reikšmę, kai $a=80$, o $b=20$.  \n",
    "12\\. Tomas sugalvojo skaičių, tuomet jį sumažino $4$ kartus, iš gauto rezultato atėmė $5$ ir gavo $10$. Kokį skaičių sugalvojo Tomas?  \n",
    "13\\. Rask duotojo stačiakampio plotą, kai jo perimetras lygus $28\\,\\text{cm}$.  \n",
    "<img src=\"../images/5_6_13.png\" width=\"200\"/>   \n",
    "14\\. Ūkyje auga $14$ žąsų ir $18$ avių. Kiek iš viso kojų turi visi šio ūkio augintiniai?  \n",
    "15\\. Rask nežinomojo $x$ reikšmę, kai duotosios figūros plotas yra lygus $26$ ploto vienetams.  \n",
    "<img src=\"../images/5_6_15.png\" width=\"200\"/>"
   ]
  },
  {
   "cell_type": "markdown",
   "id": "adb81ddf-be8f-4e4e-9b92-23a65a6ce2c5",
   "metadata": {},
   "source": [
    "## Trupmenos ir procentai ★☆☆\n",
    "1\\. Kurios iš pateiktų trupmenų vardiklis 2 vienetais didesnis už skaitiklį?  \n",
    "$\\begin{array}{l{\\quad}l{\\quad}l{\\quad}l{\\quad}}\n",
    "\\enclose{circle}{A}\\, \\frac{7}{5}&\n",
    "\\enclose{circle}{B}\\, \\frac{8}{4}&\n",
    "\\enclose{circle}{C}\\, \\frac{4}{8}&\n",
    "\\enclose{circle}{D}\\, \\frac{3}{5}\n",
    "\\end{array}$  \n",
    "2\\. Trupmeną $2\\frac{3}{10}$ paverskite dešimtainiu skaičiumi.  \n",
    "3\\. Kiek sekundžių sudaro $\\frac{1}{4}$ valandos?  \n",
    "4\\. Kiek sekundžių sudaro $0.2$ valandos?  \n",
    "5\\. Mykolas turi $48$ saldainius. Pirmą savaitę jis suvalgė $\\frac{1}{3}$ visų saldainių, o antrąją savaitę - $\\frac{3}{8}$ visų saldainių. Kiek saldainių jam liko?  \n",
    "6\\. Turistų grupė per tris dienas nuėjo $120\\,\\text{km}$. Pirmą dieną jie nuėjo $\\frac{3}{8}$ viso kelio, o antrąją - $\\frac{3}{5}$ likusio kelio. Kiek kilometrų turistai nuėjo trečią dieną?  \n",
    "7\\. Apskaičiuok $75\\%$ skaičiaus $300$?  \n",
    "8\\. Klasėje yra $30$ mokinių. $60\\%$ jų sudaro berniukai. Kiek klasėje mergaičių?  \n",
    "9\\. Mokykloje mokosi $500$ moksleivių. Didžioji jų dalis lanko būrelius: $40\\%$ - sportą, $25\\%$ - šokius, $17\\%$ - dailę, $12\\%$ - kalbų kursus, $1\\%$ - teatrą. Kiek moksleivių nelanko jokių būrelių?  \n",
    "10\\. Rinkimų dieną balsuoti atėjo $40\\%$ rinkėjų. $60\\%$ jų nubalsavo už pirmąjį kandidatą. Kiek žmonių nubalsavo už antrąjį kandidatą, jeigu rinkimų apylinkėje yra $3000$ žmonių?"
   ]
  },
  {
   "cell_type": "markdown",
   "id": "219bb123-57bd-4b9c-9b58-88b72888fb04",
   "metadata": {},
   "source": [
    "## Dešimtainės trupmenos ★☆☆\n",
    "1\\. Kiek natūraliųjų skaičių patenka tarp skaičių $2.4$ ir $11.7$?  \n",
    "2\\. Suapvalink skaičių $1.4559$ iki šimtųjų.  \n",
    "3\\. Trupmeną $3\\frac{51}{1000}$ paversk dešimtaine ir atsakymą suapvalinkite iki dešimtųjų.  \n",
    "4\\. Kuriame skaičiaus $17.594$ skyriuje užrašytas skaitmuo $7$?  \n",
    "5\\. Skaičių, du šimtai sveikų ir trisdešimt dvi tūkstantosios, užrašykite dešimtaine trupmena.  \n",
    "6\\. Apskaičiuokite: $12\\,\\text{h}\\,40\\,\\text{min} - 5\\,\\text{h}\\,55\\,\\text{min}$.  \n",
    "7\\. Apskaičiuokite $(8.31-2.81):(3.23+6.77)$.  \n",
    "8\\. Į kiną buvo parduota $200$ bilietų po $3.5$ euro, $250$ bilietų po $4.5$ euro ir kažkiek bilietų po $5.5$ euro. Viso gauta $2100$ euro pajamų. Kiek bilietų buvo parduota po $5.5$ euro?  \n",
    "9\\. Raskite kvadrato plotą, kai jo perimetras lygus $8.4$.  \n",
    "10\\. Ūkininkas prikasė $217.44$ centnerių bulvių. $38$ jų ūkininkas žada parduoti, o likusias supilstyti į maišus po $0.45$ centnerio. Kiek maišų bulvių jis turės?  "
   ]
  }
 ],
 "metadata": {
  "kernelspec": {
   "display_name": "Python 3 (ipykernel)",
   "language": "python",
   "name": "python3"
  },
  "language_info": {
   "codemirror_mode": {
    "name": "ipython",
    "version": 3
   },
   "file_extension": ".py",
   "mimetype": "text/x-python",
   "name": "python",
   "nbconvert_exporter": "python",
   "pygments_lexer": "ipython3",
   "version": "3.12.7"
  }
 },
 "nbformat": 4,
 "nbformat_minor": 5
}
