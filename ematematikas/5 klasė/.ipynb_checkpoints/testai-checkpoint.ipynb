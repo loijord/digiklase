{
 "cells": [
  {
   "cell_type": "markdown",
   "id": "4f4417ca-423a-488f-a009-f6a4411cbecc",
   "metadata": {},
   "source": [
    "## Veiksmai su natūraliaisiais skaičiais ★☆☆\n",
    "1\\. Parašykite skaitmenimis skaičių *šimtas milijonų šimtas vienas*.  \n",
    "2\\. Parašykite mažiausią penkiaženklį skaičių, kurio visi skaitmenys yra skirtingi.  \n",
    "3\\. Iš mažiausio keturženklio skaičiaus atimkite didžiausią triženklį skaičių. Kokį skirtumą gavote?  \n",
    "4\\. Iš mažiausio keturženklio skaičiaus, užrašyto skirtingais skaitmenimis, atimkite didžiausią triženklį skaičių, užrašytą skirtingais skaitmenimis. Kokį skirtumą gavote?  \n",
    "5\\. Dviejų, vienas po kito einančių, skaičių suma yra $187$. Nurodykite mažesnįjį iš tų skaičių.  \n",
    "6\\. Keliais vienetais sumažėtų skaičius $23571$, jei nubrauktume penketą?  \n",
    "7\\. Matas turi kortelių, sunumeruotų nuo $78$ iki $125$ imtinai. Kiek kortelių turi Matas?  \n",
    "8\\. Sekretorė per $5$ minutes parašo $92$ žodžius. Kiek žodžių ji parašytų per $1$ valandą?  \n",
    "9\\. Kiek vienetų reikia pridėti prie skaičiaus $215$, kad jis patrigubėtų?  \n",
    "10\\. $80$ kilogramų miltų reikia supilstyti į pakelius po 400 gramų. Kiek pakelių gausime?  \n",
    "11\\. Dviratininkas stadiono ratą apvažiuoja per $40$ sekundžių. Kiek ratų jis apvažiuos per $16$ minučių?  \n",
    "12\\. Jonas sugalvojo skaičių, tada jį padaugino iš $5$. Tuomet prie gautos sandaugos pridėjo $80$. Gautą sumą padalijo iš $2$ ir gavo $50$. Kokį skaičių sugalvojo Jonas?  "
   ]
  },
  {
   "cell_type": "markdown",
   "id": "d72cc756-8464-4e4f-bd7e-f133fe2aa4f5",
   "metadata": {},
   "source": [
    "## Matavimo vienetai ★☆☆\n",
    "1\\. Paversk $23000\\,\\text{mm}$ į decimetrus.  \n",
    "2\\. Paversk $0.15\\,\\text{m}$ į milimetrus.  \n",
    "3\\. Paversk $467000\\,\\text{cm}$ į kilometrus.  \n",
    "4\\. Paversk $0.45\\,\\text{cnt}$ į gramus.  \n",
    "5\\. Paversk $15000\\,\\text{g}$ į tonas.  \n",
    "6\\. Paversk $200\\,\\text{cm}^2$ į kvadratinius decimetrus.  \n",
    "7\\. Paversk $10500\\,\\text{cm}^2$ į kvadratinius metrus.  \n",
    "8\\. Paversk $0.35\\,\\text{km}^2$ į kvadratinius metrus.  \n",
    "9\\. Paversk $1050\\,\\text{m}^2$ į arus.  \n",
    "10\\. Paversk $1050\\,\\text{m}^2$ į hektarus.  \n",
    "11\\. Žemėlapio mastelis $1:20000$. Koks tikrasis atstumas tarp miestų, jeigu žemėlapyje jis lygus $7\\,\\text{cm}$?  \n",
    "12\\. Atstumas tarp miestų yra lygus $150\\,\\text{km}$, o žemėlapyje - $3\\,\\text{cm}$. Koks žemėlapio mastelis?"
   ]
  },
  {
   "cell_type": "markdown",
   "id": "65c915bb-d398-449a-b21b-31590ad90825",
   "metadata": {},
   "source": [
    "## Laikrodis ir kampai ★★☆\n",
    "1\\. Kokį kampą sudaro laikrodžio minutinė ir valandinė rodyklės, jei laikrodis rodo 14 h 35 min?  \n",
    "$\\begin{array}{l{\\quad}l{\\quad}l{\\quad}l{\\quad}}\n",
    "\\enclose{circle}{A}\\, \\text{Statųjį} &\n",
    "\\enclose{circle}{B}\\, \\text{Smailųjį} &\n",
    "\\enclose{circle}{C}\\, \\text{Bukąjį} &\n",
    "\\enclose{circle}{D}\\, \\text{Ištiestinį}\n",
    "\\end{array}$  \n",
    "2\\. Kuriuo laiku kampas tarp minutinės ir valandinės rodyklių yra statusis?  \n",
    "$\\begin{array}{l{\\quad}l{\\quad}l{\\quad}l{\\quad}}\n",
    "\\enclose{circle}{A}\\, 2\\,\\text{h}\\,00\\,\\text{min} &\n",
    "\\enclose{circle}{B}\\, 3\\,\\text{h}\\,00\\,\\text{min} &\n",
    "\\enclose{circle}{C}\\, 4\\,\\text{h}\\,00\\,\\text{min} &\n",
    "\\enclose{circle}{D}\\, 5\\,\\text{h}\\,00\\,\\text{min}\n",
    "\\end{array}$  \n",
    "3\\. Kuriuo laiku kampas tarp minutinės ir valandinės rodyklių yra mažiausias?  \n",
    "$\\begin{array}{l{\\quad}l{\\quad}l{\\quad}l{\\quad}}\n",
    "\\enclose{circle}{A}\\, 11\\,\\text{h}\\,15\\,\\text{min} &\n",
    "\\enclose{circle}{B}\\, 12\\,\\text{h}\\,25\\,\\text{min} &\n",
    "\\enclose{circle}{C}\\, 14\\,\\text{h}\\,20\\,\\text{min} &\n",
    "\\enclose{circle}{D}\\, 15\\,\\text{h}\\,10\\,\\text{min}\n",
    "\\end{array}$  \n",
    "4\\. Per kiek minučių minutinė rodyklė pasisuka $60^{\\circ}$ kampu?  \n",
    "5\\. Kokiu kampu pasisuka valandinė rodyklė praėjus $5$ valandoms?  \n",
    "6\\. Kokiu kampu pasisuks valandinė rodyklė praėjus $2\\,\\text{h}\\,30\\,\\text{min}$?  \n",
    "7\\. Kokio dydžio kampą sudaro minutinė ir valandinės rodyklės, kai laikrodis rodo $16:00$  \n",
    "8\\. Kokio dydžio kampą sudaro minutinė ir valandinės rodyklės, kai laikrodis rodo $15:30$   \n",
    "9\\. Kokio dydžio kampu pasisuka minutinė rodyklė praėjus $1$ minutei?  \n",
    "10\\. Kokio dydžio kampu pasisuka valandinė rodyklė praėjus $6$ minutėms?"
   ]
  },
  {
   "cell_type": "markdown",
   "id": "74972fa6-77fc-48a6-a101-3fd43dca1d31",
   "metadata": {},
   "source": [
    "## Trikampiai ir keturkampiai ★★☆\n",
    "1\\. Kiek skirtingų trikampių įžiūri žemiau pateiktame brėžinyje? Atsakyme nurodyk jų skaičių.  \n",
    "<img src=\"../images/5_4_1.png\" width=\"200\"/>  \n",
    "2\\. Rask trikampio, kurio kraštinių ilgiai yra $8\\,\\text{cm}$, $1\\,\\text{dm}$, ir $40\\,\\text{mm}$, perimetrą. Užrašyk jį centimetrais.  \n",
    "3\\. Pagal žemiau pateikto brėžinio duomenis, nurodyk kampo $x$ dydį.  \n",
    "<img src=\"../images/5_4_3.png\" width=\"200\"/>  \n",
    "4\\. Pagal žemiau pateikto brėžinio duomenis, nurodyk kampo $x$ dydį.  \n",
    "<img src=\"../images/5_4_4.png\" width=\"200\"/>  \n",
    "5\\. Pagal žemiau pateikto brėžinio duomenis, nurodyk kampo $x$ dydį.  \n",
    "<img src=\"../images/5_4_5.png\" width=\"200\"/>  \n",
    "6\\. Pagal žemiau pateikto brėžinio duomenis, nurodyk kampo $x$ dydį.  \n",
    "<img src=\"../images/5_4_6.png\" width=\"200\"/>  \n",
    "7\\. Pagal žemiau pateikto brėžinio duomenis, nurodyk kampo $x$ dydį.  \n",
    "<img src=\"../images/5_4_7.png\" width=\"200\"/>  \n",
    "8\\. Stačiakampio perimetras lygus $42$. Rask šio stačiakampio ilgį, jeigu jo plotis yra lygus $9$.  \n",
    "9\\. Surask žemiau pavaizduotos figūros perimetrą.  \n",
    "<img src=\"../images/5_4_9.png\" width=\"200\"/>  \n",
    "10\\. Surask žemiau pavaizduotos figūros perimetrą.  \n",
    "<img src=\"../images/5_4_10.png\" width=\"200\"/>  \n",
    "11\\. Turime kvadratą, kurio perimetras yra lygus $28\\,\\text{cm}$. Kiek centimetrų padidės šio kvadrato perimetras, jeigu jo kraštinę padidinsime $2\\,\\text{cm}$?  \n",
    "12\\. Surask žemiau pavaizduotos figūros perimetrą.  \n",
    "<img src=\"../images/5_4_12.png\" width=\"200\"/>"
   ]
  },
  {
   "cell_type": "markdown",
   "id": "b41c0e7a-2683-4502-82ce-d4e8adafa2ad",
   "metadata": {},
   "source": [
    "## Figūrų plotai ★★☆\n",
    "1\\. Kam lygus kvadrato, kurio perimetras lygus 80 mm, plotas?  \n",
    "2\\. Rask kvadrato perimetrą, kai jo plotas yra lygus 144 kvadratiniams vienetams.  \n",
    "3\\. Vieno kvadrato plotas lygus 25, o kito - 49. Keliais vienetais vieno kvadrato perimetras didesnis už kito kvadrato perimetrą?  \n",
    "4\\. Kiek kartų padidės kvadrato plotas, jeigu jo kraštinę padidinsime tris kartus?  \n",
    "5\\. Stačiakampio ilgis lygus 9, o plotis - 4. Šio stačiakampio plotas lygus kvadrato plotui. Raskite šio kvadrato perimetrą.  \n",
    "6\\. Namo sienos plotas lygus 30 m². Vienos plytelės matmenys yra 30cm x 20cm. Kiek plytelių prireiktų, norint išklijuoti jomis visą sieną?  \n",
    "7\\. Sodo sklypo matmenys yra 3000cm x 200dm. Raskite šio sklypo plotą arais.  \n",
    "8\\. Aplink kvadrato formos gėlyną, kurio plotas lygus 81 m², eina 1 m pločio takelis. Raskite šio takelio plotą.   \n",
    "<img src=\"../images/5_5_8.png\" width=\"120\"/>  \n",
    "9\\. Viename daržo kvadratiniame metre gali užaugti 80 morkų. Tarkime, kad viena morka sveria 150 gramų. Kiek tonų morkų užaugtų sklype, kurio matmenys yra 25m x 40m?  \n",
    "10\\. Rask pavaizduotos figūros plotą.  \n",
    "<img src=\"../images/5_5_10.png\" width=\"200\"/>  \n",
    "11\\. Rask pavaizduotos figūros plotą.  \n",
    "<img src=\"../images/5_5_11.png\" width=\"200\"/>  \n",
    "12\\. Rask pavaizduotos figūros nuspalvintos dalies plotą.  \n",
    "<img src=\"../images/5_5_12.png\" width=\"120\"/>"
   ]
  },
  {
   "cell_type": "markdown",
   "id": "abd375a6-703c-4856-a2d3-0f4931a198cb",
   "metadata": {},
   "source": [
    "## Lygtys ir reiškiniai ★★☆\n",
    "1\\. Rask lygties $x+15=38$ sprendinį.  \n",
    "2\\. Rask lygties $x-48=81$ sprendinį.  \n",
    "3\\. Rask lygties $x:19=0$ sprendinį.  \n",
    "4\\. Rask lygties $3\\cdot x-11=49$ sprendinį.  \n",
    "5\\. Rask lygties $x:5+12=33$ sprendinį.  \n",
    "6\\. Rask lygties $x-42\\cdot 7=49$ sprendinį.  \n",
    "7\\. Rask lygties $x:(5+6)=42$ sprendinį.  \n",
    "8\\. Rask lygties $123+x:4=179$ sprendinį.  \n",
    "9\\. Rask lygties $42⋅(x−7)=168$ sprendinį.  \n",
    "10\\. Rask lygties $440−108:x=404$ sprendinį.  \n",
    "11\\. Apskaičiuok reiškinio $a\\cdot b−a:b$ reikšmę, kai $a=80$, o $b=20$.  \n",
    "12\\. Tomas sugalvojo skaičių, tuomet jį sumažino $4$ kartus, iš gauto rezultato atėmė $5$ ir gavo $10$. Kokį skaičių sugalvojo Tomas?  \n",
    "13\\. Rask duotojo stačiakampio plotą, kai jo perimetras lygus $28\\,\\text{cm}$.  \n",
    "<img src=\"../images/5_6_13.png\" width=\"200\"/>   \n",
    "14\\. Ūkyje auga $14$ žąsų ir $18$ avių. Kiek iš viso kojų turi visi šio ūkio augintiniai?  \n",
    "15\\. Rask nežinomojo $x$ reikšmę, kai duotosios figūros plotas yra lygus $26$ ploto vienetams.  \n",
    "<img src=\"../images/5_6_15.png\" width=\"200\"/>"
   ]
  },
  {
   "cell_type": "markdown",
   "id": "adb81ddf-be8f-4e4e-9b92-23a65a6ce2c5",
   "metadata": {},
   "source": [
    "## Trupmenos ir procentai ★☆☆\n",
    "1\\. Kurios iš pateiktų trupmenų vardiklis 2 vienetais didesnis už skaitiklį?  \n",
    "$\\begin{array}{l{\\quad}l{\\quad}l{\\quad}l{\\quad}}\n",
    "\\enclose{circle}{A}\\, \\frac{7}{5}&\n",
    "\\enclose{circle}{B}\\, \\frac{8}{4}&\n",
    "\\enclose{circle}{C}\\, \\frac{4}{8}&\n",
    "\\enclose{circle}{D}\\, \\frac{3}{5}\n",
    "\\end{array}$  \n",
    "2\\. Trupmeną $2\\frac{3}{10}$ paverskite dešimtainiu skaičiumi.  \n",
    "3\\. Kiek sekundžių sudaro $\\frac{1}{4}$ valandos?  \n",
    "4\\. Kiek sekundžių sudaro $0.2$ valandos?  \n",
    "5\\. Mykolas turi $48$ saldainius. Pirmą savaitę jis suvalgė $\\frac{1}{3}$ visų saldainių, o antrąją savaitę - $\\frac{3}{8}$ visų saldainių. Kiek saldainių jam liko?  \n",
    "6\\. Turistų grupė per tris dienas nuėjo $120\\,\\text{km}$. Pirmą dieną jie nuėjo $\\frac{3}{8}$ viso kelio, o antrąją - $\\frac{3}{5}$ likusio kelio. Kiek kilometrų turistai nuėjo trečią dieną?  \n",
    "7\\. Apskaičiuok $75\\%$ skaičiaus $300$?  \n",
    "8\\. Klasėje yra $30$ mokinių. $60\\%$ jų sudaro berniukai. Kiek klasėje mergaičių?  \n",
    "9\\. Mokykloje mokosi $500$ moksleivių. Didžioji jų dalis lanko būrelius: $40\\%$ - sportą, $25\\%$ - šokius, $17\\%$ - dailę, $12\\%$ - kalbų kursus, $1\\%$ - teatrą. Kiek moksleivių nelanko jokių būrelių?  \n",
    "10\\. Rinkimų dieną balsuoti atėjo $40\\%$ rinkėjų. $60\\%$ jų nubalsavo už pirmąjį kandidatą. Kiek žmonių nubalsavo už antrąjį kandidatą, jeigu rinkimų apylinkėje yra $3000$ žmonių?"
   ]
  },
  {
   "cell_type": "markdown",
   "id": "219bb123-57bd-4b9c-9b58-88b72888fb04",
   "metadata": {},
   "source": [
    "## Dešimtainės trupmenos ★☆☆\n",
    "1\\. Kiek natūraliųjų skaičių patenka tarp skaičių $2.4$ ir $11.7$?  \n",
    "2\\. Suapvalink skaičių $1.4559$ iki šimtųjų.  \n",
    "3\\. Trupmeną $3\\frac{51}{1000}$ paversk dešimtaine ir atsakymą suapvalinkite iki dešimtųjų.  \n",
    "4\\. Kuriame skaičiaus $17.594$ skyriuje užrašytas skaitmuo $7$?  \n",
    "5\\. Skaičių, du šimtai sveikų ir trisdešimt dvi tūkstantosios, užrašykite dešimtaine trupmena.  \n",
    "6\\. Apskaičiuokite: $12\\,\\text{h}\\,40\\,\\text{min} - 5\\,\\text{h}\\,55\\,\\text{min}$.  \n",
    "7\\. Apskaičiuokite $(8.31-2.81):(3.23+6.77)$.  \n",
    "8\\. Į kiną buvo parduota $200$ bilietų po $3.5$ euro, $250$ bilietų po $4.5$ euro ir kažkiek bilietų po $5.5$ euro. Viso gauta $2100$ euro pajamų. Kiek bilietų buvo parduota po $5.5$ euro?  \n",
    "9\\. Raskite kvadrato plotą, kai jo perimetras lygus $8.4$.  \n",
    "10\\. Ūkininkas prikasė $217.44$ centnerių bulvių. $38$ jų ūkininkas žada parduoti, o likusias supilstyti į maišus po $0.45$ centnerio. Kiek maišų bulvių jis turės?  "
   ]
  },
  {
   "cell_type": "markdown",
   "id": "c9e579b1-e410-4dde-9620-935c4c6efd9a",
   "metadata": {},
   "source": [
    "## Penktos klasės kartojimas ★☆☆\n",
    "1\\. Paversk $1.4\\,\\text{m}^{2}$ kvadratiniais centimetrais.  \n",
    "2\\. Paversk $1450000\\,\\text{g}$ centneriais.  \n",
    "3\\. Turinys lygus $41$, o skirtumas lygus $15$. Kam yra lygus atėminys?  \n",
    "4\\. Kam lygus lygties $99 - 99:x=88$ sprendinys?  \n",
    "5\\. Išspręskite lygtį $234-x=123$.  \n",
    "6\\. Suapvalink $12.0999$ iki šimtųjų.  \n",
    "7\\. Apskaičiuok $2\\cdot (348−167)-345$.  \n",
    "8\\. Stačiakapio plotis lygus $3\\,\\text{cm}$, o perimetras lygus $28\\,\\text{cm}$. Kam lygus stačiakampio ilgis?  \n",
    "9\\. Kvadrato perimetras lygus $12\\,\\text{cm}$. Koks kvadrato plotas?  \n",
    "10\\. Tarp dviejų miestų yra $40 \\,\\text{km}$ atstumas. Kiek laiko truktų kelionė, jei judėtum $5\\,\\text{km/h}$ greičiu ir ilsėtumeisi $1\\,\\text{h}$?  \n",
    "11\\. Apskaičiuok $18.75:0.15⋅0,2$.  \n",
    "12\\. Iš sugalvoto skaičiaus atimame $80$. Gautą atsakymą padauginame iš $4$ ir gauname $180$. Koks skaičius buvo sugalvotas?"
   ]
  },
  {
   "cell_type": "markdown",
   "id": "fc24baf1-507c-4cff-be7c-3eb003043519",
   "metadata": {},
   "source": [
    "## Penktos klasės kartojimas ★★☆\n",
    "\n",
    "1. Apskaičiuok $5\\cdot 14-100:25+48:3+3\\cdot 11$\n",
    "2. Išspręsk lygtį $459-156:x=433$.\n",
    "3. Padalink skaičius ir nurodyk gautą liekaną: $299:8$\n",
    "4. Nurodyk didžiausią galimą natūralųjį skaičių, kad nelygybė būtų teisinga: $☐+24<81$\n",
    "5. Prie sugalvoto skaičiaus pridedame $5$. Gautą atsakymą padauginame iš $39$ ir gauname $468$. Kokį skaičių sugalvojom?\n",
    "6. Rask kvadrato plotą, kai jo perimetras yra lygus $84$.\n",
    "7. Savo piniginėje Ona turi $14$ eurų ir $40$ centų. Ledų porcija kainuoja $90$ centų. Kiek porcijų ledų galėtų nusipirkti Ona už visus savo pinigus?\n",
    "8. Apskaičiuok: $23\\,\\text{mm} + 2.3\\,\\text{dm} - 0.1\\,\\text{m}$\n",
    "9. Laikrodis rodo $5:45$. Kokį laiką laikrodis rodys po $1000$ minučių?\n",
    "10. Kiek yra dviženklių skaičių, kurie dalijasi iš $5$ be liekanos?\n",
    "11. Urtė turi kažkiek saldainių. Jeigu ji padalintų juos savo $6$ arba $7$ draugėms, tai kas kart jai liktų du saldainiai. Kiek saldainių turi Urtė, jeigu yra žinoma, kad jų yra mažiau negu $50$?\n",
    "12. Penkių paeiliui einančių skaičių suma yra lygi $120$. Kam yra lygus didžiausias iš tų skaičių?"
   ]
  },
  {
   "cell_type": "markdown",
   "id": "a9416ae8-acee-4903-b341-18870ead9571",
   "metadata": {},
   "source": [
    "## Penktos klasės kartojimas ★★★\n",
    "\n",
    "1. Apskaičiuok $60:12+(95-5\\cdot 17)-(11\\cdot 12-117)$.  \n",
    "2. Išspręsk lygtį: $378:(x−4)=27$  \n",
    "3. Padalink duotus skaičius ir nurodyk gautą liekaną: $1784:11$  \n",
    "4. Nurodyk mažiausią galimą natūralųjį skaičių, kad nelygybė būtų teisinga. $☐-270>143$ \n",
    "5. Kiek yra dviženklių skaičių, kurie yra sudaryti tik iš nelyginių skaitmenų?  \n",
    "6. Sugalvotą skaičių padaliname iš $7$. Prie gauto atsakymo pridedame $37$ ir gauname $70$. Kokį skaičių sugalvojom?  \n",
    "7. Apskaičiuok: $2.5\\,\\text{min} + 0.2\\,\\text{h} - 270\\,\\text{s}$.  \n",
    "8. Rask kvadrato perimetrą, kai jo plotas yra lygus $225$ kvadratiniams vienetams.  \n",
    "9. Savo piniginėje Jonas turi $11$ eurų ir $10$ centų. Bandelė kainuoja $90$ centų, o vienas pyragaitis $55$ centus. Kiek pyragaičių Jonas galėtų nusipirkti už visus savo pinigus, jeigu kartu su pyragaičiais nusipirktų ir 5 bandeles?  \n",
    "10. Tarkime šiandien yra antradienis. Kokia savaitės diena bus po $100$ dienų?  \n",
    "11. Sudaugink visus skaičius nuo $1$ iki $25$ imtinai. Kiek nulių yra gauto atsakymo gale?  \n",
    "12. Kiek kartų kartų visų skaičių nuo $1$ iki $9$ sandauga yra didesnė už visų skaičių nuo $1$ iki $9$ sumą?  "
   ]
  },
  {
   "cell_type": "markdown",
   "id": "e8e38410-f2b1-4688-b4e0-f3f6618ff6d5",
   "metadata": {},
   "source": [
    "#### In total\n",
    "12 + 12 + 10 + 12 + 12 + 15 + 10 + 10 + 12 + 12 + 12 = 129 (11 topics)"
   ]
  }
 ],
 "metadata": {
  "kernelspec": {
   "display_name": "Python 3 (ipykernel)",
   "language": "python",
   "name": "python3"
  },
  "language_info": {
   "codemirror_mode": {
    "name": "ipython",
    "version": 3
   },
   "file_extension": ".py",
   "mimetype": "text/x-python",
   "name": "python",
   "nbconvert_exporter": "python",
   "pygments_lexer": "ipython3",
   "version": "3.12.7"
  }
 },
 "nbformat": 4,
 "nbformat_minor": 5
}
