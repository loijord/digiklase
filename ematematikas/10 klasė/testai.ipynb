{
 "cells": [
  {
   "cell_type": "markdown",
   "id": "3cbbcbbb-6485-49ad-9e6a-7c374770a14c",
   "metadata": {},
   "source": [
    "## Paprastieji ir sudėtiniai procentai ★★☆\n",
    "1\\. Gamykloje per parą pagaminama $1500$ gaminių. $2\\%$ gaminių būna brokuoti. Kiek kokybiškų gaminių gamykla pagamina per parą?  \\\n",
    "2\\. Dviejų skaičių suma yra $4200$. Vienas skaičius didesnis už kitą $40\\%$. Raskite didesnįjį skaičių.  \n",
    "3\\. Bankas moka $5\\%$ metinių palūkanų. Kiek palūkanų gausime po metų į banką pasidėję $1800$ eurų?  \n",
    "4\\. Bankas moka $3\\%$ metinių sudėtinių palūkanų. Kokia sumą atsiimsime iš banko po dviejų metų pasidėję $4500$ eurų?  \n",
    "5\\. Bankas moka $5\\%$ metinių sudėtinių palūkanų. Kiek pinigų reikia padėti į banką, kad po dviejų metų banke būtų $8820$ eurų?  \n",
    "6\\. Bankas moka $2\\%$ metinių sudėtinių palūkanų. Į banką padedame $20\\,000$ eurų. Po kelių metų banke esanti suma bus lygi $21\\,224{,}16$?  \n",
    "7\\. Batai parduotuvėje kainuoja $100$ eurų. Iš pradžių batai pabranginami $20\\%$, o po kiek laiko $20\\%$ nupiginami. Kiek dabar kainuoja batai?  \n",
    "8\\. Sandelyje yra $200$ maišų bulvių. Pirmą dieną pardavė $25\\%$ visų bulvių, o antrą dieną pardavė $10\\%$ to, kas liko po pirmos dienos. Kiek maišų bulvių liko po dviejų dienų?  \n",
    "9\\. Kvadrato kraštinės ilgis yra $10\\,\\text{cm}$. Kvadrato kraštines padidiname $10\\%$. Keliais procentais padidėja kvadrato plotas?  \n",
    "10\\. Valdyboje yra $120$ narių. Bandant priimti nutarimą sutarta balsuoti. Balsavime dalyvavo $80\\%$ narių, o kiti susilaikė. $75\\%$ balsavusių nubalsavo už. Kiek valdybos narių balsavo prieš?  \n",
    "11\\. Turime $2\\,\\text{kg}$ $15\\%$ druskos tirpalą. Į šį tirpalą įpilame $3\\,\\text{kg}$ gėlo vandens. Kokia dabar druskos koncentracija tirpale?  \n",
    "12\\. Į $30$ litrų druskos tirpalo įpilus gėlo vandens, druskingumas sumažėjo nuo $4\\%$ iki $3\\%$. Kiek gėlo vandens buvo įpilta?  "
   ]
  },
  {
   "cell_type": "markdown",
   "id": "505a6222-027b-4cfd-9996-8b4a097e2eb8",
   "metadata": {},
   "source": [
    "## Trupmeninės lygtys ★★☆  \n",
    "1\\. Su kuria $x$ reikšme reiškinys $\\dfrac{x^2+10x}{x^2-100}$ neturi prasmės.  \n",
    "2\\. Raskite lygties $\\dfrac{x^2+x}{x-1} = 0$ sprendinius.  \n",
    "3\\. Raskite lygties $\\dfrac{x^2-4x}{x^2-16} = 0$ sprendinius.  \n",
    "4\\. Raskite lygties $\\dfrac{x^2-8x+15}{x^2-7x+10} = 0$ sprendinius.  \n",
    "5\\. Raskite lygties $\\dfrac{x+3}{x^2-9} = 0$ sprendinius.  \n",
    "6\\. Raskite lygties $\\dfrac{x^2-3x-4}{x^2-4} = 0$ sprendinių skaičių.  \n",
    "7\\. Nurodykite racionaliosios lygties $\\dfrac{7x-x^2}{x^2-49} = 0$ sprendinius.  \n",
    "8\\. Raskite lygties $\\dfrac{6}{x+1} = x + 2$ sprendinių sumą.  \n",
    "9\\. Raskite mažiausią lygties $\\dfrac{3}{x-3} - \\dfrac{4}{x+3} = 1$ sprendinį.  \n",
    "10\\. Su kuria $x$ reikšme, reiškiniai $\\dfrac{x+1}{x-1}$ ir $\\dfrac{x-4}{x-2}$ yra lygūs?  \n",
    "11\\. Raskite lygties $\\dfrac{2}{x^2-x} - \\dfrac{2}{x^2-1} = 0$ sprendinius.  \n",
    "12\\. Išspręskite lygtį $\\dfrac{1}{x-2} + \\dfrac{1}{x-1} = \\dfrac{5}{6}$ ir nurodykite didesnįjį jos sprendinį.  "
   ]
  },
  {
   "cell_type": "markdown",
   "id": "16f848d7-b221-4b2f-a794-0c131a18bfe0",
   "metadata": {},
   "source": [
    "## Trupmeninių lygčių sudarymas ★★★  \n",
    "1\\. Motorinė valtis $35\\,\\text{km}$ ežeru įveikia per tokį pat laiko tarpą, kaip ir $20\\,\\text{km}$ upe prieš srovę. Koks motorinės valties savasis greitis, kai upės srovės greitis lygus $3\\,\\text{km/h}$.  \n",
    "2\\. Du darbininkai dirbdami kartu darbą gali atlikti per $6$ valandas. Pirmasis darbininkas dirbdamas vienas darbą gali atlikti $5$ valandomis greičiau negu antrasis. Raskite pirmojo darbininko darbo atlikimo laiką, jeigu jis dirbtų vienas.  \n",
    "3\\. Baseiną pripildyti vandeniu trunka $2$ valandas. Išleisti vandenį iš baseino trunka $3$ valandas. Kiek laiko truktų baseino pildymas, jei vanduo tuo pačiu metu būtų ir pilamas, ir išleidžiamas?  \n",
    "4\\. Kateris per $2{,}5\\,\\text{h}$ nuplaukė $40\\,\\text{km}$ ežeru ir $12\\,\\text{km}$ upe pasroviui. Raskite katerio savąjį greitį, jeigu upės srovės greitis yra $4\\,\\text{km/h}$.  \n",
    "5\\. Baseiną galima pripildyti dviem atsuktais čiaupais per $6\\,\\text{h}\\,40\\,\\text{min}$. Per kiek laiko būtų galima pripildyti baseiną kiekvienu čiaupu atskirai, jeigu yra žinoma, kad vienu čiaupu pripildyti baseiną trunka $3\\,\\text{h}$ trumpiau negu kitu?  \n",
    "6\\. Kateris per $5$ valandas nuplaukė upe pasroviui $50\\,\\text{km}$ ir $30\\,\\text{km}$ prieš srovę. Katerio greitis $10\\,\\text{km/h}$ didesnis už upės greitį. Raskite savąjį katerio greitį.  \n",
    "7\\. Du dviratininkai tuo pačiu metu išvažiuoja iš vieno miesto į kitą. Pirmojo dviratininko greitis yra $10\\,\\text{km/h}$ didesnis už antrojo, todėl jis tikslą pasiekia $1$ valandą anksčiau. Atstumas tarp miestų yra $120\\,\\text{km}$. Raskite pirmojo dviratininko greitį.  \n",
    "8\\. Iš dviejų miestų vienas priešais kitą išvažiavo du autobusai. Jie susitiko po $1\\,\\text{h}\\,45\\text{min}$. Pirmojo autobuso greitis $15\\,\\text{km/h}$ didesnis už antrojo. Raskite antrojo autobuso greitį, jeigu žinoma, kad tarp miestų yra $280\\,\\text{km}$ atstumas.  "
   ]
  },
  {
   "cell_type": "markdown",
   "id": "7fbf3a4b-4e77-4d94-9713-74dc1e1f0190",
   "metadata": {},
   "source": [
    "## Lygčių sistemos ★★☆\n",
    "Waiting for updates..."
   ]
  },
  {
   "cell_type": "markdown",
   "id": "f42e1082-3f80-45f1-97f8-96c7cd613ee0",
   "metadata": {},
   "source": [
    "## Kvadratinės nelygybės ★★☆\n",
    "1\\. Išspręskite kvadratinę nelygybę $x^2-x < 0$.  \n",
    "2\\. Išspręskite kvadratinę nelygybę $x^2 \\le 100$.  \n",
    "3\\. Nurodykite nelygybės $(2x-17)(3x+5) \\ge 0$ didžiausią neigiamą sprendinį.  \n",
    "4\\. Išspręskite kvadratinę nelygybę $x^2 + x - 12 \\le 0$.  \n",
    "5\\. Išspręskite kvadratinę nelygybę $x^2 < 10x$.  \n",
    "6\\. Raskite nelygybės $x^2 - 25 < 0$ mažiausią sveikąjį sprendinį.  \n",
    "7\\. Išspręskite nelygybę $(x - 5)(x - 3) < 8$.  \n",
    "8\\. Paveiksle pavaizduota tiesė $f(x)$ ir parabolė $g(x)$. Raskite argumento $x$ reikšmių intervalą, kuriame $f(x) > g(x)$.  \n",
    "<img src=\"../images/10_4_8.png\" width=\"250\"/>  \n",
    "9\\. Išspręskite kvadratinę nelygybę $-x^2 - 5x + 150 \\le 0$.  \n",
    "10\\. Išspręskite kvadratinę nelygybę $-x^2 - 8x - 16 \\ge 0$.  \n",
    "11\\. Nustatykite kvadratinės nelygybės $2x^2 + 9x \\le 5$ sveikųjų sprendinių skaičių.  \n",
    "12\\. Nustatykite kvadratinės nelygybės $(2x - 3)(x + 1) < 8$ sveikųjų sprendinių skaičių.  "
   ]
  },
  {
   "cell_type": "markdown",
   "id": "af9cf551-027c-463a-b5cb-fc762d684394",
   "metadata": {},
   "source": [
    "## Kombinatorika ★★☆  \n",
    "1\\. Klasėje yra $28$ mokiniai. Kiek yra galimybių iš jų išrinkti klasės seniūną ir jo pavaduotoją?  \n",
    "2\\. Klasėje yra $28$ mokiniai. Kiek yra galimybių iš jų išrinkti du klasės atstovus?  \n",
    "3\\. Vienoje mokyklos klasėje mokosi $16$ mergaičių ir $12$ berniukų.  \n",
    "* Šokių vakarui reikės išrinkti $1$ mergaitę ir $1$ berniuką, kurie atstovaus šią klasę. Kiek skirtingų porų galime sudaryti?\n",
    "* Šioje klasėje vyksta seniūno ir jo pavaduotojo rinkimai. Kiek skirtingų variantų yra išsirinkti šioms pareigybėms?\n",
    "  \n",
    "4\\. Kiek triženklių skaičių galima sudaryti iš skaitmenų $0$, $1$, $2$, $4$, $5$?  \n",
    "5\\. Kiek triženklių skaičių galima sudaryti iš skaitmenų $0$, $1$, $2$, $4$, $5$, $6$, kai skaitmenys skaičiuje kartotis negali?\n",
    "6\\. Futbolo turnyre dalyvauja dešimt komandų.\n",
    "* Kiek yra variantų šioms komandoms pasidalinti tris prizines vietas?\n",
    "* Kiek yra variantų šioms komandoms pasidalinti pirmąją, antrąją ir trečiąją vietas?\n",
    "  \n",
    "7\\. Kiek iš viso yra triženklių skaičių, kurių pirmas ir paskutinis skaitmenys yra nelyginiai skaičiai?  \n",
    "8\\. Pirmadienio tvarkaraštyje yra $6$ pamokos. Tarp jų yra dvi matematikos, o kitos - skirtingų dalykų pamokos. Kiek galima sudaryti skirtingų tos dienos pamokų tvarkaraščių?  \n",
    "9\\. Kodas yra penkiaženklis skaičius, sudarytas iš šių skaitmenų: $0$, $0$, $1$, $1$, $1$. Kiek daugiausia skirtingų kodų galima sudaryti?  \n",
    "10\\. Greta, Mantas ir keturi jų draugai atsitiktinai stoja į vieną eilę. Apskaičiuokite, keliais skirtingais būdais visi šeši draugai gali sustoti eilėje taip, kad Gretą ir Mantą skirtų keturi draugai.  \n",
    "11\\. Krepšinio komandoje yra $12$ žaidėjų, tarp kurių yra Simas. Treneris varžyboms renkasi $5$ žaidėjus, tarp kurių tikrai bus Simas. Nustatykite, kiek pasirinkimo galimybių turi treneris.  \n",
    "12\\. Kiek yra triženklių natūraliųjų skaičių, kurių vienas skaitmuo yra nulis?  \n",
    "13\\. Kiek natūraliųjų skaičių, mažesnių už $50$, galima sudaryti iš skaitmenų $1$, $2$, $3$, $4$, jeigu skaitmenys negali pasikartoti?  \n",
    "14\\. Keliais būdais ant suolo galima susodinti $10$ moksleivių, kad Jonas ir Petras sėdėtų greta, jeigu visų moksleivių vardai yra skirtingi?"
   ]
  },
  {
   "cell_type": "markdown",
   "id": "98c45188-df57-4a79-9b05-9659556cd1a1",
   "metadata": {},
   "source": [
    "## Tikimybės ★☆☆\n",
    "1\\. Kokia tikimybė, kad metus šešiasienį žaidimo kauliuką iškris lyginis akučių skaičius?  \n",
    "2\\. Kokia tikimybė, kad metus šešiasienį žaidimo kauliuką iškritęs akučių skaičius bus pirminis?  \n",
    "3\\. Dėžėje yra $10$ baltų ir $11$ juodų rutulių. Iš jos nežiūrint ištraukiamas vienas rutulys. Kokia tikimybė, kad jis baltas?  \n",
    "4\\. Dėžėje yra $10$ baltų ir $11$ juodų rutulių. Iš jos nežiūrint ištraukiamas vienas rutulys. Kokia tikimybė, kad jis ne geltonas?  \n",
    "5\\. Dėžėje yra $8$ mėlyni, $7$ žali ir $9$ raudoni rutuliai. Iš jos nežiūrint ištraukiamas vienas rutulys. Kokia tikimybė, kad ištrauktas ne raudonas rutulys?  \n",
    "6\\. Dėžėje yra $8$ mėlyni, $7$ žali ir $9$ raudoni rutuliai. Iš jos nežiūrint ištraukiamas vienas rutulys. Kokia tikimybė, kad ištrauktas baltas rutulys?  \n",
    "7\\. Kokia tikimybė, kad metant tris standartines monetas, dvi iš jų atvirs herbu?  \n",
    "8\\. Kokia tikimybė, kad atsitiktinai parinktas dviženklis skaičius turės bent vieną penketą?  \n",
    "9\\. Iš visų $2020$ metų vasario mėnesio dienų išsirenkam vieną. Kokia tikimybė, kad parinkta diena dalijasi iš $5$ be liekanos?  \n",
    "10\\. Iš visų $2019$ metų dienų išsirenkam vieną. Kokia tikimybė, kad tai bus $29$ diena?  \n",
    "11\\. Metam du šešiasienius žaidimo kauliukus ir sudedame atvirtusių akučių skaičius. Kokia tikimybė, kad akučių suma dalijasi iš $5$?  \n",
    "12\\. Metam du šešiasienius žaidimo kauliukus ir sudauginame atvirtusių akučių skaičius. Kokia tikimybė, kad akučių sandauga didesnė už $20$?  \n",
    "13\\. Lentelėje pavaizduoti vienos klasės moksleivių matematikos kontrolinio darbo rezultatai.  \n",
    "$\\begin{array}{|c|c|} \\hline    \n",
    "\\text{Pažymys} & 5 & 6 & 7 & 8 & 9 & 10 \\\\\\hline   \n",
    "\\text{Dažnis} & 2 & 4 & 6 & 8 & 3 & 2 \\\\\\hline \n",
    "\\end{array}$  \n",
    "Kokia tikimybė, kad atsitiktinai parinktas šios klasės moksleivis gavo nemažiau kaip devynis?  \n",
    "14. Dėžėje yra $10$ baltų ir $11$ juodų rutulių. Iš jos nežiūrint ištraukiami du rutuliai. Kokia tikimybė, kad jie abu balti?  \n",
    "15. Dėžėje yra $8$ mėlyni, $7$ žali ir $9$ raudoni rutuliai. Iš jos nežiūrint ištraukiami trys rutuliai. Kokia tikimybė, kad ištraukti ne raudoni rutuliai? Atsakymą pateikite tūkstantųjų tikslumu."
   ]
  },
  {
   "cell_type": "markdown",
   "id": "b2bb5065-0914-44ca-bb0b-81c3236a6db8",
   "metadata": {},
   "source": [
    "## Panašios figūros ★★☆\n",
    "1\\. Apskaičiuokite atkarpos $DE$ ilgį, kai žinoma, kad $DE||AC$. Atsakymą suapvalinkite iki dešimtųjų.  \n",
    "<img src=\"../images/9_10_8.png\" width=\"180\"/>  \n",
    "2\\. Apskaičiuokite atkarpos $DE$ ilgį.  \n",
    "<img src=\"../images/9_10_9.png\" width=\"180\"/>  \n",
    "3\\. Pagal pateiktą brėžinį $(a||b)$, nustatykite, kam lygus trikampių $BOD$ ir $AOC$ plotų santykis.   \n",
    "<img src=\"../images/9_10_6.png\" width=\"250\"/>  \n",
    "5\\. Kuri atkarpa turėtų būti įrašyta vietoje $X$, jog lygybė $\\dfrac{BD}{X}=\\dfrac{AB}{BC}$ būtų teisinga?  \n",
    "<img src=\"../images/9_10_5.png\" width=\"300\"/>  \n",
    "6\\. žr. 9 kl. 7  \n",
    "7\\. Vienas trikampis panašus į kitą. Jų panašumo koeficientas lygus $5$, o perimetrų skirtumas lygus $24$. Apskaičiuokite didesniojo trikampio perimetrą.  \n",
    "8\\. Trikampio $ABC$ perimetras $16$, o į jį panašaus trikampio $DEF$ perimetras $40$. Apskaičiuokite trikampio $ABC$ plotą, jei trikampio $DEF$ plotas lygus $75$.  \n",
    "9\\. Pagal žemiau pateiktus duomenis apskaičiuokite trikampio $AOD$ perimetrą  \n",
    "<img src=\"../images/9_10_12.png\" width=\"200\"/>  \n",
    "11\\. Vieno trikampio trumpiausia kraštinė lygi $3$, o jo perimetras yra lygus $12$. Į šį trikampį panašaus trikampio perimetras lygus $30$. Kam lygi mažiausia šio trikampio kraštinė?"
   ]
  },
  {
   "cell_type": "markdown",
   "id": "a46962b1-3ab0-4070-b083-f190ea4b6cd4",
   "metadata": {},
   "source": [
    "## Įbrėžtos ir apibrėžtos figūros ★★☆\n",
    "1\\. Į apskritimą įbrėžtas stačiakampis, kurio matmenys $6$ ir $8$. Raskite šio apskritimo ilgį.  \n",
    "2\\. Į apskritimą, kurio spindulio ilgis lygus $5$ įbrėžtas taisyklingasis trikampis. Į šį trikampį įbrėžtas kitas apskritimas. Apskaičiuokite šio apskritimo spindulio ilgį.  \n",
    "3\\. Iš taškų $A$, $B$, $C$, $D$ nubrėžtos apskritimo liestinių atkarpos, liečiančios jį taškuose $E$, $F$, $G$, $H$. Pagal brėžinio duomenis apskaičiuokite keturkampio $ABCD$ perimetrą.  \n",
    "<img src=\"../images/10_9_3.png\" width=\"200\"/>  \n",
    "4\\. Į apskritimą įbrėžtas keturkampis. Apskaičiuokite jo bukųjų kampų didumų sumą laipsniais.  \n",
    "<img src=\"../images/10_9_4.png\" width=\"200\"/>  \n",
    "5\\. Trapecijos $ABCD$, į kurią įbrėžtas apskritimas, pagrindų ilgiai yra $AB=1{,}5$ ir $CD=6{,}75$, o šoninių kraštinių ilgių santykis lygus $BC:AD=20:13$. Apskaičiuokite to apskritimo spindulio ilgį.  \n",
    "<img src=\"../images/10_9_5.png\" width=\"200\"/>  \n",
    "6\\. Į lygiašonę trapeciją yra įbrėžtas apskritimas, kurio spindulio ilgis yra $5$. Raskite šios lygiašonės trapecijos plotą, jeigu jos šoninės kraštinės ilgis yra lygus $14$.  \n",
    "7\\. Į apskritimą, kurio spindulys lygus $25$, įbrėžtas trikampis $ABC$. Šio trikampio kampų sinusai $\\sin\\angle A = \\dfrac{3}{5}$, $\\sin\\angle B = \\dfrac{4}{5}$ ir $\\sin\\angle C = \\dfrac{7}{25}$. Apskaičiuokite trikampio $ABC$ perimetrą.  \n",
    "8\\. Apie apskritimą, kurio spindulio ilgis yra $4\\,\\text{cm}$, apibrėžta lygiašonė trapecija, kurios vidurinė linija lygi $10\\,\\text{cm}$. Raskite šios trapecijos plotą.  \n",
    "9\\. Į statujį trikampį, kurio statiniai lygūs $6\\,\\text{cm}$ ir $8\\,\\text{cm}$, įbrėžtas apskritimas. Raskite šio apskritimo spindulio ilgį.  \n",
    "10\\. Į apskritimą yra įbrėžtas keturkampis $ABCD$. Šio keturkampio $\\angle A$, $\\angle B$ ir $\\angle C$ santykis atitinkamai yra $4:6:5$. Raskite $\\angle D$.  \n",
    "<img src=\"../images/10_9_10.png\" width=\"200\"/> "
   ]
  }
 ],
 "metadata": {
  "kernelspec": {
   "display_name": "Python 3 (ipykernel)",
   "language": "python",
   "name": "python3"
  },
  "language_info": {
   "codemirror_mode": {
    "name": "ipython",
    "version": 3
   },
   "file_extension": ".py",
   "mimetype": "text/x-python",
   "name": "python",
   "nbconvert_exporter": "python",
   "pygments_lexer": "ipython3",
   "version": "3.12.7"
  }
 },
 "nbformat": 4,
 "nbformat_minor": 5
}
