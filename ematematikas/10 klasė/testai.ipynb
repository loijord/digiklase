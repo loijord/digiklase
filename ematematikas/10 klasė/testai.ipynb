{
 "cells": [
  {
   "cell_type": "markdown",
   "id": "3cbbcbbb-6485-49ad-9e6a-7c374770a14c",
   "metadata": {},
   "source": [
    "## Paprastieji ir sudėtiniai procentai ★★☆"
   ]
  },
  {
   "cell_type": "markdown",
   "id": "505a6222-027b-4cfd-9996-8b4a097e2eb8",
   "metadata": {},
   "source": [
    "## Trupmeninės lygtys ★★☆"
   ]
  },
  {
   "cell_type": "markdown",
   "id": "16f848d7-b221-4b2f-a794-0c131a18bfe0",
   "metadata": {},
   "source": [
    "## Trupmeninių lygčių sudarymas ★★★"
   ]
  },
  {
   "cell_type": "markdown",
   "id": "f42e1082-3f80-45f1-97f8-96c7cd613ee0",
   "metadata": {},
   "source": [
    "## Kvadratinės nelygybės ★★☆"
   ]
  },
  {
   "cell_type": "markdown",
   "id": "af9cf551-027c-463a-b5cb-fc762d684394",
   "metadata": {},
   "source": [
    "## Kombinatorika ★★☆"
   ]
  },
  {
   "cell_type": "markdown",
   "id": "98c45188-df57-4a79-9b05-9659556cd1a1",
   "metadata": {},
   "source": [
    "## Tikimybės ★☆☆\n",
    "1\\. Kokia tikimybė, kad metus šešiasienį žaidimo kauliuką iškris lyginis akučių skaičius?  \n",
    "2\\. Kokia tikimybė, kad metus šešiasienį žaidimo kauliuką iškritęs akučių skaičius bus pirminis?  \n",
    "3\\. Dėžėje yra $10$ baltų ir $11$ juodų rutulių. Iš jos nežiūrint ištraukiamas vienas rutulys. Kokia tikimybė, kad jis baltas?  \n",
    "4\\. Dėžėje yra $10$ baltų ir $11$ juodų rutulių. Iš jos nežiūrint ištraukiamas vienas rutulys. Kokia tikimybė, kad jis ne geltonas?  \n",
    "5\\. Dėžėje yra $8$ mėlyni, $7$ žali ir $9$ raudoni rutuliai. Iš jos nežiūrint ištraukiamas vienas rutulys. Kokia tikimybė, kad ištrauktas ne raudonas rutulys?  \n",
    "6\\. Dėžėje yra $8$ mėlyni, $7$ žali ir $9$ raudoni rutuliai. Iš jos nežiūrint ištraukiamas vienas rutulys. Kokia tikimybė, kad ištrauktas baltas rutulys?  \n",
    "7\\. Kokia tikimybė, kad metant tris standartines monetas, dvi iš jų atvirs herbu?  \n",
    "8\\. Kokia tikimybė, kad atsitiktinai parinktas dviženklis skaičius turės bent vieną penketą?  \n",
    "9\\. Iš visų $2020$ metų vasario mėnesio dienų išsirenkam vieną. Kokia tikimybė, kad parinkta diena dalijasi iš $5$ be liekanos?  \n",
    "10\\. Iš visų $2019$ metų dienų išsirenkam vieną. Kokia tikimybė, kad tai bus $29$ diena?  \n",
    "11\\. Metam du šešiasienius žaidimo kauliukus ir sudedame atvirtusių akučių skaičius. Kokia tikimybė, kad akučių suma dalijasi iš $5$?  \n",
    "12\\. Metam du šešiasienius žaidimo kauliukus ir sudauginame atvirtusių akučių skaičius. Kokia tikimybė, kad akučių sandauga didesnė už $20$?  \n",
    "13\\. Lentelėje pavaizduoti vienos klasės moksleivių matematikos kontrolinio darbo rezultatai.  \n",
    "$\\begin{array}{|c|c|} \\hline    \n",
    "\\text{Pažymys} & 5 & 6 & 7 & 8 & 9 & 10 \\\\\\hline   \n",
    "\\text{Dažnis} & 2 & 4 & 6 & 8 & 3 & 2 \\\\\\hline \n",
    "\\end{array}$  \n",
    "Kokia tikimybė, kad atsitiktinai parinktas šios klasės moksleivis gavo nemažiau kaip devynis?  \n",
    "14. Dėžėje yra $10$ baltų ir $11$ juodų rutulių. Iš jos nežiūrint ištraukiami du rutuliai. Kokia tikimybė, kad jie abu balti?  \n",
    "15. Dėžėje yra $8$ mėlyni, $7$ žali ir $9$ raudoni rutuliai. Iš jos nežiūrint ištraukiami trys rutuliai. Kokia tikimybė, kad ištraukti ne raudoni rutuliai? Atsakymą pateikite tūkstantųjų tikslumu."
   ]
  },
  {
   "cell_type": "markdown",
   "id": "b2bb5065-0914-44ca-bb0b-81c3236a6db8",
   "metadata": {},
   "source": [
    "## Panašios figūros ★★☆\n",
    "1\\. Apskaičiuokite atkarpos $DE$ ilgį, kai žinoma, kad $DE||AC$. Atsakymą suapvalinkite iki dešimtųjų.  \n",
    "<img src=\"../images/9_10_8.png\" width=\"180\"/>  \n",
    "2\\. Apskaičiuokite atkarpos $DE$ ilgį.  \n",
    "<img src=\"../images/9_10_9.png\" width=\"180\"/>  \n",
    "3\\. Pagal pateiktą brėžinį $(a||b)$, nustatykite, kam lygus trikampių $BOD$ ir $AOC$ plotų santykis.   \n",
    "<img src=\"../images/9_10_6.png\" width=\"250\"/>  \n",
    "5\\. Kuri atkarpa turėtų būti įrašyta vietoje $X$, jog lygybė $\\dfrac{BD}{X}=\\dfrac{AB}{BC}$ būtų teisinga?  \n",
    "<img src=\"../images/9_10_5.png\" width=\"300\"/>  \n",
    "6\\. žr. 9 kl. 7  \n",
    "7\\. Vienas trikampis panašus į kitą. Jų panašumo koeficientas lygus $5$, o perimetrų skirtumas lygus $24$. Apskaičiuokite didesniojo trikampio perimetrą.  \n",
    "8\\. Trikampio $ABC$ perimetras $16$, o į jį panašaus trikampio $DEF$ perimetras $40$. Apskaičiuokite trikampio $ABC$ plotą, jei trikampio $DEF$ plotas lygus $75$.  \n",
    "9\\. Pagal žemiau pateiktus duomenis apskaičiuokite trikampio $AOD$ perimetrą  \n",
    "<img src=\"../images/9_10_12.png\" width=\"200\"/>  \n",
    "11\\. Vieno trikampio trumpiausia kraštinė lygi $3$, o jo perimetras yra lygus $12$. Į šį trikampį panašaus trikampio perimetras lygus $30$. Kam lygi mažiausia šio trikampio kraštinė?"
   ]
  },
  {
   "cell_type": "markdown",
   "id": "a46962b1-3ab0-4070-b083-f190ea4b6cd4",
   "metadata": {},
   "source": [
    "## Įbrėžtos ir apibrėžtos figūros ★★☆"
   ]
  },
  {
   "cell_type": "markdown",
   "id": "b1edd9ec-8880-494f-96e4-39d4e2380217",
   "metadata": {},
   "source": [
    "#### In total\n",
    "12 + 12 + 8 + 12 + 14 + 15 + 11 + 10 = 94 (8 topics)"
   ]
  }
 ],
 "metadata": {
  "kernelspec": {
   "display_name": "Python 3 (ipykernel)",
   "language": "python",
   "name": "python3"
  },
  "language_info": {
   "codemirror_mode": {
    "name": "ipython",
    "version": 3
   },
   "file_extension": ".py",
   "mimetype": "text/x-python",
   "name": "python",
   "nbconvert_exporter": "python",
   "pygments_lexer": "ipython3",
   "version": "3.12.7"
  }
 },
 "nbformat": 4,
 "nbformat_minor": 5
}
