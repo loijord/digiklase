{
 "cells": [
  {
   "cell_type": "markdown",
   "id": "3cbbcbbb-6485-49ad-9e6a-7c374770a14c",
   "metadata": {},
   "source": [
    "## Paprastieji ir sudėtiniai procentai ★★☆"
   ]
  },
  {
   "cell_type": "markdown",
   "id": "505a6222-027b-4cfd-9996-8b4a097e2eb8",
   "metadata": {},
   "source": [
    "## Trupmeninės lygtys ★★☆"
   ]
  },
  {
   "cell_type": "markdown",
   "id": "16f848d7-b221-4b2f-a794-0c131a18bfe0",
   "metadata": {},
   "source": [
    "## Trupmeninių lygčių sudarymas ★★★"
   ]
  },
  {
   "cell_type": "markdown",
   "id": "f42e1082-3f80-45f1-97f8-96c7cd613ee0",
   "metadata": {},
   "source": [
    "## Kvadratinės nelygybės ★★☆"
   ]
  },
  {
   "cell_type": "markdown",
   "id": "af9cf551-027c-463a-b5cb-fc762d684394",
   "metadata": {},
   "source": [
    "## Kombinatorika ★★☆"
   ]
  },
  {
   "cell_type": "markdown",
   "id": "98c45188-df57-4a79-9b05-9659556cd1a1",
   "metadata": {},
   "source": [
    "## Tikimybės ★☆☆"
   ]
  },
  {
   "cell_type": "markdown",
   "id": "b2bb5065-0914-44ca-bb0b-81c3236a6db8",
   "metadata": {},
   "source": [
    "## Panašios figūros ★★☆"
   ]
  },
  {
   "cell_type": "markdown",
   "id": "a46962b1-3ab0-4070-b083-f190ea4b6cd4",
   "metadata": {},
   "source": [
    "## Įbrėžtos ir apibrėžtos figūros ★★☆"
   ]
  },
  {
   "cell_type": "markdown",
   "id": "b1edd9ec-8880-494f-96e4-39d4e2380217",
   "metadata": {},
   "source": [
    "#### In total\n",
    "12 + 12 + 8 + 12 + 14 + 15 + 11 + 10 = 94 (8 topics)"
   ]
  }
 ],
 "metadata": {
  "kernelspec": {
   "display_name": "Python 3 (ipykernel)",
   "language": "python",
   "name": "python3"
  },
  "language_info": {
   "codemirror_mode": {
    "name": "ipython",
    "version": 3
   },
   "file_extension": ".py",
   "mimetype": "text/x-python",
   "name": "python",
   "nbconvert_exporter": "python",
   "pygments_lexer": "ipython3",
   "version": "3.12.7"
  }
 },
 "nbformat": 4,
 "nbformat_minor": 5
}
