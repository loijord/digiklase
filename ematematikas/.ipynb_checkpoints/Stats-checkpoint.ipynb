{
 "cells": [
  {
   "cell_type": "markdown",
   "id": "9fffaa0e-8e40-4bf1-b22d-586af08e2139",
   "metadata": {},
   "source": [
    "## Kurso statistika\n",
    "* 5 klasė: 12 + 12 + 10 + 12 + 12 + 15 + 10 + 10 + 12 + 12 + 12 = 129 (11 temų)\n",
    "* 6 klasė: 16 + 12 + 12 + 12 + 15 + 17 + 12 + 12 + 10 + 13 + 14 + 14 + 14 = 173 (13 topics)\n",
    "* 7 klasė: 10 + 14 + 14 + 14 + 14 + 14 + 14 + 12 + 12 + 12 + 12 + 14 + 12 + 14 = 182 (14 topics)\n",
    "* 8 klasė: 15 + 15 + 15 + 12 + 15 + ? + 16 + 12 + 12 + 14 + 15 = 141 (10 temų)\n",
    "* 9 klasė: 14 + 12 + 15 + 12 + 12 + 10 + 10 + 11 + 12 + 12 + 12 + 15 = 137 (12 temų)\n",
    "* 10 klasė: 12 + 12 + 8 + ? + 12 + 14 + 15 + 11 + 10 = 94 (8 temos)"
   ]
  },
  {
   "cell_type": "markdown",
   "id": "333cd971-0cff-4e1d-865c-808b3d449263",
   "metadata": {},
   "source": [
    "## Kurso kartojimo statistika\n",
    "* 4 klasė: 18 + 18 + 18 + 12 = 66 (4 temos)"
   ]
  }
 ],
 "metadata": {
  "kernelspec": {
   "display_name": "Python 3 (ipykernel)",
   "language": "python",
   "name": "python3"
  },
  "language_info": {
   "codemirror_mode": {
    "name": "ipython",
    "version": 3
   },
   "file_extension": ".py",
   "mimetype": "text/x-python",
   "name": "python",
   "nbconvert_exporter": "python",
   "pygments_lexer": "ipython3",
   "version": "3.12.7"
  }
 },
 "nbformat": 4,
 "nbformat_minor": 5
}
