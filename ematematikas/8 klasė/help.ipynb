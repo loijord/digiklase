{
 "cells": [
  {
   "cell_type": "markdown",
   "id": "fb286590-098e-4196-bfe8-130fe6ce0938",
   "metadata": {},
   "source": [
    "* $\\boxed{\\log_{a}b=c} \\Leftrightarrow \\boxed{a^c = b}$\n",
    "* $\\log_{a^n}x= \\dfrac {1} {n} \\log_ax$\n",
    "* $\\log_{a}x^n= n\\log_ax$\n",
    "* $a^{\\log_{a}n} = n$"
   ]
  }
 ],
 "metadata": {
  "kernelspec": {
   "display_name": "Python 3 (ipykernel)",
   "language": "python",
   "name": "python3"
  },
  "language_info": {
   "codemirror_mode": {
    "name": "ipython",
    "version": 3
   },
   "file_extension": ".py",
   "mimetype": "text/x-python",
   "name": "python",
   "nbconvert_exporter": "python",
   "pygments_lexer": "ipython3",
   "version": "3.12.7"
  }
 },
 "nbformat": 4,
 "nbformat_minor": 5
}
