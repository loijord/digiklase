{
 "cells": [
  {
   "cell_type": "markdown",
   "id": "808a6980-a8ff-4984-9feb-bb9d78a839be",
   "metadata": {},
   "source": [
    "## Šaknų skaičiavimai ★☆☆\n",
    "\n",
    "1\\. Apskaičiuokite reiškinio $2\\sqrt{25}+3\\sqrt{144}-4\\sqrt{81}$ reikšmę.  \n",
    "2\\. Apskaičiuokite reiškinio $0,2\\sqrt{0,16}+\\dfrac{\\sqrt{0,0576}}{2}+\\sqrt{\\dfrac{16}{25}}$ reikšmę.  \n",
    "3\\. Apskaičiuokite reiškinio $(2\\sqrt{3})^2+3\\cdot (-\\sqrt{7})^2-\\left(\\dfrac{1}{3}\\right)^{-1}$ reikšmę.  \n",
    "4\\. Iškelkite dauginamąjį prieš šaknies ženklą reiškinyje $\\sqrt{300}$.  \n",
    "5\\. Įkelkite dauginamąjį po šaknies ženklu reiškinyje $3\\sqrt{7}$.  \n",
    "6\\. Surašykite skaičius $-2\\sqrt{5}$, $-\\sqrt{23}$, $-\\sqrt{\\dfrac{2}{5}}$, $-4\\sqrt{7}$, $-\\sqrt{17}$ didėjimo tvarka.  \n",
    "7\\. Apskaičiuokite reiškinio $(2+3\\sqrt{2})(3-\\sqrt{2})$ reikšmę.  \n",
    "8\\. Apskaičiuokite reiškinio $2\\sqrt{125}-\\sqrt{80}+3\\sqrt{245}$ reikšmę.  \n",
    "9\\. Apskaičiuokite reiškinio $\\displaystyle\\frac{10\\sqrt{27}-2\\sqrt{75}}{2\\sqrt{108}+7\\sqrt{48}}$ reikšmę.  \n",
    "10\\. Stačiojo trikampio statinių ilgiai yra lygūs $4$ ir $5$. Raskite šio trikampio perimetrą.  \n",
    "11\\. Lygiašonio trikampio pagrindo ilgis lygus $14$, o jo šoninės kraštinės yra lygios po $8$. Raskite šio trikampio plotą.  \n",
    "12\\. Apskaičiuokite reiškinio $(2\\sqrt{2}-\\sqrt{3})^2-4(3-\\sqrt{6})$ reikšmę.  \n",
    "13\\. Apskaičiuokite reiškinio $(\\sqrt{3}-2 \\sqrt{2})^2+2(2 \\sqrt{6}-1)$ reikšmę.  \n",
    "14\\. Apskaičiuokite reiškinio $(7-3 \\sqrt{5})^2+14(3+3\\sqrt{5})$ reikšmę.  \n",
    "15\\. Apskaičiuokite reiškinio $(3 \\sqrt{2}+2 \\sqrt{3})^2-(6 \\sqrt{2}+\\sqrt{3})^2$ reikšmę.  "
   ]
  },
  {
   "cell_type": "markdown",
   "id": "d22baef4-a071-41fe-ad02-11c281deac8c",
   "metadata": {},
   "source": [
    "## Veiksmai su šaknimis ★★☆\n",
    "1\\. Apskaičiuok $\\sqrt{25}+\\sqrt{16}-\\sqrt[3]{-8}$.  \n",
    "2\\. Apskaičiuok $\\sqrt{1\\dfrac{24}{25}}-\\sqrt{\\dfrac{4}{25}}+2\\sqrt{4}$.  \n",
    "3\\. Apskaičiuok $-\\sqrt{4}-\\sqrt[3]{-8}+(-\\sqrt[3]{-27})-\\sqrt{13^2-12^2}$.  \n",
    "4\\. Iškelk dauginamąjį prieš šaknies ženklą reiškinyje $\\sqrt{80}$.  \n",
    "5\\. Iškelk dauginamąjį prieš šaknies ženklą reiškinyje $4\\sqrt{216}$.  \n",
    "6\\. Įkelk dauginamąjį po šaknies ženklu reiškinyje $3\\sqrt{7}$.  \n",
    "7\\. Kurio iš nurodytų reiškinių reikšmė yra lygi reiškinio $\\dfrac{2}{3}\\sqrt{45}$?  \n",
    "8\\. Apskaičiuok $\\sqrt{8}+3\\sqrt{2}-5\\sqrt{18}$  \n",
    "9\\. Apskaičiuok $3\\sqrt{75}-\\sqrt{25}-2\\sqrt{27}+\\sqrt{49}$.  \n",
    "10\\. Apskaičiuok $\\dfrac{1}{5}\\sqrt{75}+\\dfrac{2}{3}\\sqrt{27}-\\sqrt{27}$.  \n",
    "11\\. Apskaičiuok $\\dfrac{3\\sqrt{8}+4\\sqrt{18}}{\\sqrt{32}+\\sqrt{50}}$.  \n",
    "12\\. Apskaičiuok $\\dfrac{5\\sqrt{200}+10\\sqrt{50}}{3\\sqrt{242}-\\sqrt{128}}$.  \n",
    "13\\. Iš kokių skaičių negalime ištraukti kubinės šaknies?  \n",
    "$\\begin{array}{l{\\quad}l{\\quad}l{\\quad}l}\n",
    "\\boxed{A}\\, \\text{neigiamų}&\n",
    "\\boxed{B}\\, \\text{trupmeninių}&\n",
    "\\boxed{C}\\, \\text{iš nulio}&\n",
    "\\boxed{D}\\, \\text{kubinę šaknį galima traukti iš visų skaičių}\n",
    "\\end{array}$  \n",
    "14\\. Kvadrato plotas lygus $121$. Kam lygus šio kvadrato perimetras?  \n",
    "15\\. Kubo tūris lygus $125$. Kam lygus šio kubo viso paviršiaus plotas?"
   ]
  },
  {
   "cell_type": "markdown",
   "id": "366afd04-0d4e-493e-bbc3-756b1fd3cc3e",
   "metadata": {},
   "source": [
    "## Laipsnių ir šaknų skaičiavimai ★☆☆\n",
    "1\\. Apskaičiuok $\\sqrt[3]{-27}+\\sqrt{9}-\\sqrt{4}$.  \n",
    "2\\. Apskaičiuok $\\sqrt{1 \\dfrac{24}{25}}-\\sqrt{2 \\dfrac{1}{4}}$.  \n",
    "3\\. Apskaičiuok $\\sqrt[3]{-64}-\\sqrt[3]{1000}-\\sqrt[3]{-125}$.  \n",
    "4\\. Apskaičiuok $2\\sqrt{81}-3 \\cdot\\sqrt{1 \\dfrac{7}{9}} \\cdot \\sqrt[3]{1}$.  \n",
    "5\\. Apskaičiuok $\\sqrt{9+16}-\\sqrt[3]{-1}+8.1^0$.  \n",
    "6\\. Apskaičiuok $3.1^{-1}+(-\\sqrt[3]{-64})+\\dfrac{22}{31}-31^{-1}$.  \n",
    "7\\. Apskaičiuok $\\sqrt{\\dfrac{8^2+4^2}{20}}-\\sqrt{\\left(\\dfrac{1}{4}\\right)^{-1}}$.  \n",
    "8\\. Apskaičiuok $\\sqrt{2 \\dfrac{1}{4}}+\\left(\\dfrac{1}{3}\\right)^{-1}-7^0$.  \n",
    "9\\. Apskaičiuok $\\sqrt{25}+\\sqrt{16}-\\sqrt[3]{-8}$.  \n",
    "10\\. Apskaičiuok $\\sqrt{1 \\dfrac{24}{25}}-\\sqrt{\\dfrac{4}{25}}+2 \\sqrt{4}$.  \n",
    "11\\. Apskaičiuok $-\\sqrt{4}-\\sqrt[3]{-8}+(-\\sqrt[3]{-27})-\\sqrt{13^2-12^2}$.  \n",
    "12\\. Apskaičiuok $1,2^{-2}+\\sqrt{\\dfrac{100}{121}}+\\dfrac{11}{6^2}-(-11)^{-1}$.   "
   ]
  },
  {
   "cell_type": "markdown",
   "id": "83aa5b7b-620b-4670-8b08-25c72485d500",
   "metadata": {},
   "source": [
    "## Laipsnių ir šaknų skaičiavimai ★★☆\n",
    "1\\. Apskaičiuok $2^{2}+\\sqrt{64}-3^{3}-\\sqrt[3]{8}+4^{0}$.  \n",
    "2\\. Įkelk dauginamąjį po šaknies ženklu reiškinyje $\\dfrac{2}{5}\\sqrt{200}$.  \n",
    "3\\. Apskaičiuok $a^{200}\\cdot a^{100}:a^{20}$.  \n",
    "4\\. Apskaičiuok $2^{-2}+\\left (\\dfrac{1}{2} \\right )^{-2}-(-2)^{2}$.  \n",
    "5\\. Apskaičiuok $\\displaystyle\\frac{2^{220}\\cdot 2^{80}}{2^{150}\\cdot 2^{140}}$.  \n",
    "6\\. Apskaičiuok $\\displaystyle\\frac{8^{1000}\\cdot 16^{200}}{32^{50}\\cdot 4^{300}}$.  \n",
    "7\\. Apskaičiuok $\\sqrt{1\\dfrac{24}{25}}+3^{0}-\\left ( \\dfrac{5}{2} \\right )^{-1}$.  \n",
    "8\\. Duota, kad $x=z^7$ ir $y=z^8$. Nustatykite, koks laipsnio rodiklis turėtų būti kvadratėlio vietoje: $x\\cdot y = z^□$.  \n",
    "9\\. Apskaičiuok $(3^{3})^{5}\\cdot 3^{20}:3^{-10}$.  \n",
    "10\\. Apskaičiuok $2^{106}\\cdot 3^{54}\\cdot 2^{94}\\cdot 3^{146}$.  \n",
    "11\\. Apskaičiuok $5\\sqrt{50}-\\sqrt{98}+3\\sqrt{18}-\\sqrt{128}$.  \n",
    "12\\. Apskaičiuok $\\dfrac{1}{2}\\sqrt{48}+3\\sqrt{100}-5\\sqrt{75}-\\sqrt{400}$.  \n",
    "13\\. Palygink: $4^{30} □ 8^{20}$  \n",
    "14\\. Palygink: $14\\sqrt{11} □ 12\\sqrt{14}$  \n",
    "15\\. Iš kokių skaičių negalime ištraukti kvadratinės šaknies?  \n",
    "$\\begin{array}{l{\\quad}l{\\quad}l{\\quad}l}\n",
    "\\boxed{A}\\, \\text{neigiamų}&\n",
    "\\boxed{B}\\, \\text{trupmeninių}&\n",
    "\\boxed{C}\\, \\text{iš nulio}&\n",
    "\\boxed{D}\\, \\text{kvadratinę šaknį galima traukti iš visų skaičių}\n",
    "\\end{array}$"
   ]
  },
  {
   "cell_type": "markdown",
   "id": "dcb7f8d5-cdc5-485d-8165-8b3ae899fd66",
   "metadata": {},
   "source": [
    "## Kėlimas kvadratu ★★☆ \n",
    "Waiting for updates..."
   ]
  },
  {
   "cell_type": "markdown",
   "id": "7dc3b3cd-dd39-4dae-ae4b-c6dc217d0558",
   "metadata": {},
   "source": [
    "## Reiškinių prastinimas ★★☆\n",
    "1\\. Sutraukite panašiuosius dėmenis reiškinyje $3x+3+7x+2+y$.  \n",
    "2\\. Atskliauskite ir sutraukite panašiuosius dėmenis $3(2x+4)-4(x-1)-9$.  \n",
    "3\\. Pakelkite dvinarį $2x+3$ kvadratu.  \n",
    "4\\. Pakelkite dvinarį $5x-4$ kvadratu.  \n",
    "5\\. Atskliauskite ir sutraukite panašiuosius dėmenis: $(5-2x)^2+4x(5-x)$.  \n",
    "6\\. Atskliauskite ir sutraukite panašiuosius dėmenis: $(2x-1)^{2}+(x-1)(x+1)-5x^2$.  \n",
    "7\\. Atskliauskite: $(2x^2y-3xy^3)^2$  \n",
    "8\\. Užrašykite reiškinį, atitinkantį frazę: *dvigubo $x$ ir $5$ sumos kvadratas*.  \n",
    "9\\. Užrašykite reiškinį, atitinkantį frazę: *Dvigubo skaičiaus $a$ ir trigubo skaičiaus $b$ skirtumo kvadrato pusė*.  \n",
    "10\\. Kokio dvinario kvadratas yra lygus $4x^2−40x+100$?  \n",
    "11\\. Reiškinį $9x^{2}-\\dfrac{1}{81}$ užrašykite dviejų dvinarių sandauga.  \n",
    "12\\. Suprastinkite: $(2x-1)(2x+1)-(2x+3)^2+2(6x+5)$.  \n",
    "13\\. Suprastinkite: $3-(x-7)^2-(1-x)(1+x)+47$.  \n",
    "14\\. Suprastinkite: $4(2x+3)(2x-3)-16(x-1)^2-16(2x-3)$.  \n",
    "15\\. Apskaičiuokite pavaizduotos figūros perimetrą ir plotą.  \n",
    "<img src=\"../images/8_7_15.png\" width=\"200\"/>  \n",
    "16\\. Didžiojo kvadrato kraštinės ilgis yra $2x+3$, o mažesniojo kvadrato kraštinės ilgis yra $2x−1$. Raskite nuspalvintos dalies plotą.  \n",
    "<img src=\"../images/5_5_8.png\" width=\"120\"/>  "
   ]
  },
  {
   "cell_type": "markdown",
   "id": "2ed081e6-b280-4545-b6ed-12dbe9734c21",
   "metadata": {},
   "source": [
    "## Tiesinių lygčių sistemos ★☆☆\n",
    "1\\. Rask lygties $5x−ay=4$ koeficientą $a$, jeigu šios lygties sprendinys yra skaičių pora $(1,2; 0,2)$.   \n",
    "2. Kurios iš skaičių porų yra lygties $−3x−2y=−7$ sprendiniai?  \n",
    "$\\begin{array}{l{\\quad}l{\\quad}l{\\quad}l}\n",
    "\\boxed{A}\\, (1;−2)&\n",
    "\\boxed{B}\\, (−1;−2)&\n",
    "\\boxed{C}\\, (1;2)&\n",
    "\\boxed{D}\\, (−1;2)\n",
    "\\end{array}$  \n",
    "3\\. Lygties $−5x+2y=8$ grafikas eina per tašką, kurio abscisė lygi $2$. Kam lygi šio taško ordinatė?  \n",
    "4\\. Lygties $\\frac{1}{4}x-\\frac{2}{5}y= 3$ grafikas eina per tašką, kurio ordinatė lygi $10$. Kam lygi šio taško abscisė?  \n",
    "5\\. Kurios iš skaičių porų yra lygčių sistemos $\\begin{cases} 5x+2y= 16 \\\\ 3x-4y= -6 \\end{cases}$ sprendinys?  \n",
    "$\\begin{array}{l{\\quad}l{\\quad}l{\\quad}l}\n",
    "\\boxed{A}\\, (2;−1)&\n",
    "\\boxed{B}\\, (3;1)&\n",
    "\\boxed{C}\\, (-4;1)&\n",
    "\\boxed{D}\\, (2;3)\n",
    "\\end{array}$  \n",
    "6\\. Išspręskite tiesinių lygčių sistemą: $\\begin{cases} x+2y= 11 \\\\ 3x-2y= 1 \\end{cases}$  \n",
    "7\\. Išspręskite tiesinių lygčių sistemą: $\\begin{cases} 3x-11y= 0 \\\\ 2x+3y= 31 \\end{cases}$  \n",
    "8\\. Išspręskite tiesinių lygčių sistemą: $\\begin{cases} -4x+5y= 18 \\\\ 3x-4y= -13 \\end{cases}$  \n",
    "9\\. Išspręskite tiesinių lygčių sistemą: $\\begin{cases} 22x-3y= 24 \\\\ 5y-11x= -40 \\end{cases}$  \n",
    "10\\. Išspręskite tiesinių lygčių sistemą: $\\begin{cases} \\frac{2}{5}x+y= 14 \\\\ x-\\frac{1}{4}y= 13 \\end{cases}$  \n",
    "11\\. Dviejų skaičių skirtumas yra lygus $14$, o iš trigubo antrojo skaičiaus atėmus dvigubą pirmąjį gauname $20$. Raskite didesnįjį iš tų skaičių.  \n",
    "12\\. Vienas skaičius yra $4$ vienetais mažesnis už trigubą kitą skaičių, o tų skaičių aritmetinis vidurkis yra lygus $20$. Raskite didesnįjį iš tų skaičių."
   ]
  },
  {
   "cell_type": "markdown",
   "id": "5249c76f-3f22-4126-b975-9883528ca9d4",
   "metadata": {},
   "source": [
    "## Trikampiai. Pitagoro teorema ★★☆\n",
    "1\\. Vienas stačiojo trikampio statinis lygus $40$, o įžambinė - $41$. Raskite šio trikampio kito statinio ilgį.  \n",
    "2\\. Stačiojo trikampio vieno statinio ilgis yra $9\\,\\text{cm}$, o kito - $12\\,\\text{cm}$. Raskite šio trikampio perimetrą.  \n",
    "3\\. Trikampio kraštinės yra lygios $12\\,\\text{cm}$, $15\\,\\text{cm}$ ir $27\\,\\text{cm}$. Nustatykite trikampio rūšį.  \n",
    "4\\. Raskite nežinomą kraštinę $x$.  \n",
    "<img src=\"../images/8_8_4.png\" width=\"150\"/>  \n",
    "5\\. Raskite pavaizduoto lygiašonio trikampio perimetrą.  \n",
    "<img src=\"../images/8_8_5.png\" width=\"150\"/>  \n",
    "6\\. Trikampis $\\triangle ABC$ yra lygiašonis, kur $AB=BC$. Trikampis $\\triangle ADC$ taip pat yra lygiašonis, kur $AD=AC$. Raskite $\\angle DAC$.  \n",
    "<img src=\"../images/8_8_6.png\" width=\"150\"/>  \n",
    "7\\. Raskite pavaizduotos stačiosios trapecijos perimetrą ir plotą.  \n",
    "<img src=\"../images/8_8_7.png\" width=\"150\"/>  \n",
    "8\\. Turime statųjį lygiašonį trikampį, kurio įžambinės ilgis $8$. Raskite jo plotą.  \n",
    "9\\. Raskite pavaizduotos lygiašonės trapecijos perimetrą.  \n",
    "<img src=\"../images/8_8_10.png\" width=\"150\"/>  \n",
    "10\\. Vienas stačiojo trikampio statinis yra lygus $36$, o kitas yra $12$ vienetų mažesnis už įžambinę. Raskite šio trikampio įžambinės ilgį.  \n",
    "11\\. Raskite pavaizduoto trikampio plotą.  \n",
    "<img src=\"../images/8_8_12.png\" width=\"150\"/>  \n",
    "12\\.* Įrodykite, kad pateiktas trikampis neegzistuoja.  \n",
    "<img src=\"../images/8_8_13.png\" width=\"150\"/>  "
   ]
  },
  {
   "cell_type": "markdown",
   "id": "b313587c-3de3-46d3-ba22-3aae4fadb31b",
   "metadata": {
    "jp-MarkdownHeadingCollapsed": true
   },
   "source": [
    "## Tarpusavyje susiję dydžiai ★★☆\n",
    "1\\. Lentele pateikta dviejų dydžių $X$ ir $Y$ reikšmių priklausomybė. Nustatykite, ar šie dydžiai yra tiesiogiai, ar atvirkščiai proporcingi. Apskaičiuokite $a+b$ reikšmę.  \n",
    "$\\begin{array} {|c|c|}\\hline X & 1 & a & 3 & 27 \\\\ \n",
    "\\hline Y & 81 & 9 & 27 & b \\\\ \n",
    "\\hline \\end{array}$  \n",
    "2\\. Žinoma, jog dydžiai $X$ ir $Y$ yra tiesiogiai proporcingi. Raskite $\\dfrac{b}{a}$ reikšmę  \n",
    "$\\begin{array} {|c|c|}\\hline X & 4 & a & 9 \\\\ \n",
    "\\hline Y & 20 & 25 & b \\\\ \n",
    "\\hline \\end{array}$  \n",
    "3\\. Duota formulė $y=\\dfrac{4}{x}+6$. Raskite jos nepriklausomo kintamojo reikšmę, jei priklausomo lygi 8.  \n",
    "***Pastaba: sąlyga yra klaidinga. Reikia rasti $x$. Du kintamieji $x$ ir $y$ vienas nuo kito priklauso***.  \n",
    "4\\. Baikite pildyti lentelę, kai dydžius $a$ ir $b$ sieja formulė: $b=3a+4$. Raskite $k+l+m+n$ reikšmę.  \n",
    "$\\begin{array} {|c|c|}\\hline a & k & 9 & m & -2,5 \\\\ \\hline b & 2,5 & l & 11,5 & n \\\\ \\hline  \\end{array}$  \n",
    "5\\. Dydžio $y$ priklausomybė nuo $x$ išreikšta žodžiais taip: $y$ reikšmė gaunama prie $x$ reikšmės pridėjus $2$ ir šią sumą padalijus iš $5$, o tada iš gauto rezultato atėmus $3$. Užrašykite šią priklausomybe formule.  \n",
    "6\\. Vietovėje sodinami $2000$ medžių. Užrašykite formulę, išreiškiančią darbo našumo $d$, rodančio pasodinamų medžių kiekį per valandą, priklausomybę nuo laiko $t$ valandomis, kurį užtruks pasodinti šį skaičių medžių.  \n",
    "7\\. Du automobiliai, kurių greičiai $60\\,\\text{km/h}$ ir $80\\,\\text{km/h}$, tuo pačiu metu išvažiuoja vienas priešais kitą iš vietovių, kurias skiria $400\\,\\text{km}$. Tegu $t$ – automobilių judėjimo laikas valandomis iki susitikimo, o $s$ – atstumas, skiriantis automobilius kilometrais laiko momentu $t$. Užrašykite formulę, teisingai išreiškiančią $s$ priklausomybę nuo $t$.  \n",
    "8\\. Žemiau pateikta dydžių $X$ ir $Y$ atvirkštinio proporcingumo priklausomybės grafiko dalis.  \n",
    "Pasirinkite lentelę, kurioje teisingai pateiktos priklausančios reikšmės $X$ ir $Y$.  \n",
    "$\\begin{array}{l{\\quad}l{\\quad}l{\\quad}l} \n",
    "\\boxed{A}\\, \\begin{array}{|r|c|c|} \\hline X & 3 & 6\\\\ \\hline Y & 2.8 & 1.4 \\\\ \\hline \\end{array}&\n",
    "\\boxed{B}\\, \\begin{array}{|r|c|c|} \\hline X & 5 & 10\\\\ \\hline Y & 1.7 & 0.85 \\\\ \\hline \\end{array}&\n",
    "\\boxed{C}\\, \\begin{array}{|r|c|c|} \\hline X & 5 & 6\\\\ \\hline Y & 1.6 & 1\\frac{1}{3} \\\\ \\hline \\end{array}&\n",
    "\\boxed{D}\\, \\begin{array}{|r|c|c|} \\hline X & 4.5 & 9\\\\ \\hline Y & 1.86 & 0.93 \\\\ \\hline \\end{array}\n",
    "\\end{array}$  \n",
    "<img src=\"../images/8_12_8.png\" width=\"250\"/>  \n",
    "9\\. Žemiau pateikta dydžių $X$ ir $Y$ tiesioginio proporcingumo priklausomybė grafiku. Raskite šiam grafikui priklausančio taško abscisę, kai ordinatė lygi $6$.  \n",
    "<img src=\"../images/8_12_9.png\" width=\"300\"/>  \n",
    "10\\. Lukas ir Marius dažo sieną. Lukas per $1\\,\\text{h}$ nudažo $\\dfrac{1}{5}$ sienos, o Marius $\\dfrac{1}{20}$. Per kiek valandų sieną nudažys abu berniukai dirbdami kartu?  \n",
    "11\\. Pirmoji redaktorė tam tikrą tekstą sutvarkytų per $4$ valandas ir $12$ minučių, o dirbdama kartu su antra redaktore ji šį tekstą sutvarkytų per $3$ valandas. Per kiek laiko šį tekstą sutvarkytų antroji redaktorė dirbdama viena?  \n",
    "12\\. Du irkluotojai tuo pačiu metu pradeda plaukti iš tos pačios vietos į priešingas puses. Pasroviui ir prieš srovę plaukančių irkluotojų savieji greičiai atitinkamai lygūs $6\\,\\text{km/h}$ ir $16\\,\\text{km/h}$. Prieš srovę plaukiantis per $2$ valandas nuplaukė $24\\,\\text{km}$. Kelių kilometrų atstumas tada jį skiria nuo kito irkluotojo?  \n",
    "13\\. Pagaminti du vandens ir druskos tirpalai. Gaminant pirmąjį vanduo ir druska sumaišyti santykiu $3:2$, o antrame – $5:1$. Pirmojo tirpalo gaminimui buvo paimta $60\\,\\text{g}$ vandens, o antrojo tirpalo gauta $300\\,\\text{g}$. Vėliau tirpalai supilti į vieną indą. Kiek gramų druskos yra gautame tirpale?  \n",
    "14\\. Stačiakampio gretasienio ilgis, plotis ir aukštis sutinka kaip $4:2:3$. Apskaičiuokite stačiakampio gretasienio briaunų ilgių sumą, kai paviršiaus plotas lygus $637\\,\\text{cm}^2$"
   ]
  },
  {
   "cell_type": "markdown",
   "id": "796fb1e8-10b0-4475-9d01-f1bcfc82b624",
   "metadata": {},
   "source": [
    "## Erdviniai kūnai ★★☆\n",
    "1\\. Paveikslėlyje pateikti erdvinių kūnų brėžiniai. Kuris iš žemiau pateiktų teiginių yra teisingas?\n",
    "<img src=\"../images/8_13_X.png\" width=\"250\"/>  "
   ]
  }
 ],
 "metadata": {
  "kernelspec": {
   "display_name": "Python 3 (ipykernel)",
   "language": "python",
   "name": "python3"
  },
  "language_info": {
   "codemirror_mode": {
    "name": "ipython",
    "version": 3
   },
   "file_extension": ".py",
   "mimetype": "text/x-python",
   "name": "python",
   "nbconvert_exporter": "python",
   "pygments_lexer": "ipython3",
   "version": "3.12.7"
  }
 },
 "nbformat": 4,
 "nbformat_minor": 5
}
