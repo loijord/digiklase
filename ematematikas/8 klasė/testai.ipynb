{
 "cells": [
  {
   "cell_type": "markdown",
   "id": "57d593de-7fcd-4763-b391-4dfedeb88cb2",
   "metadata": {},
   "source": [
    "## Simetrija ★☆☆ \n",
    "1\\. Kiek simetrijos ašių turi kvadratas?  \n",
    "2\\. Kiek simetrijos ašių turi taisyklingasis šešiakampis?  \n",
    "3\\. Taškas $A$ yra simetriškas taškui $B(5;−2)$ ašies $OX$ atžvilgiu. Raskite taško $A$ koordinates.  \n",
    "4\\. Taškas $A$ yra simetriškas taškui $B(−4;7)$ ašies $OY$ atžvilgiu. Raskite taško $A$ koordinates.  \n",
    "5\\. Taškas $A$ yra simetriškas taškui $B(−3;5)$ koordinačių pradžios taško atžvilgiu. Raskite taško $A$ koordinates.  \n",
    "6\\. Yra žinoma, kad taškai $A(−2;−3)$ ir $B(6;7)$ yra simetriški taško $C$ atžvilgiu. Raskite taško $C$ kordinates.  \n",
    "7\\. Yra žinoma, kad taškai $A(−5;4)$ ir $B$ yra simetriški taško $C(1;0)$ atžvilgiu. Raskite taško $B$ kordinates.  \n",
    "8\\. Kvadrato viršūnės yra taškuose $A(−1;1)$, $B(−1;7)$, $C(5;7)$ ir $D(5;1)$. Raskite šio kvadrato simetrijos centro taško koordinates.  \n",
    "9\\. Taškas $A(1;7)$ yra simetriškas taškui $B$ ašies $OX$ atžvilgiu. Raskite atkarpos $AB$ ilgį.  \n",
    "10\\. Taškas $A(−4;3)$ yra simetriškas taškui $B$ ašies $OY$ atžvilgiu. Raskite atkarpos $AB$ ilgį."
   ]
  },
  {
   "cell_type": "markdown",
   "id": "0ddbd92a-2d31-4165-8349-7bafb75942b0",
   "metadata": {},
   "source": [
    "## Laipsnių savybės ★★☆\n",
    "1\\. Apskaičiuok $5^2-2^3-3^4$.  \n",
    "2\\. Apskaičiuok $\\left ( \\dfrac{2}{3} \\right )^2+9^{-1}+\\dfrac{2}{9}^2$.  \n",
    "3\\. Apskaičiuok $2^{12}\\cdot 2^8:2^{-10}$.  \n",
    "4\\. Apskaičiuok $2^7\\cdot 3^6\\cdot 2^{13}\\cdot 3^{14}$.  \n",
    "5\\. Apskaičiuok $9^{11}\\cdot 3^{8}\\cdot 27^5$.  \n",
    "6\\. Apskaičiuok $\\dfrac{3^{9}\\cdot 3^{10}}{3^{8}\\cdot 3^{15}}$.  \n",
    "7\\. Apskaičiuok $\\dfrac{4^{-5}\\cdot 8^{-10}}{16^{-8}\\cdot 2^{15}}$.  \n",
    "8\\. Apskaičiuok $\\left ( -\\dfrac{1}{2} \\right )^{-2}+\\left ( \\dfrac{1}{3} \\right )^{-3}-4^0.$  \n",
    "9\\. Apskaičiuok $-(-2)^3-(-3)^2-(-1)^3$.  \n",
    "10\\. Apskaičiuok $5^{24}\\cdot 3^{10}\\cdot 2^{11}\\cdot 3^{14}\\cdot 2^{13}$.  \n",
    "11\\. Apskaičiuok $(-2)^{18}\\cdot 2^{11}\\cdot 2^{-8}$.  \n",
    "12\\. Apskaičiuok $\\left ( 2^3 \\right )^2\\cdot 2^{60}:4^{18}\\cdot 2^0 \\cdot 8^{-20}$.  \n",
    "13\\. Apskaičiuok $1000\\cdot 10^{23}\\cdot 100\\cdot 10^{-16}\\cdot 0.01$.  \n",
    "14\\. Apskaičiuok $\\dfrac{1}{1000} \\cdot 10^{12}\\cdot \\dfrac{1}{100} \\cdot 10^{25}\\cdot \\dfrac{1}{10^{7}}$.  \n",
    "15\\. Apskaičiuok $\\left ( \\left ( \\dfrac{1}{3} \\right )^{-2}+\\left ( \\dfrac{1}{2} \\right )^{-3}\\right )^{-1}+\\left ( 1\\dfrac{1}{16} \\right )^{-1}$."
   ]
  },
  {
   "cell_type": "markdown",
   "id": "d22baef4-a071-41fe-ad02-11c281deac8c",
   "metadata": {},
   "source": [
    "## Veiksmai su šaknimis ★★☆\n",
    "1\\. Apskaičiuok $\\sqrt{25}+\\sqrt{16}-\\sqrt[3]{-8}$.  \n",
    "2\\. Apskaičiuok $\\sqrt{1\\dfrac{24}{25}}-\\sqrt{\\dfrac{4}{25}}+2\\sqrt{4}$.  \n",
    "3\\. Apskaičiuok $-\\sqrt{4}-\\sqrt[3]{-8}+(-\\sqrt[3]{-27})-\\sqrt{13^2-12^2}$.  \n",
    "4\\. Iškelk dauginamąjį prieš šaknies ženklą reiškinyje $\\sqrt{80}$.  \n",
    "5\\. Iškelk dauginamąjį prieš šaknies ženklą reiškinyje $4\\sqrt{216}$.  \n",
    "6\\. Įkelk dauginamąjį po šaknies ženklu reiškinyje $3\\sqrt{7}$.  \n",
    "7\\. Kurio iš nurodytų reiškinių reikšmė yra lygi reiškinio $\\dfrac{2}{3}\\sqrt{45}$?  \n",
    "8\\. Apskaičiuok $\\sqrt{8}+3\\sqrt{2}-5\\sqrt{18}$  \n",
    "9\\. Apskaičiuok $3\\sqrt{75}-\\sqrt{25}-2\\sqrt{27}+\\sqrt{49}$.  \n",
    "10\\. Apskaičiuok $\\dfrac{1}{5}\\sqrt{75}+\\dfrac{2}{3}\\sqrt{27}-\\sqrt{27}$.  \n",
    "11\\. Apskaičiuok $\\dfrac{3\\sqrt{8}+4\\sqrt{18}}{\\sqrt{32}+\\sqrt{50}}$.  \n",
    "12\\. Apskaičiuok $\\dfrac{5\\sqrt{200}+10\\sqrt{50}}{3\\sqrt{242}-\\sqrt{128}}$.  \n",
    "13\\. Iš kokių skaičių negalime ištraukti kubinės šaknies?  \n",
    "$\\begin{array}{l{\\quad}l{\\quad}l{\\quad}l}\n",
    "\\enclose{circle}{A}\\, \\text{neigiamų}&\n",
    "\\enclose{circle}{B}\\, \\text{trupmeninių}&\n",
    "\\enclose{circle}{C}\\, \\text{iš nulio}&\n",
    "\\enclose{circle}{D}\\, \\text{kubinę šaknį galima traukti iš visų skaičių}\n",
    "\\end{array}$  \n",
    "14\\. Kvadrato plotas lygus $121$. Kam lygus šio kvadrato perimetras?  \n",
    "15\\. Kubo tūris lygus $125$. Kam lygus šio kubo viso paviršiaus plotas?"
   ]
  },
  {
   "cell_type": "markdown",
   "id": "366afd04-0d4e-493e-bbc3-756b1fd3cc3e",
   "metadata": {},
   "source": [
    "## Laipsnių ir šaknų skaičiavimai ★☆☆\n",
    "1\\. Apskaičiuok $\\sqrt[3]{-27}+\\sqrt{9}-\\sqrt{4}$.  \n",
    "2\\. Apskaičiuok $\\sqrt{1 \\dfrac{24}{25}}-\\sqrt{2 \\dfrac{1}{4}}$.  \n",
    "3\\. Apskaičiuok $\\sqrt[3]{-64}-\\sqrt[3]{1000}-\\sqrt[3]{-125}$.  \n",
    "4\\. Apskaičiuok $2\\sqrt{81}-3 \\cdot\\sqrt{1 \\dfrac{7}{9}} \\cdot \\sqrt[3]{1}$.  \n",
    "5\\. Apskaičiuok $\\sqrt{9+16}-\\sqrt[3]{-1}+8.1^0$.  \n",
    "6\\. Apskaičiuok $3.1^{-1}+(-\\sqrt[3]{-64})+\\dfrac{22}{31}-31^{-1}$.  \n",
    "7\\. Apskaičiuok $\\sqrt{\\dfrac{8^2+4^2}{20}}-\\sqrt{\\left(\\dfrac{1}{4}\\right)^{-1}}$.  \n",
    "8\\. Apskaičiuok $\\sqrt{2 \\dfrac{1}{4}}+\\left(\\dfrac{1}{3}\\right)^{-1}-7^0$.  \n",
    "9\\. Apskaičiuok $\\sqrt{25}+\\sqrt{16}-\\sqrt[3]{-8}$.  \n",
    "10\\. Apskaičiuok $\\sqrt{1 \\dfrac{24}{25}}-\\sqrt{\\dfrac{4}{25}}+2 \\sqrt{4}$.  \n",
    "11\\. Apskaičiuok $-\\sqrt{4}-\\sqrt[3]{-8}+(-\\sqrt[3]{-27})-\\sqrt{13^2-12^2}$.  \n",
    "12\\. Apskaičiuok $1,2^{-2}+\\sqrt{\\dfrac{100}{121}}+\\dfrac{11}{6^2}-(-11)^{-1}$.   "
   ]
  },
  {
   "cell_type": "markdown",
   "id": "83aa5b7b-620b-4670-8b08-25c72485d500",
   "metadata": {},
   "source": [
    "## Laipsnių ir šaknų skaičiavimai ★★☆\n",
    "1\\. Apskaičiuok $2^{2}+\\sqrt{64}-3^{3}-\\sqrt[3]{8}+4^{0}$.  \n",
    "2\\. Įkelk dauginamąjį po šaknies ženklu reiškinyje $\\dfrac{2}{5}\\sqrt{200}$.  \n",
    "3\\. Apskaičiuok $a^{200}\\cdot a^{100}:a^{20}$.  \n",
    "4\\. Apskaičiuok $2^{-2}+\\left (\\dfrac{1}{2} \\right )^{-2}-(-2)^{2}$.  \n",
    "5\\. Apskaičiuok $\\displaystyle\\frac{2^{220}\\cdot 2^{80}}{2^{150}\\cdot 2^{140}}$.  \n",
    "6\\. Apskaičiuok $\\displaystyle\\frac{8^{1000}\\cdot 16^{200}}{32^{50}\\cdot 4^{300}}$.  \n",
    "7\\. Apskaičiuok $\\sqrt{1\\dfrac{24}{25}}+3^{0}-\\left ( \\dfrac{5}{2} \\right )^{-1}$.  \n",
    "8\\. Duota, kad $x=z^7$ ir $y=z^8$. Nustatykite, koks laipsnio rodiklis turėtų būti kvadratėlio vietoje: $x\\cdot y = z^□$.  \n",
    "9\\. Apskaičiuok $(3^{3})^{5}\\cdot 3^{20}:3^{-10}$.  \n",
    "10\\. Apskaičiuok $2^{106}\\cdot 3^{54}\\cdot 2^{94}\\cdot 3^{146}$.  \n",
    "11\\. Apskaičiuok $5\\sqrt{50}-\\sqrt{98}+3\\sqrt{18}-\\sqrt{128}$.  \n",
    "12\\. Apskaičiuok $\\dfrac{1}{2}\\sqrt{48}+3\\sqrt{100}-5\\sqrt{75}-\\sqrt{400}$.  \n",
    "13\\. Palygink: $4^{30} □ 8^{20}$  \n",
    "14\\. Palygink: $14\\sqrt{11} □ 12\\sqrt{14}$  \n",
    "15\\. Iš kokių skaičių negalime ištraukti kvadratinės šaknies?  \n",
    "$\\begin{array}{l{\\quad}l{\\quad}l{\\quad}l}\n",
    "\\enclose{circle}{A}\\, \\text{neigiamų}&\n",
    "\\enclose{circle}{B}\\, \\text{trupmeninių}&\n",
    "\\enclose{circle}{C}\\, \\text{iš nulio}&\n",
    "\\enclose{circle}{D}\\, \\text{kvadratinę šaknį galima traukti iš visų skaičių}\n",
    "\\end{array}$"
   ]
  },
  {
   "cell_type": "markdown",
   "id": "39ec4756-1d16-47de-80e0-00c71782365a",
   "metadata": {},
   "source": [
    "## Šaknys ★★☆\n",
    "1\\. Apskaičiuokite reiškinio $2\\sqrt{25}+3\\sqrt{144}-4\\sqrt{81}$ reikšmę.  \n",
    "2\\. Apskaičiuokite reiškinio $0,2\\sqrt{0,16}+\\dfrac{\\sqrt{0,0576}}{2}+\\sqrt{\\dfrac{16}{25}}$ reikšmę.  \n",
    "3\\. Apskaičiuokite reiškinio $(2\\sqrt{3})^2+3\\cdot (-\\sqrt{7})^2-\\left(\\dfrac{1}{3}\\right)^{-1}$ reikšmę.  \n",
    "4\\. Iškelkite dauginamąjį prieš šaknies ženklą reiškinyje $\\sqrt{300}$.  \n",
    "5\\. Įkelkite dauginamąjį po šaknies ženklu reiškinyje $3\\sqrt{7}$.  \n",
    "6\\. Surašykite skaičius $-2\\sqrt{5}$, $-\\sqrt{23}$, $-\\sqrt{\\dfrac{2}{5}}$, $-4\\sqrt{7}$, $-\\sqrt{17}$ didėjimo tvarka.  \n",
    "7\\. Apskaičiuokite reiškinio $(2+3\\sqrt{2})(3-\\sqrt{2})$ reikšmę.  \n",
    "8\\. Apskaičiuokite reiškinio $2\\sqrt{125}-\\sqrt{80}+3\\sqrt{245}$ reikšmę.  \n",
    "9\\. Apskaičiuokite reiškinio $\\displaystyle\\frac{10\\sqrt{27}-2\\sqrt{75}}{2\\sqrt{108}+7\\sqrt{48}}$ reikšmę.  \n",
    "10\\. Stačiojo trikampio statinių ilgiai yra lygūs $4$ ir $5$. Raskite šio trikampio perimetrą.  \n",
    "11\\. Lygiašonio trikampio pagrindo ilgis lygus $14$, o jo šoninės kraštinės yra lygios po $8$. Raskite šio trikampio plotą.  \n",
    "12\\. Apskaičiuokite reiškinio $(2\\sqrt{2}-\\sqrt{3})^2-4(3-\\sqrt{6})$ reikšmę.  \n",
    "13\\. Apskaičiuokite reiškinio $(\\sqrt{3}-2 \\sqrt{2})^2+2(2 \\sqrt{6}-1)$ reikšmę.  \n",
    "14\\. Apskaičiuokite reiškinio $(7-3 \\sqrt{5})^2+14(3+3\\sqrt{5})$ reikšmę.  \n",
    "15\\. Apskaičiuokite reiškinio $(3 \\sqrt{2}+2 \\sqrt{3})^2-(6 \\sqrt{2}+\\sqrt{3})^2$ reikšmę.  "
   ]
  },
  {
   "cell_type": "markdown",
   "id": "7dc3b3cd-dd39-4dae-ae4b-c6dc217d0558",
   "metadata": {},
   "source": [
    "## Reiškiniai ★★☆\n",
    "1\\. Sutraukite panašiuosius dėmenis reiškinyje $3x+3+7x+2+y$.  \n",
    "2\\. Atskliauskite ir sutraukite panašiuosius dėmenis $3(2x+4)-4(x-1)-9$.  \n",
    "3\\. Pakelkite dvinarį $2x+3$ kvadratu.  \n",
    "4\\. Pakelkite dvinarį $5x-4$ kvadratu.  \n",
    "5\\. Atskliauskite ir sutraukite panašiuosius dėmenis: $(5-2x)^2+4x(5-x)$.  \n",
    "6\\. Atskliauskite ir sutraukite panašiuosius dėmenis: $(2x-1)^{2}+(x-1)(x+1)-5x^2$.  \n",
    "7\\. Atskliauskite: $(2x^2y-3xy^3)^2$  \n",
    "8\\. Užrašykite reiškinį, atitinkantį frazę: *dvigubo $x$ ir $5$ sumos kvadratas*.  \n",
    "9\\. Užrašykite reiškinį, atitinkantį frazę: *Dvigubo skaičiaus $a$ ir trigubo skaičiaus $b$ skirtumo kvadrato pusė*.  \n",
    "10\\. Kokio dvinario kvadratas yra lygus $4x^2−40x+100$?  \n",
    "11\\. Reiškinį $9x^{2}-\\dfrac{1}{81}$ užrašykite dviejų dvinarių sandauga.  \n",
    "12\\. Suprastinkite: $(2x-1)(2x+1)-(2x+3)^2+2(6x+5)$.  \n",
    "13\\. Suprastinkite: $3-(x-7)^2-(1-x)(1+x)+47$.  \n",
    "14\\. Suprastinkite: $4(2x+3)(2x-3)-16(x-1)^2-16(2x-3)$.  \n",
    "15\\. Apskaičiuokite pavaizduotos figūros perimetrą ir plotą.  \n",
    "<img src=\"../images/8_7_15.png\" width=\"200\"/>  \n",
    "16\\. Didžiojo kvadrato kraštinės ilgis yra $2x+3$, o mažesniojo kvadrato kraštinės ilgis yra $2x−1$. Raskite nuspalvintos dalies plotą.  \n",
    "<img src=\"../images/5_5_8.png\" width=\"120\"/>  "
   ]
  },
  {
   "cell_type": "markdown",
   "id": "d5a49b96-dab5-4913-9da1-160a4d8c624b",
   "metadata": {},
   "source": [
    "## Lygtys ★☆☆\n",
    "1\\. Išspręskite lygtį $2x+4=4x+10$  \n",
    "2\\. Išspręskite lygtį $3(x−1)+1=2−4(x+1)$  \n",
    "3\\. Išspręskite lygtį $(x−3)(2x+8)=0$  \n",
    "4\\. Išspręskite lygtį $2x^2=6x$  \n",
    "5\\. Išspręskite lygtį $x^2-1\\frac{24}{25}=0$  \n",
    "6\\. Išspręskite lygtį $x^2+25=0$  \n",
    "7\\. Su kuria $x$ reikšme reiškinys $2x+6$ yra lygus reiškiniui $2(3x−15)$?  \n",
    "8\\. Raskite lygties $x(2x+1)=x(4x−7)$ sprendinių sumą.  \n",
    "9\\. Su kuria $x$ reikšme reiškinio $2x+3$ kvadratas yra lygus $9$?  \n",
    "10\\. Išspręskite lygtį $(2x+3)^2−4=(2x+1)(2x−1)$"
   ]
  },
  {
   "cell_type": "markdown",
   "id": "2ed081e6-b280-4545-b6ed-12dbe9734c21",
   "metadata": {},
   "source": [
    "## Tiesinių lygčių sistemos ★☆☆\n",
    "1\\. Rask lygties $5x−ay=4$ koeficientą $a$, jeigu šios lygties sprendinys yra skaičių pora $(1,2; 0,2)$.   \n",
    "2. Kurios iš skaičių porų yra lygties $−3x−2y=−7$ sprendiniai?  \n",
    "$\\begin{array}{l{\\quad}l{\\quad}l{\\quad}l}\n",
    "\\enclose{circle}{A}\\, (1;−2)&\n",
    "\\enclose{circle}{B}\\, (−1;−2)&\n",
    "\\enclose{circle}{C}\\, (1;2)&\n",
    "\\enclose{circle}{D}\\, (−1;2)\n",
    "\\end{array}$  \n",
    "3\\. Lygties $−5x+2y=8$ grafikas eina per tašką, kurio abscisė lygi $2$. Kam lygi šio taško ordinatė?  \n",
    "4\\. Lygties $\\frac{1}{4}x-\\frac{2}{5}y= 3$ grafikas eina per tašką, kurio ordinatė lygi $10$. Kam lygi šio taško abscisė?  \n",
    "5\\. Kurios iš skaičių porų yra lygčių sistemos $\\begin{cases} 5x+2y= 16 \\\\ 3x-4y= -6 \\end{cases}$ sprendinys?  \n",
    "$\\begin{array}{l{\\quad}l{\\quad}l{\\quad}l}\n",
    "\\enclose{circle}{A}\\, (2;−1)&\n",
    "\\enclose{circle}{B}\\, (3;1)&\n",
    "\\enclose{circle}{C}\\, (-4;1)&\n",
    "\\enclose{circle}{D}\\, (2;3)\n",
    "\\end{array}$  \n",
    "6\\. Išspręskite tiesinių lygčių sistemą: $\\begin{cases} x+2y= 11 \\\\ 3x-2y= 1 \\end{cases}$  \n",
    "7\\. Išspręskite tiesinių lygčių sistemą: $\\begin{cases} 3x-11y= 0 \\\\ 2x+3y= 31 \\end{cases}$  \n",
    "8\\. Išspręskite tiesinių lygčių sistemą: $\\begin{cases} -4x+5y= 18 \\\\ 3x-4y= -13 \\end{cases}$  \n",
    "9\\. Išspręskite tiesinių lygčių sistemą: $\\begin{cases} 22x-3y= 24 \\\\ 5y-11x= -40 \\end{cases}$  \n",
    "10\\. Išspręskite tiesinių lygčių sistemą: $\\begin{cases} \\frac{2}{5}x+y= 14 \\\\ x-\\frac{1}{4}y= 13 \\end{cases}$  \n",
    "11\\. Dviejų skaičių skirtumas yra lygus $14$, o iš trigubo antrojo skaičiaus atėmus dvigubą pirmąjį gauname $20$. Raskite didesnįjį iš tų skaičių.  \n",
    "12\\. Vienas skaičius yra $4$ vienetais mažesnis už trigubą kitą skaičių, o tų skaičių aritmetinis vidurkis yra lygus $20$. Raskite didesnįjį iš tų skaičių."
   ]
  },
  {
   "cell_type": "markdown",
   "id": "5249c76f-3f22-4126-b975-9883528ca9d4",
   "metadata": {},
   "source": [
    "## Trikampiai. Pitagoro teorema ★☆☆\n",
    "1\\. Vienas stačiojo trikampio statinis lygus $40$, o įžambinė - $41$. Raskite šio trikampio kito statinio ilgį.  \n",
    "2\\. Stačiojo trikampio vieno statinio ilgis yra $9\\,\\text{cm}$, o kito - $12\\,\\text{cm}$. Raskite šio trikampio perimetrą.  \n",
    "3\\. Trikampio kraštinės yra lygios $12\\,\\text{cm}$, $15\\,\\text{cm}$ ir $27\\,\\text{cm}$. Nustatykite trikampio rūšį.  \n",
    "4\\. Raskite nežinomą kraštinę $x$.  \n",
    "<img src=\"../images/8_8_4.png\" width=\"150\"/>  \n",
    "5\\. Raskite pavaizduoto lygiašonio trikampio perimetrą.  \n",
    "<img src=\"../images/8_8_5.png\" width=\"150\"/>  \n",
    "6\\. Trikampis $\\triangle ABC$ yra lygiašonis, kur $AB=BC$. Trikampis $\\triangle ADC$ taip pat yra lygiašonis, kur $AD=AC$. Raskite $\\angle DAC$.  \n",
    "<img src=\"../images/8_8_6.png\" width=\"150\"/>  \n",
    "7\\. Raskite pavaizduotos stačiosios trapecijos perimetrą ir plotą.  \n",
    "<img src=\"../images/8_8_7.png\" width=\"150\"/>  \n",
    "8\\. Turime statųjį lygiašonį trikampį, kurio įžambinės ilgis $8$. Raskite jo plotą.  \n",
    "9\\. Raskite pavaizduotos lygiašonės trapecijos perimetrą.  \n",
    "<img src=\"../images/8_8_10.png\" width=\"150\"/>  \n",
    "10\\. Vienas stačiojo trikampio statinis yra lygus $36$, o kitas yra $12$ vienetų mažesnis už įžambinę. Raskite šio trikampio įžambinės ilgį.  \n",
    "11\\. Raskite pavaizduoto trikampio plotą.  \n",
    "<img src=\"../images/8_8_12.png\" width=\"150\"/>  \n",
    "12\\.* Įrodykite, kad pateiktas trikampis neegzistuoja.  \n",
    "<img src=\"../images/8_8_13.png\" width=\"150\"/>  "
   ]
  },
  {
   "cell_type": "markdown",
   "id": "854d1e03-f55c-4318-b950-fa58d2f01503",
   "metadata": {},
   "source": [
    "## Nelygybės ★☆☆\n",
    "1\\. Kiek iš viso yra sveikųjų skaičių, kurie yra didesni negu $−7$, bet mažesni už $11$?\n",
    "2\\. Užrašykite nelygybės $x \\le −3$ sprendinį intervalu.  \n",
    "3\\. Išspręskite nelygybę $1,5x+4<17,5$ ir užrašykite jos sprendinius intervalu.  \n",
    "4\\. Išspręskite nelygybę $2x+8>x+10$ ir užrašykite jos sprendinius intervalu.  \n",
    "5\\. Išspręskite nelygybę $5x−18<10x+10$ ir užrašykite jos sprendinius intervalu.  \n",
    "6\\. Išspręskite nelygybę $3(x−4)+5≤5(x+3)$ ir užrašykite jos sprendinius intervalu.  \n",
    "7\\. Kurie iš skaičių $−4$; $−3$; $−2$; $−1$; $0$; $1$; $2$ yra nelygybės $x<−4$ sprendiniai?  \n",
    "8\\. Raskite nelygybės $15−5x>10−7x$ mažiausią sveikąjį sprendinį.  \n",
    "9\\. Su kuriomis $x$ reikšmėmis reiškinio $14x+5$ reikšmė yra didesnė už reiškinio $2(10x−5)$?  \n",
    "10\\. Su kuriomis $x$ reikšmėmis dvinaris $−2x−18$ įgyja neigiamas reikšmes?  \n",
    "11\\. Su kuriomis $y$ reikšmėmis dvinaris $3y+6$ yra neteigiamas?  \n",
    "12\\. Surašykite skaičius $−2$; $0$; $−2$, $1$; $4$; $−1$, $9$; $0.1$; $1$ didėjimo tvarka.  \n",
    "13\\. Sakinį užrašykite nelygybe: skaičių $x$ padaliję iš $3$ ir iš gauto rezultato atėmę $2$, gausime reiškinį, kurio reikšmės nemažesnės už $1$.  \n",
    "14\\. Kiek natūraliųjų sprendinių tenkina nelygybę $3x+7(2+x)>12x$?  "
   ]
  },
  {
   "cell_type": "markdown",
   "id": "b313587c-3de3-46d3-ba22-3aae4fadb31b",
   "metadata": {},
   "source": [
    "## Tarpusavyje susiję dydžiai ★★☆\n",
    "1\\. Lentele pateikta dviejų dydžių $X$ ir $Y$ reikšmių priklausomybė. Nustatykite, ar šie dydžiai yra tiesiogiai, ar atvirkščiai proporcingi. Apskaičiuokite $a+b$ reikšmę.  \n",
    "$\\begin{array} {|c|c|}\\hline X & 1 & a & 3 & 27 \\\\ \n",
    "\\hline Y & 81 & 9 & 27 & b \\\\ \n",
    "\\hline \\end{array}$  \n",
    "2\\. Žinoma, jog dydžiai $X$ ir $Y$ yra tiesiogiai proporcingi. Raskite $\\dfrac{b}{a}$ reikšmę  \n",
    "$\\begin{array} {|c|c|}\\hline X & 4 & a & 9 \\\\ \n",
    "\\hline Y & 20 & 25 & b \\\\ \n",
    "\\hline \\end{array}$  \n",
    "3\\. Duota formulė $y=\\dfrac{4}{x}+6$. Raskite jos nepriklausomo kintamojo reikšmę, jei priklausomo lygi 8.  \n",
    "***Pastaba: sąlyga yra klaidinga. Reikia rasti $x$. Du kintamieji $x$ ir $y$ vienas nuo kito priklauso***.  \n",
    "4\\. Baikite pildyti lentelę, kai dydžius $a$ ir $b$ sieja formulė: $b=3a+4$. Raskite $k+l+m+n$ reikšmę.  \n",
    "$\\begin{array} {|c|c|}\\hline a & k & 9 & m & -2,5 \\\\ \\hline b & 2,5 & l & 11,5 & n \\\\ \\hline  \\end{array}$  \n",
    "5\\. Dydžio $y$ priklausomybė nuo $x$ išreikšta žodžiais taip: $y$ reikšmė gaunama prie $x$ reikšmės pridėjus $2$ ir šią sumą padalijus iš $5$, o tada iš gauto rezultato atėmus $3$. Užrašykite šią priklausomybe formule.  \n",
    "6\\. Vietovėje sodinami $2000$ medžių. Užrašykite formulę, išreiškiančią darbo našumo $d$, rodančio pasodinamų medžių kiekį per valandą, priklausomybę nuo laiko $t$ valandomis, kurį užtruks pasodinti šį skaičių medžių.  \n",
    "7\\. Du automobiliai, kurių greičiai $60\\,\\text{km/h}$ ir $80\\,\\text{km/h}$, tuo pačiu metu išvažiuoja vienas priešais kitą iš vietovių, kurias skiria $400\\,\\text{km}$. Tegu $t$ – automobilių judėjimo laikas valandomis iki susitikimo, o $s$ – atstumas, skiriantis automobilius kilometrais laiko momentu $t$. Užrašykite formulę, teisingai išreiškiančią $s$ priklausomybę nuo $t$.  \n",
    "8\\. Žemiau pateikta dydžių $X$ ir $Y$ atvirkštinio proporcingumo priklausomybės grafiko dalis.  \n",
    "Pasirinkite lentelę, kurioje teisingai pateiktos priklausančios reikšmės $X$ ir $Y$.  \n",
    "$\\begin{array}{l{\\quad}l{\\quad}l{\\quad}l} \n",
    "\\enclose{circle}{A}\\, \\begin{array}{|r|c|c|} \\hline X & 3 & 6\\\\ \\hline Y & 2.8 & 1.4 \\\\ \\hline \\end{array}&\n",
    "\\enclose{circle}{B}\\, \\begin{array}{|r|c|c|} \\hline X & 5 & 10\\\\ \\hline Y & 1.7 & 0.85 \\\\ \\hline \\end{array}&\n",
    "\\enclose{circle}{C}\\, \\begin{array}{|r|c|c|} \\hline X & 5 & 6\\\\ \\hline Y & 1.6 & 1\\frac{1}{3} \\\\ \\hline \\end{array}&\n",
    "\\enclose{circle}{D}\\, \\begin{array}{|r|c|c|} \\hline X & 4.5 & 9\\\\ \\hline Y & 1.86 & 0.93 \\\\ \\hline \\end{array}\n",
    "\\end{array}$  \n",
    "<img src=\"../images/8_12_8.png\" width=\"250\"/>  \n",
    "9\\. Žemiau pateikta dydžių $X$ ir $Y$ tiesioginio proporcingumo priklausomybė grafiku. Raskite šiam grafikui priklausančio taško abscisę, kai ordinatė lygi $6$.  \n",
    "<img src=\"../images/8_12_9.png\" width=\"300\"/>  \n",
    "10\\. Lukas ir Marius dažo sieną. Lukas per $1\\,\\text{h}$ nudažo $\\dfrac{1}{5}$ sienos, o Marius $\\frac{1}{20}$. Per kiek valandų sieną nudažys abu berniukai dirbdami kartu?  \n",
    "11\\. Pirmoji redaktorė tam tikrą tekstą sutvarkytų per $4$ valandas ir $12$ minučių, o dirbdama kartu su antra redaktore ji šį tekstą sutvarkytų per $3$ valandas. Per kiek laiko šį tekstą sutvarkytų antroji redaktorė dirbdama viena?  \n",
    "12\\. Du irkluotojai tuo pačiu metu pradeda plaukti iš tos pačios vietos į priešingas puses. Pasroviui ir prieš srovę plaukančių irkluotojų savieji greičiai atitinkamai lygūs $6\\,\\text{km/h}$ ir $16\\,\\text{km/h}$. Prieš srovę plaukiantis per $2$ valandas nuplaukė $24\\,\\text{km}$. Kelių kilometrų atstumas tada jį skiria nuo kito irkluotojo?  \n",
    "13\\. Pagaminti du vandens ir druskos tirpalai. Gaminant pirmąjį vanduo ir druska sumaišyti santykiu $3:2$, o antrame – $5:1$. Pirmojo tirpalo gaminimui buvo paimta $60\\,\\text{g}$ vandens, o antrojo tirpalo gauta $300\\,\\text{g}$. Vėliau tirpalai supilti į vieną indą. Kiek gramų druskos yra gautame tirpale?  \n",
    "14\\. Stačiakampio gretasienio ilgis, plotis ir aukštis sutinka kaip $4:2:3$. Apskaičiuokite stačiakampio gretasienio briaunų ilgių sumą, kai paviršiaus plotas lygus $637\\,\\text{cm}^2$"
   ]
  },
  {
   "cell_type": "markdown",
   "id": "8993b506-7f6b-40fa-9b84-146a42206b29",
   "metadata": {},
   "source": [
    "## Plotai ir perimetrai ★☆☆\n",
    "1\\. Apskaičiuokite trikampio plotą.  \n",
    "<img src=\"../images/8_13_1.png\" width=\"120\"/>  \n",
    "2\\. Apskaičiuokite stačiakampio plotą.  \n",
    "<img src=\"../images/8_13_2.png\" width=\"120\"/>  \n",
    "3\\. Apskaičiuokite lygiagretainio plotą.  \n",
    "<img src=\"../images/8_13_3.png\" width=\"120\"/>  \n",
    "4\\. Raskite stačiojo trikampio plotą.  \n",
    "<img src=\"../images/8_13_4.png\" width=\"120\"/>  \n",
    "5\\. Raskite stačiosios trapecijos perimetrą.  \n",
    "<img src=\"../images/8_13_5.png\" width=\"120\"/>  \n",
    "6\\. Raskite stačiosios trapecijos plotą.  \n",
    "<img src=\"../images/8_13_6.png\" width=\"120\"/>  \n",
    "7\\. Raskite lygiašonės trapecijos plotą.  \n",
    "<img src=\"../images/8_13_7.png\" width=\"120\"/>  \n",
    "8\\. Lygiašonio trikampio šoninės kraštinės ilgis $4\\,\\text{cm}$, o kampas prie pagrindo lygus $60^{\\circ}$. Raskite šio trikampio perimetrą.  \n",
    "9\\. Stačiakampio viršūnių koordinatės $A(−1;−4)$, $B(−1;3)$ ir $C(5;3)$. Raskite ketvirtos viršūnės $D$ koordinates.  \n",
    "10\\. Apskaičiuokite rombo plotą, kai jo įstrižainių ilgiai yra $6\\,\\text{cm}$ ir $8\\,\\text{cm}$."
   ]
  },
  {
   "cell_type": "markdown",
   "id": "fc372b19-36d3-497a-b25a-efec5396a2c4",
   "metadata": {},
   "source": [
    "## Rinkiniai ir tikėtinumas ★☆☆\n",
    "1\\. Mokyklos valgykloje yra trijų rūšių bandelių ir dviejų rūšių arbatos. Kiek turime pasirinkimo galimybių, jei norime nusipirkti vieną bandelę ir puodelį arbatos?  \n",
    "2\\. Kiek yra dviženklių skaičių?  \n",
    "3\\. Kiek yra triženklių skaičių, kurie dalijasi iš 10?  \n",
    "4\\. Kiek skirtingų porų, sudarytų iš berniuko ir mergaitės, galima sudaryti klasėje, turinčioje 10 berniukų ir 12 mergaičių?  \n",
    "5\\. Telefono PIN kodą sudaro 4 skaitmenys. Kiek yra skirtingų PIN kodo kombinacijų?  \n",
    "6\\. Metami du šešiasieniai kauliukai ir stebima atvirtusių akučių suma. Kiek yra iš viso skirtingų sumų kombinacijų?  \n",
    "7\\. Urnoje yra 10 baltų ir 12 juodų kamuoliukų. Nežiūrėdami traukiame vieną jų. Tegu $P_B$ yra tikimybė įvykio, kai ištraukiamas baltas rutulys, o $P_J$ - kai juodas. Palyginkite: $P_B □ P_J$.  \n",
    "8\\. Metamas šešiasienis lošimo kauliukas. Kas labiau tikėtina, kad atvirs lyginis akučių skaičius ar nelyginis akučių skaičius?  \n",
    "9\\. Metamos dvi monetos ir stebima, kuo jos atvirs. Kiek skirtingų atvirtimo kombinacijų yra?  \n",
    "10\\. Automobilių salone yra trijų skirtingų spalvų automobiliai, kurie gali būti komplektuojami arba su mechanine, arba su automatine pavarų dėže. Taip pat galima rinktis iš benzininio arba hibridinio variklio versijų. Kiek pasirinkimo galimybių turime, jei nusprendėme įsigyti hibridinį automobilį?  "
   ]
  },
  {
   "cell_type": "markdown",
   "id": "796fb1e8-10b0-4475-9d01-f1bcfc82b624",
   "metadata": {},
   "source": [
    "## Erdviniai kūnai ★★☆"
   ]
  },
  {
   "cell_type": "markdown",
   "id": "65c318cb-505a-47e4-96b7-e060d2dcf483",
   "metadata": {},
   "source": [
    "## Aštuntos klasės kurso kartojimas ★☆☆"
   ]
  },
  {
   "cell_type": "markdown",
   "id": "1917e72c-dac1-4381-9289-833fec58c1cc",
   "metadata": {},
   "source": [
    "## Aštuntos klasės kurso kartojimas ★★☆"
   ]
  },
  {
   "cell_type": "markdown",
   "id": "30611dfc-aef5-4d63-ab09-11db63617c53",
   "metadata": {},
   "source": [
    "## Aštuntos klasės kurso kartojimas ★★★"
   ]
  },
  {
   "cell_type": "markdown",
   "id": "816ad5d0-304b-4a70-bb82-ff17dc57f773",
   "metadata": {},
   "source": [
    "## Žinių patikrinimas prieš stojamuosius į gimnazijas ★★★"
   ]
  },
  {
   "cell_type": "markdown",
   "id": "52b5b7ad-7e66-4ccc-9a76-eff8e4fc2302",
   "metadata": {},
   "source": [
    "#### In total\n",
    "10 + 15 + 15 + 12 + 15 + 15 + 16 + 10 + 12 + 12 + 14 + 14 + 10 + 10 + 15 + 14 + 14 + 14 + 14 = 252 (19 topics)"
   ]
  }
 ],
 "metadata": {
  "kernelspec": {
   "display_name": "Python 3 (ipykernel)",
   "language": "python",
   "name": "python3"
  },
  "language_info": {
   "codemirror_mode": {
    "name": "ipython",
    "version": 3
   },
   "file_extension": ".py",
   "mimetype": "text/x-python",
   "name": "python",
   "nbconvert_exporter": "python",
   "pygments_lexer": "ipython3",
   "version": "3.12.7"
  }
 },
 "nbformat": 4,
 "nbformat_minor": 5
}
