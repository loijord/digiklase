{
 "cells": [
  {
   "cell_type": "markdown",
   "id": "796fb1e8-10b0-4475-9d01-f1bcfc82b624",
   "metadata": {},
   "source": [
    "## Kvadratinės lygtys ★★☆"
   ]
  },
  {
   "cell_type": "markdown",
   "id": "d82ef2d2-4700-4450-b83a-2d7e39ea2ccf",
   "metadata": {},
   "source": [
    "1\\. Kokia yra lygties $4x^2=8x$ sprendinių suma?  \n",
    "2\\. Išspręskite kvadratinę lygtį $-2x^{2}=8x$ ir nurodyk mažesnįjį jos sprendinį.  \n",
    "3\\. Išspręskite kvadratinę lygtį $\\dfrac{1}{3}x^{2}=12$ ir nurodyk didesnįjį jos sprendinį.  \n",
    "4\\. Išspręskite kvadratinę lygtį $(x+3)(x+5)=15$  \n",
    "5\\. Surask kvadratinės lygties $-0,2x^{2}-1,2x+8=0$ diskriminanto reikšmę.  \n",
    "6\\. Išspręskite lygtį $x^2 + 3x - 10 = 0$.  \n",
    "7\\. Išspręskite lygtį $x^{2}-x-30=0$.  \n",
    "8\\. Išspręskite lygtį $3x^2+19x-154=0$.  \n",
    "9\\. Išspręskite lygtį $\\dfrac{1}{3}x^{2}-x=6$.  \n",
    "10\\. Surask kvadratinės lygties $x^2+bx−8=0$ koeficiento $b$ reikšmę, jeigu šios lygties vienas iš sprendinių yra $4$.  \n",
    "11\\. Surask kvadratinės lygties $2x^2+3x+c=0$ koeficiento $c$ reikšmę, jeigu šios lygties diskriminantas yra lygus $121$.  \n",
    "12\\. Nurodyk kvadratinės lygties $3x^2+x+1=0$ sprendinių skaičių.  \n",
    "13\\. Su kuria koeficiento $a$ reikšme kvadratinė lygtis $ax^2−30x+25=0$ turi vieną sprendinį?  \n",
    "14\\. Koks skaičius slepiasi kvadratėlio vietoje? $2x^2+3x-27=2(x-3)(x+\\square)$  \n",
    "14\\. Išspręskite lygtį $x^{2}-x-30=0$. \n"
   ]
  },
  {
   "cell_type": "markdown",
   "id": "b0635d0f-078c-471d-843d-602b9c09d509",
   "metadata": {
    "jp-MarkdownHeadingCollapsed": true
   },
   "source": [
    "## Kvadratinės lygtys ★★★\n",
    "1\\. Išspręsk kvadratinę lygtį $\\dfrac{1}{10}x^2+\\dfrac{19}{20}x-\\dfrac{1}{2}=0$ ir surask jos sprendinių sandaugą.  \n",
    "2\\. Išspręsk kvadratinę lygtį $\\dfrac{x^{2}-3}{8}+\\dfrac{2x-1}{4}=2$ ir surask jos sprendinių sandaugą.  \n",
    "3\\. Surask kvadratinės lygties $(2x-3)^{2}=45-12x$ neigiamą sprendinį.  \n",
    "4\\. Surask kvadratinės lygties $(x-5)^{2}-(x-4)(x+3)=x^{2}+27$ teigiamą sprendinį.  \n",
    "5\\. Išspręskite lygtį $4x^3−9x=0$ ir raskite jos sprendinių aritmetinį vidurkį.  \n",
    "6\\. Išspręskite lygtį $x^2+16=0$  \n",
    "7\\. Jeigu sugalvotą skaičių pakelsime kvadratu ir atimsime $420$, tai gausime sugalvotą skaičių. Koks tas sugalvotas skaičius, jeigu yra žinoma, kad jis turi būti teigiamas?  \n",
    "8\\. Vienas iš dviejų natūraliųjų skaičių yra $7$ vienetais didesnis už kitą, o tų skaičių sandauga lygi $198$. Raskite didesnįjį iš tų skaičių.  \n",
    "9\\. Surask stačiojo trikampio plotą, kurio vienas statinis $5$ vienetais ilgesnis už kitą, o įžambinė yra lygi $25$.  \n",
    "10\\. Raskite perimetrą stačiakampio, kurio plotas lygus $345\\,\\text{cm}^2$, o jo ilgis $8\\,\\text{cm}$ didesnis už plotį.  \n",
    "11\\. Trijų, vienas po kito einančių, natūraliųjų skaičių kvadratų suma lygi $974$. Raskite šių skaičių sumą.  \n",
    "12\\. Dviejų, vienas po kito einančių, teigiamų lyginių skaičių kvadratų suma lygi $1252$. Nurodyk tų skaičių sumą."
   ]
  },
  {
   "cell_type": "markdown",
   "id": "c3e46c52-6e1e-4dd3-912d-c1d7e6d30a4e",
   "metadata": {},
   "source": [
    "## Reiškinių prastinimas ★☆☆\n",
    "1\\. Suprastinkite reiškinį $\\dfrac{15x^2}{25x^3}$.  \n",
    "2\\. Suprastinkite reiškinį $\\displaystyle\\frac{8x+12}{4x+6}$.  \n",
    "3\\. Suprastinkite reiškinį $\\dfrac{a-a^2}{1-a^2}$.  \n",
    "4\\. Suprastinkite reiškinį $\\dfrac{11 x+22}{x^2-4}$.  \n",
    "5\\. Suprastinkite reiškinį $\\dfrac{a^2-3 a}{a^2-9}$.  \n",
    "6\\. Suprastinkite reiškinį $\\displaystyle\\frac{m^2-9}{3m-9}$.  \n",
    "7\\. Suprastinkite reiškinį $\\dfrac{a^2+5 a}{a^2-25}$.  \n",
    "8\\. Suprastinkite reiškinį $\\dfrac{x^2-25}{2 x-10}$.  \n",
    "9\\. Suprastinkite reiškinį $\\dfrac{x^2-81}{x^2+9 x}$.  \n",
    "10\\. Suprastinkite reiškinį $\\dfrac{x^3-4 x}{x^2+2x}$.  \n",
    "11\\. Suprastinkite reiškinį $\\displaystyle\\frac{4n^2-25}{5-2n}$.  \n",
    "12\\. Suprastinkite reiškinį $\\displaystyle\\frac{x^2-x-6}{x^2-4}$.  \n",
    "13\\. Suprastinkite reiškinį $\\dfrac{x^2 + 4x + 4}{x + 2}$.  \n",
    "14\\. Suprastinkite reiškinį $\\displaystyle\\frac{x^2-9}{x^2-7x+12}$.  \n",
    "15\\. Suprastinkite reiškinį $\\displaystyle\\frac{12x^2-24}{3x+3\\sqrt{2}}$.  "
   ]
  },
  {
   "cell_type": "markdown",
   "id": "435bf88a-b894-494d-99bc-3c6e20667c5e",
   "metadata": {},
   "source": [
    "## Reiškinių prastinimas ★★☆\n",
    "1\\. Suprastinkite reiškinį $\\dfrac{2x}{x+3}+\\dfrac{x+9}{x+3}-3$.  \n",
    "2\\. Suprastinkite reiškinį $\\dfrac{1-x}{1+x}-\\dfrac{1+x}{1-x}$.  \n",
    "3\\. Suprastinkite reiškinį $\\dfrac{x-12}{2x-8}+\\dfrac{x}{x-4}+\\dfrac{1}{2}$.  \n",
    "4\\. Suprastinkite reiškinį $\\displaystyle\\frac{x+3}{x^2+x}-\\frac{1}{x+1}$.  \n",
    "5\\. Suprastinkite reiškinį $\\displaystyle\\frac{2x+2}{x^2-x}\\cdot \\frac{x^2-1}{1+x}$.  \n",
    "6\\. Suprastinkite reiškinį $\\dfrac{9x^2-27x}{x^2-6x+9}\\cdot\\dfrac{x^2-9}{3x^2+9x}$.  \n",
    "7\\. Suprastinkite reiškinį $\\displaystyle\\frac{x^2-4}{6}:\\frac{x^2-2x}{3x}$.  \n",
    "8\\. Suprastinkite reiškinį $\\displaystyle\\frac{a^2-3a}{a^2-25}: \\frac{a^2-9}{a^2+5a}$.  \n",
    "9\\. Suprastinkite reiškinį $\\dfrac{x^2+8x+15}{x^2+3x}\\cdot\\dfrac{x^2}{x^2+5x}$.  \n",
    "10\\. Suprastinkite reiškinį $\\dfrac{x^3-4 x}{x^2+2x}$.  \n",
    "11\\. Suprastinkite reiškinį $\\dfrac{x+5}{x-3}\\cdot\\left(\\dfrac{x^2-9}{x^2+5x}-\\dfrac{x-3}{x+5} \\right)$.  \n",
    "12\\. Suprastinkite reiškinį $\\displaystyle\\left ( \\frac{1}{1+x}+\\frac{1}{1-x} \\right ):\\frac{2}{x^2-1}$."
   ]
  },
  {
   "cell_type": "markdown",
   "id": "ee11b6fc-2f0d-4092-92af-7800d7cc5c9f",
   "metadata": {},
   "source": [
    "## Reiškinių prastinimas su dviem kintamaisiais ★★☆\n",
    "1\\. Suprastinkite reiškinį $\\dfrac{18xy}{9y}$.  \n",
    "2\\. Suprastinkite reiškinį $\\dfrac{35 x^4 y^6}{7 x^2 y^2}$.  \n",
    "3\\. Suprastinkite reiškinį $\\dfrac{70 x^6 y^6}{28 x^2 y^3}$.  \n",
    "4\\. Suprastinkite reiškinį $\\dfrac{17 x+34}{x y+2 y}$.  \n",
    "5\\. Suprastinkite reiškinį $\\dfrac{2 a^3-a^2 b}{4 a-2 b}$.  \n",
    "6\\. Suprastinkite reiškinį $\\dfrac{m^2+m p}{10 m+10 p}$.  \n",
    "7\\. Suprastinkite reiškinį $\\dfrac{6 x^2-6 y^2}{3 x+3 y}$.  \n",
    "8\\. Suprastinkite reiškinį $\\dfrac{3x}{x-y}+\\dfrac{3y}{y-x}$.  \n",
    "9\\. Suprastinkite reiškinį $\\dfrac{6x}{x^2-y^2}-\\dfrac{3}{x+y}$.  \n",
    "10\\. Suprastinkite reiškinį $\\dfrac{x^2+10xy+25y^2}{2x^2+10xy}\\cdot\\dfrac{10xy}{x^2-25y^2}$.  \n",
    "11\\. Suprastinkite reiškinį $\\dfrac{6x^2-6y^2}{7x^2+7xy}:\\dfrac{8xy-8y^2}{21x^2y^2}$.  \n",
    "12\\. Suprastinkite reiškinį $\\dfrac{5x}{x-y}-\\dfrac{20xy}{x^2+xy}\\cdot\\dfrac{x^2+2xy+y^2}{4x^2-4y^2}$."
   ]
  },
  {
   "cell_type": "markdown",
   "id": "3e42cb9c-b5b4-4e87-b595-45278613865c",
   "metadata": {},
   "source": [
    "## Lygčių sistemos ★★☆\n",
    "1\\. Išspręskite lygčių sistemą: $\\begin{cases} xy=48 \\\\ y=x+2 \\end{cases}$  \n",
    "2\\. Išspręskite lygčių sistemą: $\\begin{cases} xy-11x=90 \\\\ 3x-11=2y \\end{cases}$  \n",
    "3\\. Išspręskite lygčių sistemą: $\\begin{cases} x^2-y^2=108 \\\\ 2x-3y=6 \\end{cases}$  \n",
    "4\\. Išspręskite lygčių sistemą: $\\begin{cases} x^2+8x+7=8y \\\\ 2y-3x=1 \\end{cases}$  \n",
    "5\\. Išspręskite lygčių sistemą: $\\begin{cases} (5x-8)^2+(y-5)^2=0 \\\\ 2y-5x=2 \\end{cases}$  \n",
    "6\\. Išspręskite lygčių sistemą: $\\begin{cases} (x+7)^2+(y-7)^2=(5x-y)^2 \\\\ 2x-y=-2 \\end{cases}$  \n",
    "7\\. Išspręskite lygčių sistemą: $\\begin{cases} (x+6)(y-8)+11=(y-2x)^2 \\\\ y-4x=3 \\end{cases}$  \n",
    "8\\. Raskite du skaičius, kurių suma yra $40$, o tų pačių skaičių sandauga yra $391$. Raskite didesnįjį iš tų skaičių.  \n",
    "9\\. Stačiakampio įstrižainė lygi $17\\,\\text{cm}$. Šio stačiakampio ilgis yra $7\\,\\text{cm}$ ilgesnis už jo plotį. Raskite šio stačiakampio plotą.  \n",
    "10\\. Dviejų dviženklių natūraliųjų skaičių kvadratų skirtumas yra $41$ mažesnis už jų sandaugą. Vienas iš skaičių yra $7$ mažesnis už dvigubą kitą skaičių. Raskite šiuos skaičius."
   ]
  },
  {
   "cell_type": "markdown",
   "id": "03954df7-7718-4bd4-812c-d40d657dd533",
   "metadata": {},
   "source": [
    "## Funkcija ir jos savybės ★★☆\n",
    "1\\. Kurios iš žemiau pateiktų kreivių gali būti funkcijų grafikai?  \n",
    "<img src=\"../images/9_7_1.png\" width=\"240\"/>  \n",
    "2\\. Paveiksle pavaizduotas funkcijos $f(x)$ grafikas.    \n",
    "<img src=\"../images/9_7_2.png\" width=\"240\"/>  \n",
    "Kuris iš žemiau pateiktų teiginių apie pavaizduotą funkciją yra neteisingas?  \n",
    "$\\begin{array}{l{\\quad}l}\n",
    "\\enclose{circle}{A}\\, D_f\\in[-3;3)&\n",
    "\\enclose{circle}{B}\\, \\text{Funkcija}\\,f(x)\\,\\text{mažėja, kai}\\,x\\in(0;3)\\\\\n",
    "\\enclose{circle}{C}\\, E_f\\in(0;3)&\n",
    "\\enclose{circle}{D}\\, \\text{Funkcija}\\,f(x)\\,\\text{neturi neigiamų reikšmių}\n",
    "\\end{array}$  \n",
    "3\\. Paveiksle pavaizduotas funkcijos $f(x)$ grafikas.  \n",
    "<img src=\"../images/9_7_3.png\" width=\"240\"/>  \n",
    "Keliuose taškuose funkcija $f(x)$ kerta $Ox$ ašį? Raskite funkcijos $f$ apibrėžimo sritį $D_f$ ir reikšmių sritį $E_f$.  \n",
    "4\\. Paveiksle pavaizduotas funkcijos $f(x)$ grafikas.  \n",
    "<img src=\"../images/9_7_4.png\" width=\"240\"/>  \n",
    "Nurodykite intervalą, kuriame funkcija $f(x)$ yra didėjanti. Raskite funkcijos $f$ apibrėžimo sritį $D_f$ ir reikšmių sritį $E_f$.  \n",
    "5\\. Paveiksle pavaizduotas funkcijos $f(x)$ grafikas. Su kokiomis $x$ reikšmėmis funkcija $f(x)$ įgyja neigiamas reikšmes?  \n",
    "<img src=\"../images/9_7_5.png\" width=\"240\"/>  \n",
    "6\\. Paveiksle pavaizduotas funkcijos $f(x)$ grafikas. Su kokiomis $x$ reikšmėmis funkcija $f(x)$ įgyja teigiamas reikšmes?  \n",
    "<img src=\"../images/9_7_6.png\" width=\"240\"/>  \n",
    "7\\. Paveiksle pavaizduotas funkcijos $f(x)$ grafikas. Remdamiesi šios funkcijos grafiku, raskite reiškinio $f(−3) − f(3) + f(0)$ reikšmę.  \n",
    "<img src=\"../images/9_7_7.png\" width=\"240\"/>  \n",
    "8\\. Paveiksle pavaizduotas funkcijos $f(x)$ grafikas.  \n",
    "<img src=\"../images/9_7_8.png\" width=\"240\"/>  \n",
    "Keliuose taškuose funkcija $f(x)$ įgyja reikšmę lygią $0$? Lygią $1$? Lygią $2$?  \n",
    "9\\. Paveiksle pavaizduotas funkcijos $f(x)$ grafikas. Remdamiesi šios funkcijos grafiku atsakykite į žemiau pateiktus klausimus.  \n",
    "<img src=\"../images/9_7_9.png\" width=\"240\"/>  \n",
    "* Nurodykite funkcijos $f(x)$ apibrėžimo sritį $D_f$.  \n",
    "* Apskaičiuokite reiškinio $f(-2)+f(0)+f(2)$ reikšmę.\n",
    "  \n",
    "10\\. Paveiksle pavaizduotas funkcijos $f(x)$ grafikas.  \n",
    "<img src=\"../images/9_7_10.png\" width=\"240\"/>  \n",
    "* Su kuria $x$ reikšme, funkcija įgyja reikšmę lygią $6$?  \n",
    "* Raskite reiškinio $f(f(4))$ reikšmę. \n",
    "* Nurodykite duotosios funkcijos mažiausią reikšmę."
   ]
  },
  {
   "cell_type": "code",
   "execution_count": null,
   "id": "1cfd6c49-a86b-4e56-8cd2-b052e57b72c2",
   "metadata": {},
   "outputs": [],
   "source": [
    "## Tiesinė funkcija ★★☆\n",
    "11\n",
    "* "
   ]
  },
  {
   "cell_type": "code",
   "execution_count": null,
   "id": "5bfee498-bf80-44f0-8a93-d5163cc765cf",
   "metadata": {},
   "outputs": [],
   "source": [
    "## Kvadratinė funkcija ★★☆\n",
    "12"
   ]
  },
  {
   "cell_type": "code",
   "execution_count": null,
   "id": "c405dd68-6678-4e74-82d8-ccd5e8ba271f",
   "metadata": {},
   "outputs": [],
   "source": [
    "## Stačiojo trikampio trigonometrija ★★☆\n",
    "12"
   ]
  },
  {
   "cell_type": "code",
   "execution_count": null,
   "id": "d46cfaf3-3022-49ce-a81f-f5163cd73844",
   "metadata": {},
   "outputs": [],
   "source": [
    "## Apskritimai, tiesės ir kampai ★★☆\n",
    "12"
   ]
  },
  {
   "cell_type": "code",
   "execution_count": null,
   "id": "387145a5-0b4e-4ab5-8845-9da88533c554",
   "metadata": {},
   "outputs": [],
   "source": [
    "Nuo šitos vietos: uždaviniai pašalinti"
   ]
  },
  {
   "cell_type": "markdown",
   "id": "688883b3-9576-4e01-9c7b-eabcb63ee009",
   "metadata": {},
   "source": [
    "## Reiškiniai su vienu kintamuoju ★★☆\n",
    "1\\. Užrašykite reiškinį $A(x)$, kurio reikšmės nusakomos tokia taisykle: prie trigubos $x$ reikšmės pridedamas $1$, ir gauta suma pakeliama kvadratu.  \n",
    "2\\. Duotas reiškinys $f(x)=−x^3+2x$. Apskaičiuokite $f(−3)$  \n",
    "3\\. Su kuria $x$ reikšme reiškinys $g(x)=\\dfrac{x+8}{9}$ lygus $2$?  \n",
    "4\\. Kuris iš žemiau pateiktų taškų priklauso reiškinio $f(x)=−5x+6$ grafikui?  \n",
    "$\\begin{array}{l{\\quad}l{\\quad}l{\\quad}l}\n",
    "\\enclose{circle}{A}\\, (-1;1)&\n",
    "\\enclose{circle}{B}\\, (−2;16)&\n",
    "\\enclose{circle}{C}\\, (-4;2)&\n",
    "\\enclose{circle}{D}\\, (1;-1)\n",
    "\\end{array}$  \n",
    "5\\. Kuri iš žemiau pateiktų tiesių yra reiškinio $f(x)=2x+1$ grafikas?  \n",
    "<img src=\"../images/9_8_5.png\" width=\"300\"/>  \n",
    "6\\. Ar reiškinio $g(x)=−8$ grafikas gali būti lygiagretus su kuria nors koordinačių plokštumos ašimi?  \n",
    "7\\. Kuriuose ketvirčiuose yra išsidėstęs reiškinio $f(x)=\\dfrac{4}{x}$ grafikas?  \n",
    "8\\. Hiperbolės $y=\\dfrac{a}{x}$ grafikas eina per tašką $(−5;3)$. Raskite a reikšmę.  \n",
    "9\\. Pagal žemiau pateiktą parabolės $y=ax^2+c$ grafiko brėžinį nustatykite koeficientų $a$ ir $c$ reikšmes.  \n",
    "<img src=\"../images/9_8_9.png\" width=\"300\"/>  \n",
    "10\\. Pagal žemiau pateiktą parabolės $y=ax^3+c$ grafiko brėžinį nustatykite koeficientų $a$ ir $c$ reikšmes.  \n",
    "<img src=\"../images/9_8_10.png\" width=\"200\"/>  \n",
    "11\\. Kurio reiškinio grafikui priklauso taškas $(−2; 2)$?  \n",
    "$\\begin{array}{l{\\quad}l{\\quad}l{\\quad}l}\n",
    "\\enclose{circle}{A}\\, f(x)=x^2-6&\n",
    "\\enclose{circle}{B}\\, f(x)=x^3-6&\n",
    "\\enclose{circle}{C}\\, f(x)=-\\dfrac{4}{x}&\n",
    "\\enclose{circle}{D}\\, f(x)=\\dfrac{1}{2}x-3\n",
    "\\end{array}$  \n",
    "12\\. Kurios lygties grafinis sprendimas parodytas žemiau?  \n",
    "$\\begin{array}{l{\\quad}l{\\quad}l{\\quad}l}\n",
    "\\enclose{circle}{A}\\, \\dfrac{4}{5} x+2=-\\dfrac{3}{x}&\n",
    "\\enclose{circle}{B}\\, \\dfrac{3}{x}=x^2+2&\n",
    "\\enclose{circle}{C}\\, -\\dfrac{3}{x}=x^2+2&\n",
    "\\enclose{circle}{D}\\, x^2+2=-\\dfrac{4}{5}x-2\n",
    "\\end{array}$  \n",
    "<img src=\"../images/9_8_12.png\" width=\"300\"/>  \n",
    "13\\. Grafiniu būdu nustatykite lygties $x^3+1=\\dfrac{2}{x}$ sprendinių skaičių.  \n",
    "14\\. Grafiniu būdu išspręskite nelygybę $\\dfrac{8}{x}\\le x^2$ ir nurodykite jos sprendinių aibę."
   ]
  },
  {
   "cell_type": "markdown",
   "id": "150045b0-1e98-4ba2-a4d6-c0f19964a6f4",
   "metadata": {
    "jp-MarkdownHeadingCollapsed": true
   },
   "source": [
    "## Koordinačių plokštuma ★★☆\n",
    "1\\. Raskite taško $M$, kurio koordinatės $(−7;−8)$, atstumą iki abscisių ašies.  \n",
    "2\\. Raskite taško $N$, kurio koordinatės $(−5;11)$, atstumą iki ordinačių ašies.  \n",
    "3\\. Raskite atstumą nuo taško $A(15;−8)$ iki koordinačių pradžios taško $O(0;0)$.  \n",
    "4\\. Raskite atstumą tarp taškų $A(12;−2)$ ir $B(24;14)$  \n",
    "5\\. Nurodykite atkarpos $AB$ vidurio taško $M$ koordinates, kai $A(25; −14)$ ir $B(−11; 2)$.  \n",
    "6\\. Taškas $M(3;−5)$ yra atkarpos $AB$ vidurio taškas. Taško $A$ koordinatės yra $(10; 1)$. Raskite taško $B$ koordinates.  \n",
    "7\\. Apskaičiuokite perimetrą trikampio, kurio viršūnių koordinatės yra $A(−4;4)$, $B(−4;−1)$ ir $C(8;−1)$.  \n",
    "8\\. Keturkampio viršūnės yra $A(1;−2)$, $B(−13;8)$, $C(10;5)$ ir $D(8;−15)$. Taškas $M$ yra kraštinės $AB$ vidurio taškas, o taškas $N$ yra kraštinės $CD$ vidurio taškas. Raskite atkarpos $MN$ ilgį.  \n",
    "9\\. Duoti taškai $M(12;20)$ ir $N(−4;−12)$. Taškas $N$ yra atkarpos $MK$ vidurio taškas, o taškas $P$ – atkarpos $NK$ vidurio taškas. Raskite taško $P$ koordinates.  \n",
    "10\\. Taškai $A(4;6)$, $B(−4;0)$, $C(24;−4)$ yra trikampio $ABC$ viršūnės. $CM$ yra trikampio $ABC$ pusiaukraštinė. Raskite pusiaukraštinės $CM$ ilgį.  \n",
    "11\\. Apskaičiuokite plotą trikampio $LMN$, kurio viršūnių koordinatės yra $L(−1;1)$, $M(2;5)$ ir $N(5;1)$  \n",
    "12\\. Duoti taškai $M(7;2)$ ir $L(17;−12)$. Raskite atkarpos $OK$ ilgį, jei taškas $K$ yra atkarpos $ML$ vidurio taškas, o taškas $O$ yra koordinačių pradžios taškas."
   ]
  },
  {
   "cell_type": "markdown",
   "id": "a7eca0f0-ba82-4d77-9f20-849f15b37641",
   "metadata": {},
   "source": [
    "## Panašieji trikampiai ★★☆\n",
    "\n",
    "1\\. Kuris trikampis panašus į trikampį ABC?  \n",
    "<img src=\"../images/9_10_1.png\" width=\"300\"/>  \n",
    "2\\. Nustatykite, kuris trikampis panašus į trikampį ABC, ir raskite klaustuku pažymėto jo kampo dydį ir kraštinės ilgį.  \n",
    "<img src=\"../images/9_10_2.png\" width=\"300\"/>  \n",
    "3\\. Nustatykite, kuris trikampis panašus į trikampį $ABC$, ir apskaičiuokite jų panašumo koeficientą $k$, kai $k>1$.  \n",
    "<img src=\"../images/9_10_3.png\" width=\"300\"/>  \n",
    "4\\. Nustatykite, kuris trikampis panašus į trikampį $ABC$, ir apskaičiuokite jų panašumo koeficientą $k$, kai $k>1$.  \n",
    "<img src=\"../images/9_10_4.png\" width=\"300\"/>  \n",
    "6\\. Pagal pateiktą brėžinį $(a||b)$ nustatykite, kuris iš žemiau pateiktų teiginių yra neteisingas?  \n",
    "$\\begin{array}{l{\\quad}l{\\quad}l{\\quad}l}\n",
    "\\enclose{circle}{A}\\, \\frac{AO}{OB}=\\frac{1}{k}&\n",
    "\\enclose{circle}{B}\\, OB\\cdot OD=k^2\\cdot OA\\cdot OC&\n",
    "\\enclose{circle}{C}\\, \\frac{OD}{CD}=k&\n",
    "\\enclose{circle}{D}\\, \\frac{AO}{AB}=\\frac{1}{k+1}\n",
    "\\end{array}$ \n",
    "<img src=\"../images/9_10_6.png\" width=\"250\"/>  \n",
    "7\\. Pagal brėžinio duomenis apskaičiuokite trikampio $ABC$ kraštinės $BC$ ilgį.  \n",
    "<img src=\"../images/9_10_7.png\" width=\"270\"/>  \n",
    "8\\. Apskaičiuokite atkarpos $DE$ ilgį, kai žinoma, kad $DE||AC$. Atsakymą suapvalinkite iki dešimtųjų.  \n",
    "<img src=\"../images/9_10_8.png\" width=\"180\"/>  >  "
   ]
  },
  {
   "cell_type": "markdown",
   "id": "52b5b7ad-7e66-4ccc-9a76-eff8e4fc2302",
   "metadata": {},
   "source": [
    "#### In total\n",
    "14 + 12 + 15 + 12 + 12 + 10 + 9 + 14 + 12 + 12 + 10 = 132 (11 topics)"
   ]
  }
 ],
 "metadata": {
  "kernelspec": {
   "display_name": "Python 3 (ipykernel)",
   "language": "python",
   "name": "python3"
  },
  "language_info": {
   "codemirror_mode": {
    "name": "ipython",
    "version": 3
   },
   "file_extension": ".py",
   "mimetype": "text/x-python",
   "name": "python",
   "nbconvert_exporter": "python",
   "pygments_lexer": "ipython3",
   "version": "3.12.7"
  }
 },
 "nbformat": 4,
 "nbformat_minor": 5
}
