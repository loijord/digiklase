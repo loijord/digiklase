{
 "cells": [
  {
   "cell_type": "markdown",
   "id": "2c99b794-644b-4624-85da-64b310c5304e",
   "metadata": {},
   "source": [
    "## Posūkių kampai ir trigonometrija ★★☆\n",
    "1\\. Išreikškite kampą $\\dfrac{19\\pi}{12}$ laipsniais.  \n",
    "2\\. Kuriame koordinačių plokštumos ketvirtyje yra kampas, kurio dydis $1200^\\circ$?  \n",
    "3\\. Kuriame koordinačių plokštumos ketvirtyje yra kampas, kurio dydis $-\\dfrac{135\\pi}{4}$?  \n",
    "4\\. Suraskite vienetinio apskritimo taško koordinates, kai šis taškas atitinka posūkio kampą, kurio dydis $-\\dfrac{3\\pi}{4}$.  \n",
    "5\\. Suraskite posūkio kampo dydį laipsniais, kai tą kampą atitinkančio vienetinio apskritimo taško koordinatės yra $\\left(-\\dfrac{1}{2}; \\dfrac{\\sqrt{3}}{2}\\right)$.  \n",
    "6\\. Suraskite reiškinio $\\cos\\alpha = 4m - 5$ visas $m$ reikšmes, su kuriomis reiškinys turi prasmę.  \n",
    "7\\. Nustatykite didžiausią reiškinio $\\dfrac{32}{3\\sin\\alpha + 5}$ reikšmę.  \n",
    "8\\. Nustatykite mažiausią reiškinio $7\\sin^2\\alpha - 5$ reikšmę.  \n",
    "9\\. Surašykite skaičius $\\cos \\dfrac{3\\pi}{8}$, $\\cos \\dfrac{8\\pi}{3}$, $\\cos \\dfrac{3\\pi}{2}$, $\\cos \\dfrac{8\\pi}{7}$ didėjimo tvarka.  \n",
    "10\\. Vienetinio apskritimo taško $M$ koordinates yra $\\left(x;\\dfrac{1}{2}\\right)$. Suraskite trūkstamą taško koordinatės $x$ dydį, jeigu yra žinoma, kad taškas $M$ priklauso $\\text{II}$ ketvirčiui.  \n",
    "11\\. Suraskite posūkio kampo $\\alpha$ tangentą, kai tą kampą atitinkančio vienetinio apskritimo taško koordinatės yra $\\left(-\\dfrac{1}{2}; \\dfrac{\\sqrt{3}}{2}\\right)$.  \n",
    "12\\. Apskaičiuokite $\\text{tg}\\,x$, kai $\\cos \\alpha = -\\dfrac{5}{13}$ ir $\\pi < \\alpha < \\dfrac{3\\pi}{2}$.  \n",
    "13\\. Vienetiniame apskritime yra atidėtas taškas. Raskite visas posūkio kampo $\\alpha$ reikšmes, kurias galėtų atitikti šis taškas, jeigu yra žinoma, kad $|\\cos \\alpha| > \\sin \\alpha$ ir duotasis taškas atidėtas $\\text{II}$ ketvirtyje.  \n",
    "14\\. Surask intervalą, kuriam priklauso skaičius $m$, kai $\\sin \\alpha = \\dfrac{2m + 3}{4}$ ir $0<\\alpha<\\pi$  "
   ]
  },
  {
   "cell_type": "markdown",
   "id": "675ad0ca-46fa-468f-83f3-82b64a7efeab",
   "metadata": {},
   "source": [
    "## Trigonometrinės funkcijos ★☆☆\n",
    "1\\. Kuris teiginys apie funkciją $f(x)=-\\cos x$ yra neteisingas?  \n",
    "$\\begin{array}{l}\n",
    "\\boxed{A}\\, \\text{Funkcija $y=-\\cos x$ yra lyginė} \\\\\n",
    "\\boxed{B}\\, \\text{Funkcija $y=-\\cos x$ kerta ašį $Ox$ taškuose $x=-\\pi+\\pi k,\\,k\\in Z$} \\\\\n",
    "\\boxed{C}\\, \\text{Funkcija $y=-\\cos x$ kerta ašį $Oy$ taške $(0; -1)$} \\\\\n",
    "\\boxed{D}\\, \\text{Kai $x=2\\pi k,\\,k\\in Z$, funkcija $y=-\\cos x$ įgyja mažiausią reikšmę}\n",
    "\\end{array}$  \n",
    "2\\. Nurodykite intervalą, kuriame funkcijos $y=|\\sin x|$ reikšmės didėja.  \n",
    "3\\. Nurodykite funkcijos $f(x)=2\\cos\\left(\\dfrac{x}{4}\\right)$ mažiausią teigiamą periodą.  \n",
    "4\\. Raskite funkcijos $f(x)=2\\cos 8x - 4$ reikšmių sritį.  \n",
    "5\\. Raskite didžiausią funkcijos $f(x) = \\dfrac{8}{2+2\\cos^2 x}$ reikšmę.  \n",
    "6\\. Su kuria parametro $a$ reikšme funkcijos $f(x)=-4\\sin(2x)+a$ reikšmių sritis yra $[-3; 5]$?    \n",
    "7\\. Paveiksle pavaizduotas funkcijos $y = \\cos x$ grafikas. Raskite, kuriam intervalui priklauso $\\cos\\alpha$, kai $\\alpha \\in \\left(90^\\circ; 315^\\circ\\right)$  \n",
    "<img src=\"../images/11_24_7.png\" width=\"280\"/>  \n",
    "8\\. Kuri iš žemiau pateiktų funkcijų yra lyginė?  \n",
    "$\\begin{array}{l}\n",
    "\\boxed{A}\\, f(x) = |\\sin x| + \\text{tg}\\,x + 2x^2 \\\\\n",
    "\\boxed{B}\\, f(x) = 2x - 2\\sin^2 x \\\\\n",
    "\\boxed{C}\\, f(x) = \\sin x \\cos x\\,\\text{tg}\\,x + 5 \\\\\n",
    "\\boxed{D}\\, f(x) = x \\cos x + 5x^2\n",
    "\\end{array}$  \n",
    "9\\. Paveiksle pavaizduotas funkcijos $f(x) = a\\sin\\left(\\dfrac{\\pi}{b} x\\right) + c$ grafikas. Remdamiesi juo, nustatykite nežinomųjų koeficientų $a$, $b$ ir $c$ reikšmes.  \n",
    "<img src=\"../images/11_24_9.png\" width=\"250\"/>  \n",
    "10\\. Paveiksle pavaizduotas funkcijos $f(x) = a\\cos\\left(\\dfrac{\\pi}{b} x\\right) + c$ grafikas. Remdamiesi juo, nustatykite nežinomųjų koeficientų $a$, $b$ ir $c$ reikšmes.  \n",
    "<img src=\"../images/11_24_10.png\" width=\"250\"/>  \n",
    "11\\. Funkcijos $y = 2\\sin\\left(\\dfrac{kx}{3}\\right)$ periodas yra $T=\\dfrac{3\\pi}{2}$. Nustatykite šios funkcijos nežinomojo koeficiento $k$ (čia $k>0$) skaitinę reikšmę.  \n",
    "12\\. Nurodykite funkcijos $y = -\\sin x\\cdot \\cos x + 5$ mažiausią reikšmę."
   ]
  }
 ],
 "metadata": {
  "kernelspec": {
   "display_name": "Python 3 (ipykernel)",
   "language": "python",
   "name": "python3"
  },
  "language_info": {
   "codemirror_mode": {
    "name": "ipython",
    "version": 3
   },
   "file_extension": ".py",
   "mimetype": "text/x-python",
   "name": "python",
   "nbconvert_exporter": "python",
   "pygments_lexer": "ipython3",
   "version": "3.12.7"
  }
 },
 "nbformat": 4,
 "nbformat_minor": 5
}
