{
 "cells": [
  {
   "cell_type": "markdown",
   "id": "8fa37b0e-d2a0-4122-b6af-b510c8b1897b",
   "metadata": {},
   "source": [
    "## Vektorių skaičiavimai ★☆☆\n",
    "1\\. Su kuria $x$ reikšme vektoriai $\\vec{a}(-3;\\,4)$ ir $\\vec{b}(2;\\,x)$ yra statmeni?  \n",
    "2\\.  Su kuria $x$ reikšme vektoriai $\\vec{a}(2;\\,x)$ ir $\\vec{b}(8;\\,10)$ yra kolinearūs?  \n",
    "3\\. Raskite vektorių $\\vec{a}=2\\vec{i}+3\\vec{j}$ ir $\\vec{b}=3\\vec{i}+4\\vec{j}$ skaliarinę sandaugą.  \n",
    "4\\. Raskite kampą tarp vektorių $\\vec{a}(3;\\,4)$ ir $\\vec{b}(5;\\,12)$.  \n",
    "5\\. Raskite vektoriaus $\\vec{c}=2\\vec{a}-\\vec{b}$ koordinates, jei $\\vec{a}(2;\\,4)$ ir $\\vec{b}(-3;\\,4)$.  \n",
    "6\\. Raskite vektoriaus $\\vec{a}=7\\vec{i}-5\\vec{j}$ ilgį.  \n",
    "7\\. Su kuria $x$ reikšme vektoriai $\\vec{a}(-3;\\,4)$ ir $\\vec{b}(2;\\,x)$ yra priešpriešiniai?  \n",
    "8\\. Su kuria $x$ reikšme atkarpos $AB$ ilgis lygus $5$, kai $A(x;\\,3)$ ir $B(4;\\,7)$?  \n",
    "9\\. Raskite vektoriaus $\\vec{c}=\\vec{a}-2\\vec{b}$ ilgį, jei $\\vec{a}(2;\\,2)$ ir $\\vec{b}(-3;\\,4)$.  \n",
    "10\\. Koordinačių plokštumoje nubraižytas trikampis $ABC$. Pažymėję $\\overrightarrow{AB}=\\vec{a}$ ir $\\overrightarrow{AC}=\\vec{b}$ apskaičiuokite vektorių $\\vec{a}$ ir $\\vec{b}$ skaliarinę sandaugą.  \n",
    "<img src=\"../images/11_19_10.png\" width=\"240\"/>  \n",
    "11\\. $ABCD$ yra stačiakampis, kurio kampas $A$ priklauso koordinačių pradžios taškui, o kampas $C$ priklauso taškui su koordinatėmis $(6;\\,8)$. Raskite vektoriaus $\\overrightarrow{BD}$ koordinates.  \n",
    "12\\. Apskaičiuokite $(\\vec{a}-2\\vec{b})(2\\vec{a}+\\vec{b})$, kai $|\\vec{a}|=5$, $|\\vec{b}|=1$, o vektoriai $\\vec{a}$ ir $\\vec{b}$ yra statmeni.  \n",
    "13\\. Koordinačių plokštumoje duoti keturi taškai $A(2;\\,10)$, $B(9;\\,−2)$, $C(2;\\,5)$ ir $D(7;\\,8)$. Raskite vektorių $\\overrightarrow{AB}$ ir $\\overrightarrow{CD}$ skaliarinę sandaugą.  \n",
    "14\\. Vektoriaus $\\overrightarrow{AB}$ ilgis yra $17$. Taško $A$ koordinatės yra $(-6;\\,-8)$, o taškas $B$ priklauso $Ox$ ašiai ir $x>0$. Raskite taško $B$ koordinates.  "
   ]
  },
  {
   "cell_type": "markdown",
   "id": "155423e0-0283-4889-a008-eccedf16e26e",
   "metadata": {},
   "source": [
    "## Vektorių išreiškimas ★★☆\n",
    "1\\. Paveiksle pavaizduotas trikampis $ABC$. Taškas $M$ yra kraštinės $BC$ vidurio taškas. Vektorius $\\overrightarrow{AM} = m\\cdot \\overrightarrow{AB} + n\\cdot\\overrightarrow{AC}$, kur $m$ ir $n$ yra realieji skaičiai. Apskaičiuokite $m\\cdot n$ reikšmę.  \n",
    "<img src=\"../images/11_20_1.png\" width=\"240\"/>  \n",
    "2\\. Paveiksle pavaizduotas trikampis $ABC$. Taškai $K$ ir $M$ yra atitinkamai kraštinių $AB$ ir $AC$ vidurio taškai. Vektorius $\\overrightarrow{KM} = m\\cdot \\overrightarrow{AB} + n\\cdot\\overrightarrow{AC}$, kur $m$ ir $n$ yra realieji skaičiai. Apskaičiuokite $m + n$ reikšmę.  \n",
    "<img src=\"../images/11_20_2.png\" width=\"240\"/>  \n",
    "3\\. Paveiksle pavaizduotas trikampis $ABC$. Taškas $M$ pažymėtas kraštinėje $BC$ taip, kad $BM:MC=3:2$, o taškas $K$ pažymėtas kraštinėje $AC$ taip, kad $AK:KC=2:5$. Vektorius $\\overrightarrow{KM} = m\\cdot \\overrightarrow{AB} + n\\cdot\\overrightarrow{AC}$, kur $m$ ir $n$ yra realieji skaičiai. Apskaičiuokite $\\dfrac{1}{m + n}$ reikšmę.  \n",
    "<img src=\"../images/11_20_3.png\" width=\"240\"/>  \n",
    "4\\. Paveiksle pavaizduota lygiašonė trapecija $ABCD$. Kraštinė $BC$\n",
    " yra tris kartus trumpesnė už kraštinę $AD$. Vektorius $\\overrightarrow{DC} = m\\cdot \\overrightarrow{AB} + n\\cdot\\overrightarrow{AD}$, kur $m$ ir $n$ yra realieji skaičiai. Apskaičiuokite $\\dfrac{m}{n}$ reikšmę.  \n",
    " <img src=\"../images/11_20_4.png\" width=\"240\"/>  \n",
    "5\\. Paveiksle pavaizduota lygiašonė trapecija $ABCD$. Taškas $M$ yra kraštinės $BC$ vidurio taškas, o kraštinė $BC$ yra tris kartus trumpesnė už kraštinę $AD$. Vektorius $\\overrightarrow{AM} = m\\cdot \\overrightarrow{AB} + n\\cdot\\overrightarrow{AD}$, kur $m$ ir $n$ yra realieji skaičiai. Apskaičiuokite $\\dfrac{m}{n}$ reikšmę.  \n",
    " <img src=\"../images/11_20_5.png\" width=\"240\"/>  \n",
    "6\\. Paveiksle pavaizduota lygiašonė trapecija $ABCD$. Taškas $M$ yra kraštinės $BC$ vidurio taškas, o taškas $K$ yra kraštinės $AD$ vidurio taškas. Kraštinė $BC$ yra tris kartus trumpesnė už kraštinę $AD$. Vektorius $\\overrightarrow{KM} = m\\cdot \\overrightarrow{AB} + n\\cdot\\overrightarrow{AD}$, kur $m$ ir $n$ yra realieji skaičiai. Apskaičiuokite $\\dfrac{m}{n}$ reikšmę.  \n",
    "<img src=\"../images/11_20_6.png\" width=\"240\"/>  \n",
    "7\\. Paveiksle pavaizduota lygiašonė trapecija $ABCD$. Taškas $M$ yra kraštinės $CD$ vidurio taškas, o kraštinė $BC$ yra tris kartus trumpesnė už kraštinę $AD$. Vektorius $\\overrightarrow{AM} = m\\cdot \\overrightarrow{AB} + n\\cdot\\overrightarrow{AD}$, kur $m$ ir $n$ yra realieji skaičiai. Apskaičiuokite $\\dfrac{1}{mn}$ reikšmę.  \n",
    "<img src=\"../images/11_20_7.png\" width=\"240\"/>  \n",
    "8\\. Paveiksle pavaizduotas lygiagretainis $ABCD$. Taškas $M$ yra kraštinės $BC$ vidurio taškas, o taškas $K$ pažymėtas kraštinėje $AB$ taip, kad $AK:KB = 3:7$. Vektorius $\\overrightarrow{KM} = m\\cdot \\overrightarrow{AB} + n\\cdot\\overrightarrow{AD}$, kur $m$ ir $n$ yra realieji skaičiai. Apskaičiuokite $mn$ reikšmę.  \n",
    "<img src=\"../images/11_20_8.png\" width=\"240\"/>  \n",
    "9\\. Paveiksle pavaizduotas lygiagretainis $ABCD$. Taškas $K$ pažymėtas kraštinėje $AB$ taip, kad $AK:KB = 1:3$, o taškas $M$ pažymėtas kraštinėje $DC$ taip, kad $DM:MC = 3:1$ . Vektorius $\\overrightarrow{KM} = m\\cdot \\overrightarrow{AB} + n\\cdot\\overrightarrow{AD}$, kur $m$ ir $n$ yra realieji skaičiai. Apskaičiuokite $\\dfrac{m}{n}$ reikšmę.  \n",
    "<img src=\"../images/11_20_9.png\" width=\"240\"/>  \n",
    "10\\. Paveiksle pavaizduota lygiašonė trapecija $ABCD$. Taškas $M$ yra kraštinės $BC$ vidurio taškas, o taškas $K$ yra kraštinėje $AD$ vidurio taškas. Kraštinė $BC$ yra tris kartus trumpesnė už kraštinę $AD$. Vektorius $\\overrightarrow{KM} = m\\cdot \\overrightarrow{AB} + n\\cdot\\overrightarrow{AD}$, kur $m$ ir $n$ yra realieji skaičiai. Apskaičiuokite $\\dfrac{m}{n}$ reikšmę.  \n",
    "<img src=\"../images/11_20_10.png\" width=\"240\"/>  "
   ]
  }
 ],
 "metadata": {
  "kernelspec": {
   "display_name": "Python 3 (ipykernel)",
   "language": "python",
   "name": "python3"
  },
  "language_info": {
   "codemirror_mode": {
    "name": "ipython",
    "version": 3
   },
   "file_extension": ".py",
   "mimetype": "text/x-python",
   "name": "python",
   "nbconvert_exporter": "python",
   "pygments_lexer": "ipython3",
   "version": "3.12.7"
  }
 },
 "nbformat": 4,
 "nbformat_minor": 5
}
