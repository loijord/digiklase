{
 "cells": [
  {
   "cell_type": "markdown",
   "id": "8c8f35ef-8510-4ae2-85f1-4af27aff5496",
   "metadata": {},
   "source": [
    "## Racionaliosios nelygybės ★★☆\n",
    "1\\. Išspręskite nelygybę: $\\dfrac{x-3}{x+4}\\le 0$.  \n",
    "2\\. Raskite nelygybės $\\dfrac{8}{x} < -2$ didžiausiąjį sveikąjį sprendinį.  \n",
    "3\\. Išspręskite nelygybę: $\\dfrac{8}{x} > \\dfrac{2}{3}$.  \n",
    "4\\. Išspręskite nelygybę: $\\dfrac{5}{x} > 1$.  \n",
    "5\\. Išspręskite nelygybę: $\\dfrac{1}{1-2x} \\ge 1$.  \n",
    "6\\. Raskite nelygybės $\\dfrac{4}{x-3} + \\dfrac{5}{x+6} \\ge 1$ sveikųjų sprendinių skaičių.  \n",
    "7\\. Išspręskite nelygybę $1+x \\le \\dfrac{6}{x}$ ir nurodykite didžiausią neigiamą jos sprendinį.  \n",
    "8\\. Išspręskite nelygybę $\\dfrac{x^2-8x-9}{x+1} > 2$ ir nurodykite jos mažiausią sveikąjį sprendinį.  \n",
    "9\\. Išspręskite nelygybę $\\dfrac{x^2+3x-4}{5-x} \\le 0$ ir nurodykite jos neigiamų sveikųjų sprendinių sumą.  \n",
    "10\\. Išspręskite nelygybę $\\dfrac{x^2-6x+9}{x^2+5x+4} \\le 0$ ir nurodykite jos sveikųjų sprendinių sumą.  "
   ]
  },
  {
   "cell_type": "markdown",
   "id": "3625ee0f-1c46-4cf5-baa6-97a8fc0b0e92",
   "metadata": {},
   "source": [
    "## Rodiklinės nelygybės ★★☆\n",
    "1\\. Išspręskite nelygybę: $8^{1-2x}\\ge 2\\sqrt{2}$.  \n",
    "2\\. Išspręskite nelygybę: $7^x - 7^{x-1}<6$.  \n",
    "3\\. Išspręskite nelygybę: $\\left(\\dfrac{1}{3}\\right)^{-2x}>\\left(\\dfrac{1}{9}\\right)^3$.  \n",
    "4\\. Išspręskite nelygybę $5^{2x^2-18}\\le 1$ ir suraskite jos natūraliųjų sprendinių sumą.  \n",
    "5\\. Išspręskite rodiklinę nelygybę $\\dfrac{49^{x+17}}{1-\\sqrt{2}}>\\dfrac{343^{4-2x}}{1-\\sqrt{2}}$ ir nurodykite didžiausią jos sprendinį.  \n",
    "6\\. Išspręskite nelygybę: $3^{x+2}-15\\cdot 3^{x-2}\\ge 22\\cdot 3^{-4}$.  \n",
    "7\\. Išspręskite nelygybę: $\\left(\\dfrac{1}{3}\\right)^{\\frac{\\Large{4x+3}}{\\Large{1-2x}}}>9$.  \n",
    "8\\. Išspręskite nelygybę: $\\left(\\dfrac{4}{\\pi}\\right)^{5x-6}>\\left(\\dfrac{4}{\\pi}\\right)^{2-3x}$.  \n",
    "9\\. Išspręskite nelygybę: $0{,}125\\cdot\\left(\\dfrac{\\sqrt{8}}{3}\\right)^x>0{,}25^{x-3}$ ir nurodykite jos mažiausią sveikąjį sprendinį.  \n",
    "10. Išspręskite nelygybę: $\\left(\\dfrac{\\sqrt{3}}{2}\\right)^{1-x}>\\left(2\\dfrac{10}{27}\\right)^{x-6}$ ir apskaičiuokite jos natūraliųjų sprendinių aritmetinį vidurkį.  "
   ]
  },
  {
   "cell_type": "markdown",
   "id": "afc88016-6a0d-46a5-894e-23770592c2a0",
   "metadata": {},
   "source": [
    "## Logaritminės nelygybės ★★☆\n",
    "1\\. Išspręskite nelygybę: $\\log_{3}5< \\log_{3}(2x-5)$.  \n",
    "2\\. Išspręskite nelygybę: $\\log_{0{,}75}(x-99) > \\log_{0{,}75}101$.  \n",
    "3\\. Išspręskite nelygybę: $\\log_{\\pi}(3+x) < \\log_{\\pi}(7-x)$.  \n",
    "4\\. Išspręskite nelygybę $\\lg (x+2) > 3$ ir nurodykite jos mažiausią sveikąjį sprendinį.  \n",
    "5\\. Išspręskite nelygybę: $\\log_{3}(1-2x) < 2$.  \n",
    "6\\. Išspręskite nelygybę: $\\log_{0{,}5}(x+2)< \\log_{0{,}5}10$.  \n",
    "7\\. Išspręskite nelygybę: $\\lg(x+3) \\le \\lg(27-x) + \\lg 5$.  \n",
    "8\\. Išspręskite nelygybę $\\log_{0{,}5}(x^2+6x+9) \\ge 0$ ir nurodykite sveikųjų sprendinių skaičių.  \n",
    "9\\. Išspręskite nelygybę: $\\lg(x) \\le \\lg(9-x) + \\lg 8 - 1$.  \n",
    "10\\. Išspręskite nelygybę: $\\lg(x+3) + \\lg(x-5) \\le \\lg 9$.  "
   ]
  },
  {
   "cell_type": "markdown",
   "id": "7e31f239-58fe-4f43-bb0b-a88ff3eae822",
   "metadata": {},
   "source": [
    "## Nelygybės su moduliu ★★☆\n",
    "1\\. Išspręskite nelygybę: $|2x+3| \\le 5$.  \n",
    "2\\. Išsprendę nelygybę $|5x-3|>7$ gauname sprendinių intervalus $(-\\infty; a)$ ir $(b; +\\infty)$. Suraskite $a + b$ reikšmę.    \n",
    "3\\. Išspręskite nelygybę $2|3x+8|+4<15$ ir suraskite jos sveikųjų sprendinių skaičių.  \n",
    "4\\. Išsprendę nelygybę $|x+3|+x^2>9$ gauname sprendinių intervalus $(-\\infty; a)$ ir $(b; +\\infty)$. Suraskite $a \\cdot b$ reikšmę.  \n",
    "5\\. Išspręskite nelygybę $6|x+3|+x^2\\le 9$ ir suraskite jos sveikųjų sprendinių skaičių.  \n",
    "6\\. Išspręskite nelygybę: $|x|(x+5)(x-7)<0$ ir suraskite jos mažiausiąjį sveikąjį neigiamą sprendinį.  \n",
    "7\\. Išspręskite nelygybę: $\\sqrt{(2-3x)^2} < 2x + 3$.  \n",
    "8\\. Kuri iš žemiau pateiktų nelygybių neturi realiųjų sprendinių?  \n",
    "$\\begin{array}{l{\\quad}l}\n",
    "\\boxed{A}\\, -2|x+3|>1-\\sqrt{2} &\n",
    "\\boxed{B}\\, |x^2 + 2x +1|\\le 0 \\\\\n",
    "\\boxed{C}\\, \\sqrt{2}|x+5|+\\sqrt{3} \\le \\sqrt{2} &\n",
    "\\boxed{D}\\, -3|x+3|>3-\\pi\n",
    "\\end{array}$  \n",
    "9\\. Išsprendę nelygybę $x^2+2|x|\\ge 24$ gauname sprendinių intervalus $(-\\infty; a)$ ir $(b; +\\infty)$. Suraskite $b - a$ reikšmę.  \n",
    "10\\. Išspręskite nelygybę: $|x^2+x+6|\\le 6$.  \n",
    "11\\. Suraskite reiškinio $\\dfrac{2x^2+5x}{\\sqrt{15-3|x|}}$ apibrėžimo sritį.  \n",
    "12\\. Su kokia $a$ reikšme nelygybės $|2x+7|<5-2a$ sprendinių aibė yra intervalas $(-8; 1)$?  "
   ]
  }
 ],
 "metadata": {
  "kernelspec": {
   "display_name": "Python 3 (ipykernel)",
   "language": "python",
   "name": "python3"
  },
  "language_info": {
   "codemirror_mode": {
    "name": "ipython",
    "version": 3
   },
   "file_extension": ".py",
   "mimetype": "text/x-python",
   "name": "python",
   "nbconvert_exporter": "python",
   "pygments_lexer": "ipython3",
   "version": "3.12.7"
  }
 },
 "nbformat": 4,
 "nbformat_minor": 5
}
