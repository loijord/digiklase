{
 "cells": [
  {
   "cell_type": "markdown",
   "id": "fab4693d-c767-4a58-9cba-4ee8c388ee10",
   "metadata": {},
   "source": [
    "## Lygtys ir lygčių sistemos ★★☆\n",
    "1\\. Lygtis $(x^2-12)^2 + x^2 - 12 = 6$ turi keturis sprendinius, tačiau tik vienas iš jų yra natūralusis. Kuris?  \n",
    "2\\. Jeigu $xy^2 = 2$ ir $xz^2=3$, tai kam yra lygu $(xyz)^6$?  \n",
    "3\\. Lygtis $\\dfrac{12}{x^2+11} - \\dfrac{1}{x^2+1} = \\dfrac{9}{50}$ turi keturis sprendinius. Nurodykite didžiausią iš jų.  \n",
    "4\\. Su kuria parametro $a$ reikšme lygtis $x^2 + 6ax + 9a^2 + a - 3 = 0$ turi vieną sprendinį?  \n",
    "5\\. Raskite lygties $x^2-16=4x$ sprendinių kvadratų sumą.  \n",
    "6\\. Išspręskite lygčių sistemą: $\\begin{cases} x^2+y^2 = 265 \\\\ x - y - 1 = 0 \\end{cases}$  \n",
    "7\\. Žemiau pateikta lygčių sistema turi dvi sprendinių poras $(x_1; y_1)$ ir $(x_2; y_2)$. Raskite reiškinio $x_1x_2 + y_1y_2$ reikšmę.  \n",
    "$\\begin{cases} 2x + 3y + 2xy = 48 \\\\ 5x - 3y + 2xy = 42 \\end{cases}$  \n",
    "8\\. Išspręskite lygčių sistemą: $\\begin{cases} \\dfrac{3}{x}+\\dfrac{1}{y} = \\dfrac{8}{9} \\\\ \\dfrac{5}{x}-\\dfrac{3}{y} = \\dfrac{5}{6} \\end{cases}$  \n",
    "9\\. Išspręskite lygčių sistemą: $\\begin{cases} \\dfrac{18}{x+y}+\\dfrac{1}{x-y} = 3 \\\\ \\dfrac{27}{x+y}-\\dfrac{2}{x-y} = 1 \\end{cases}$  \n",
    "10\\. Išspręskite lygčių sistemą: $\\begin{cases} x+y+2z=31 \\\\ x+2y+z=45 \\\\ 2x+y+z = 55 \\end{cases}$"
   ]
  },
  {
   "cell_type": "markdown",
   "id": "30b8ff49-892f-46b9-85aa-8c65cabe2eca",
   "metadata": {},
   "source": [
    "## Iracionaliosios lygtys ★★☆\n",
    "1\\. Išspręskite lygtį: $(x^2-9)\\sqrt{x-3}=0$.  \n",
    "2\\. Nustatykite lygties $(5x-x^2-6)\\sqrt{x^2-25}=0$ sprendinių skaičių.  \n",
    "3\\. Išspręskite lygtį: $\\sqrt{5x-6} = x-4$.  \n",
    "4\\. Išspręskite lygtį: $\\sqrt{2x+3} + 6 = x$.  \n",
    "5\\. Išspręskite lygtį: $\\sqrt{x-5} + \\sqrt{x+2} = 7$.  \n",
    "6\\. Išspręskite lygtį: $\\sqrt{13+\\sqrt{x-2}} = \\sqrt{15-x}$.    \n",
    "7\\. Nustatykite lygties $\\sqrt{x^2-25}+15=0$ sprendinių skaičių.  \n",
    "8\\. Nustatykite lygties $2\\sqrt{x+1} + x = 12$ sprendinį ir nurodykite jį dešimtųjų tikslumu.  \n",
    "9\\. Išspręskite lygtį: $\\sqrt{x^2+4} -4 - x = 0$.  \n",
    "10\\. Nustatykite lygties $\\sqrt{16-x^2}\\cdot\\sqrt{x^2-25}=0$ sprendinių skaičių.`"
   ]
  },
  {
   "cell_type": "markdown",
   "id": "9b52bc81-0771-4fde-b264-9114cc9794b5",
   "metadata": {},
   "source": [
    "## Logaritminės lygtys ★★☆\n",
    "1\\. Išspręskite lygtį: $\\lg (x-5)=4$.  \n",
    "2\\. Išspręskite lygtį: $\\lg x = 3\\lg 5 - \\lg 25$.  \n",
    "3\\. Išspręskite lygtį: $\\log_{3}2 + \\log_3(1{,}5x+6)=2$.  \n",
    "4\\. Išspręskite lygtį: $\\log_{3}(5x+3) - \\log_3(x-5)=2$.  \n",
    "5\\. Išspręskite lygtį: $\\log_{2}(x+1) - \\log_2(3x-1)=5$.  \n",
    "6\\. Kiek skirtingų sprendinių turi lygtis $(x^2-x-6)\\lg(x^2-5) = 0$?  \n",
    "7\\. Išspręskite lygtį: $\\log_{x-1}(x^2-5x+10) = 2$.  \n",
    "8\\. Išspręskite lygtį: $\\lg^2 x-5\\lg x = 6$.  \n",
    "9\\. Išspręskite lygtį: $\\log_2 x \\cdot \\log_2\\left(\\dfrac{x}{32}\\right) = 6$.  \n",
    "10\\. Išspręskite lygtį: $\\log_3 x \\cdot \\log_9 x \\cdot \\log_{27} x = 20\\dfrac{5}{6}$.    "
   ]
  },
  {
   "cell_type": "markdown",
   "id": "b8adc39d-91d6-47ef-ab92-69a69f302078",
   "metadata": {},
   "source": [
    "## Rodiklinės lygtys ★★☆\n",
    "1\\. Išspręskite lygtį: $5^{5x+15} = 1$  \n",
    "2\\. Išspręskite lygtį: $27\\cdot 3^{2x-1} = 81$  \n",
    "3\\. Išspręskite lygtį: $9^{-3x} = \\left(\\dfrac{1}{27}\\right)^{x+3}$  \n",
    "4\\. Išspręskite lygtį: $0{,}6^x\\cdot \\left(\\sqrt{5}\\right)^{2x+4}= 225$  \n",
    "5\\. Išspręskite lygtį: $5^{x+1} + 5^x = 3750$  \n",
    "6\\. Išspręskite lygtį: $5^{2x-1}+5^{x+1}=250$  \n",
    "7\\. Išspręskite lygtį: $3^{2x+2}+3^{2x}=30$  \n",
    "8\\. Nustatykite lygties $2^{x^2-x-4{,}5}=2\\sqrt{2}$ sprendinių sumą.  \n",
    "9\\. Išspręskite lygtį $3^{x+1}+18\\cdot 3^{-x} = 29$ ir nurodyti didesnįjį jos sprendinį.  \n",
    "10\\. Išspręskite lygtį: $3\\cdot 7^{x+1} - 7^{x+2} + 30 \\cdot 7^{x} = 686$"
   ]
  },
  {
   "cell_type": "markdown",
   "id": "795f7298-a93b-4409-80aa-d76d85626c7b",
   "metadata": {},
   "source": [
    "## Lygtys su moduliu ★★☆\n",
    "1\\. Išspręskite lygtį: $|2x-7|=3$.  \n",
    "2\\. Lygties $-|x| = x$ sprendiniai yra:  \n",
    "$\\begin{array}{l{\\quad}l}\n",
    "\\boxed{A}\\, \\text{Visi teigiami}&\n",
    "\\boxed{B}\\, \\text{Visi neteigiami} \\\\\n",
    "\\boxed{C}\\, \\text{Visi neigiami} &\n",
    "\\boxed{D}\\, \\text{Visi neneigiami}\n",
    "\\end{array}$  \n",
    "3\\. Raskite lygties $|3x-5{,}5| = x^2 + 3x + 10{,}5$ sprendinių aritmetinį vidurkį.  \n",
    "4\\. Išspręskite lygtį: $2|2x-2|=-12$.  \n",
    "5\\. Nustatykite lygties $|3x-17|+23 = 11$ sprendinių skaičių.  \n",
    "6\\. Nustatykite lygties $|x^2-6x+1| = 3$ sprendinių skaičių.  \n",
    "7\\. Nustatykite lygties $|5x-1| = 3x-1$ sprendinių skaičių.  \n",
    "8\\. Išspręskite lygtį $2|e-\\pi| = 3(\\pi-x)$ ir atsakymą pateikite šimtųjų tikslumu.  \n",
    "9\\. Raskite lygties $|\\pi-x| - \\pi = \\pi^2$ sprendinių sumą.  \n",
    "10\\. Raskite lygties $x^2 + 3|x| - 25 = 3x$ sprendinių sumą.  "
   ]
  },
  {
   "cell_type": "markdown",
   "id": "664adc22-c193-4bca-9066-c6c493755111",
   "metadata": {},
   "source": [
    "## Lygtys su dviem nežinomaisiais ★★☆\n",
    "1\\. Apskritimas, kurio centras yra taške $O(3;\\;-4)$, eina per tašką $A(8;\\;8)$. Raskite šio apskritimo skersmens ilgį.  \n",
    "2\\. Raskite apskritimo spindulio ilgį, kai jo lygtis yra $x^2+y^2-8x-18y-3=0$  \n",
    "3\\. Apskritimas, kurio lygtis $(x-3)^2 + (y+4)^2 = 7$, buvo pastumtas per $5$ vienetus į dešinę ir per $2$ vienetus aukštyn. Nurodykite, kokios yra šio apskritimo centro koordinatės.  \n",
    "4\\. Nurodykite apskritimo, kurio lygtis $x^2+y^2+12x-16y=0$, centro koordinates.  \n",
    "5\\. Apskritimas, kurio centras $O(2;\\; -14)$ ir spindulys $R=\\sqrt{10}$, eina per tašką $A(x;\\;-15)$. Raskite $x$ reikšmę, kai $x>0$.  \n",
    "6\\. Raskite apskritimo, kurio lygtis yra $x(x-16) + y(y+30) = 0$, skersmens ilgį.  \n",
    "7\\. Raskite apskritimo spindulio ilgį, kai jo lygtis yra $\\dfrac{x^2}{2}- 6x+\\dfrac{y^2}{2}+4y+\\dfrac{43}{2}=0$.  \n",
    "8\\. Apskritimo, kurio lygtis $(x-5)^2 + (y+4)^2 = 5$, skersmens $AB$ galų koordinatės yra $A(6;\\;-2)$ ir $B(x;\\;y)$. Raskite $xy$ reikšmę.  \n",
    "9\\. Apskritimo, kurio lygtis $2x^2+36x+2y^2-48y+208=0$, centro taško koordinatės yra $C(a;\\; b)$. Raskite atstumą nuo taško $C$ iki koordinačių pradžios taško.  \n",
    "10\\. Apskritimas, kurio lygtis $(x-2)^2 + (y-3)^2 = 5$ ir tiesė, kurios lygtis $2x+y-12=0$, liečiasi viename taške. Raskite šio taško koordinates."
   ]
  }
 ],
 "metadata": {
  "kernelspec": {
   "display_name": "Python 3 (ipykernel)",
   "language": "python",
   "name": "python3"
  },
  "language_info": {
   "codemirror_mode": {
    "name": "ipython",
    "version": 3
   },
   "file_extension": ".py",
   "mimetype": "text/x-python",
   "name": "python",
   "nbconvert_exporter": "python",
   "pygments_lexer": "ipython3",
   "version": "3.12.7"
  }
 },
 "nbformat": 4,
 "nbformat_minor": 5
}
