{
 "cells": [
  {
   "cell_type": "markdown",
   "id": "ef73d556-b542-419e-94e3-ae46b743f2ac",
   "metadata": {},
   "source": [
    "## Aritmetinė progresija ★★☆\n",
    "1\\. Kuri iš šių sekų nėra aritmetinė progresija?  \n",
    "$\\begin{array}{l{\\quad}l}\n",
    "\\boxed{A}\\, \\dfrac{1}{2},\\,\\dfrac{5}{6},\\,\\dfrac{7}{6}&\n",
    "\\boxed{B}\\, -1,\\,-1,\\,-1 \\\\\n",
    "\\boxed{C}\\, 14,\\,5,\\,-4 &\n",
    "\\boxed{D}\\, 2,\\,4,\\,8\n",
    "\\end{array}$  \n",
    "2\\. Duoti pirmieji du aritmetinės progresijos nariai: $−5;\\, −1$. Kuri iš šių formulių aprašo duotąją seką?  \n",
    "$\\begin{array}{l{\\quad}l}\n",
    "\\boxed{A}\\, a_n = -5 \\cdot \\left(\\dfrac{1}{5}\\right)^{n-1}&\n",
    "\\boxed{B}\\, -9+4n \\\\\n",
    "\\boxed{C}\\, -1-4n &\n",
    "\\boxed{D}\\, \\dfrac{1}{2}n(9n-19)\n",
    "\\end{array}$  \n",
    "3\\. Kam lygus aritmetinės progresijos $a_n$ skirtumas, jei $a_{10}=28$, $a_{15}=48$ ?  \n",
    "4\\. Tarp skaičių $14$ ir $-6$ įrašyti keturi nauji tokie skaičiai, su kuriais gauta skaičių seka yra aritmetinė progresija. Raskite įrašytų skaičių sumą.  \n",
    "5\\. $a_n$ - aritmetinė progresija, kurios skirtumas lygus $-5$. Kai $a_4 + a_9 = -59$, tai $a_{10} = ?$  \n",
    "6\\. Kiek neigiamų narių turi aritmetinė progresija $a_n$, kurios $a_1 = -3$, $d=\\dfrac{2}{9}$ ?  \n",
    "7\\. Mažėjančiosios aritmetinės progresijos pirmasis narys lygus $64$, o paskutinis jos teigiamas narys $7$. Kiek teigiamų narių turi ši seka, jei visi jos nariai yra sveikieji skaičiai?  \n",
    "8\\. Su tam tikra sveikųjų skaičių pora $(x;\\;y)$ skaičių sekos $x$; $xy$; $11x$ ir $y^2$; $x^2$; $x+y+3$ yra aritmetinės proresijos. Nustatykite reiškinio $y^2 - x^2$ reikšmę.  \n",
    "9\\. Aritmetinės progresijos, turinčios $32$ narius, paskutinysis narys lygus $-52{,}5$, o jos skirtumas lygus $-2{,}5$. Apskaičiuokite visų šios progresijos narių sumą.  \n",
    "10\\. Raskite sumos $a_{61} + a_{62} + a_{63} + \\dots + a_{118} + a_{119} + a_{120}$ reikšmę, jei $a_n = -2 + \\dfrac{1}{30}n$.  \n",
    "11\\. Sudedami natūralieji skaičiai, kuriuos dalijant iš $5$ gaunama liekana $2$. Kiek tokių skaičių buvo sudėta, jei gauta suma lygi $6996$ ?   \n",
    "12\\. $a_n$ - aritmetinė progresija. $S_{25} = 975$ ir $S_{40} = 2460$. Raskite $a_{33}$.  \n",
    "13\\. Aritmetinės progresijos pirmųjų $n$ narių sumos formulė yra: $S_n = -n(2n+1)$. Raskite šios progresijos dešimtąjį narį.  \n",
    "14\\. Žemiau pateiktos keturių aritmetinių progresijų pirmųjų $n$\n",
    " narių sumų formulės. Kuri iš jų yra didėjančiosios aritmetinės progresijos?  \n",
    "$\\begin{array}{l{\\quad}l}\n",
    "\\boxed{A}\\, S_{n}=\\dfrac{(9-n)n}{2}&\n",
    "\\boxed{B}\\, S_{n}=-2n^2-n\\\\\n",
    "\\boxed{C}\\, S_{n}=\\dfrac{n(3n-5)}{2}&\n",
    "\\boxed{D}\\, S_{n}=3n\n",
    "\\end{array}$  \n",
    "15\\. Gamykloje gaminamos tam tikros rūšies detalės. Pirmąją dieną buvo pagamintos $4$ detalės, o kiekvieną kitą dieną buvo pagaminta $3$ detalėmis daugiau nei praėjusią dieną. Žinoma, kad per $10$ dienų buvo pagaminta $7\\%$ visų planuojamų pagaminti detalių. Po kelių dienų buvo įvykdytas planas?  "
   ]
  },
  {
   "cell_type": "markdown",
   "id": "9c0be91a-79de-4978-8d72-05f507aaab2f",
   "metadata": {},
   "source": [
    "## Geometrinė progresija ★★☆\n",
    "1\\. Kuri iš duotųjų sekų yra geometrinė progresija?  \n",
    "$\\begin{array}{l{\\quad}l}\n",
    "\\boxed{A}\\, 5,\\,10,\\,15&\n",
    "\\boxed{B}\\, -9,\\,3,\\,-1 \\\\\n",
    "\\boxed{C}\\, 3,\\,9,\\,18 &\n",
    "\\boxed{D}\\, 1,\\,-7,\\,-49\n",
    "\\end{array}$  \n",
    "2\\. Duoti pirmieji du geometrinės progresijos nariai: $18$; $6$. Kuri iš šių formulių aprašo duotąją seką?  \n",
    "$\\begin{array}{l{\\quad}l}\n",
    "\\boxed{A}\\, b_n=\\dfrac{54}{3^n}&\n",
    "\\boxed{B}\\, b_n=30-12n \\\\\n",
    "\\boxed{C}\\, b_n=18\\cdot\\left(\\dfrac{1}{3}\\right)^n &\n",
    "\\boxed{D}\\, b_n=18-3(n-1)\n",
    "\\end{array}$  \n",
    "3\\. Seka $b_n$ - geometrinė progresija. Žinoma, kad: $b_5 = 2$ ir $b_9 = \\dfrac{2}{81}$. Raskite $b_7$.  \n",
    "4\\. Su tam tikra $x$ reikšme skaičių seka $2^x;\\;108;\\;3^{x+2}$ yra geometrinė progresija. Kam lygus jos vardiklis?  \n",
    "5\\. Duotos keturių geometrinių progresijų bendrojo nario formulės. Kuri iš jų yra mažėjančiosios geometrinės progresijos?  \n",
    "$\\begin{array}{l{\\quad}l}\n",
    "\\boxed{A}\\, b_n=\\dfrac{1}{5}\\cdot 4^n &\n",
    "\\boxed{B}\\, b_n=-3\\cdot \\left(\\dfrac{1}{2}\\right)^n \\\\\n",
    "\\boxed{C}\\, b_n=5^{3-n} &\n",
    "\\boxed{D}\\, b_n=4\\cdot \\left(-\\dfrac{2}{3}\\right)^n\n",
    "\\end{array}$  \n",
    "6\\. Geometrinės pirmasis narys lygus $3$. Jos ketvirtojo ir septintojo narių suma yra $4$ kartus didesnė už jos trečiojo ir šeštojo narių sumą. Kam lygus penktasis šios progresijos narys?  \n",
    "7\\. $b_n$ - geometrinė progresija. Jos pirmasis narys yra $4$, o vardiklis lygus $\\dfrac{24}{25}$. Kiek ši geometrinė progresija turi narių, didesnių už $1$?  \n",
    "8\\. $b_n = \\dfrac{3}{20} \\cdot 4^{n-1}$. Kam lygi suma $b_1+b_2+\\dots+b_{100}$?  \n",
    "9\\. Duota seka: $b_n = 3\\cdot 2^n$. Raskite $n$, su kuriuo $S_n = 196602$.  \n",
    "10\\. Kam lygi suma: $216 + 36 + 6 + 1 + \\dots$?  \n",
    "11\\. Raskite nykstamosios geometrinės progresijos teigiamą vardiklį, kai žinoma, kad jos pirmųjų dviejų narių suma lygi $10{,}5$, o visų kitų narių (t.y. pradedant trečiuoju) suma lygi $0{,}3$.  \n",
    "12\\. Geometrinės progresijos pirmųjų $n$ narių sumos formulė yra: $S_n = \\dfrac{1-3^n}{9}$. Kam lygus dešimtasis šios progresijos narys?  \n",
    "13\\. Raskite lygties $x^{-2}+x^{-4}+x^{-6}+\\dots = \\dfrac{1}{8}$ sprendinį, jei $x>1$.  \n",
    "14\\. Didėjančiosios geometrinės progresijos, kurią sudaro $8$ nariai, pirmasis narys lygus $4$, o jos paskutinių keturių ir pirmųjų keturių narių sumų santykis lygus $625$. Raskite šios progresijos narių sumą."
   ]
  }
 ],
 "metadata": {
  "kernelspec": {
   "display_name": "Python 3 (ipykernel)",
   "language": "python",
   "name": "python3"
  },
  "language_info": {
   "codemirror_mode": {
    "name": "ipython",
    "version": 3
   },
   "file_extension": ".py",
   "mimetype": "text/x-python",
   "name": "python",
   "nbconvert_exporter": "python",
   "pygments_lexer": "ipython3",
   "version": "3.12.7"
  }
 },
 "nbformat": 4,
 "nbformat_minor": 5
}
