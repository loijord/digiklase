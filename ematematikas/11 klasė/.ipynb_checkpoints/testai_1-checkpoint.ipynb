{
 "cells": [
  {
   "cell_type": "markdown",
   "id": "65badd0d-2d47-4029-ba5e-06341f328c2a",
   "metadata": {},
   "source": [
    "## Skaičių aibės ★★☆\n",
    "1\\. Kiek sveikųjų skaičių priklauso intervalui $\\left(-7{,}1;\\;\\sqrt{5}-1\\right]$?  \n",
    "2\\. Kiek naturaliųjų skaičių priklauso intervalui $\\left(-\\sqrt{5}-4;\\;\\sqrt{15}+1\\right)$?  \n",
    "3\\. Surašykite skaičius $\\pi;\\; \\dfrac{22}{7};\\; 3{,}14;\\; 3{,}(14)$ didėjimo tvarka.  \n",
    "4\\. Turime aibes $A = \\{0, 1, 2, 3\\}$ ir $B = \\{1, 2, 3\\}$. Nurodykite teisingą teiginį:  \n",
    "$\\begin{array}{l}\n",
    "\\boxed{A}\\, \\text{Aibių $A$ ir $B$ sąjungai priklauso 4 elementai} \\\\\n",
    "\\boxed{B}\\, \\text{Aibių $A$ ir $B$ sankirtai priklauso 3 elementai} \\\\\n",
    "\\boxed{C}\\, \\text{Aibių $A$ ir $B$ skirtumui priklauso 1 elementas} \\\\\n",
    "\\boxed{D}\\, \\text{Visi aukščiau išvardyti variantai}\n",
    "\\end{array}$  \n",
    "5\\. Turime aibes $A = \\{1, 3, 5, 6, 7\\}$ ir $B = \\{1, 5, 7, 8, 9\\}$. Kiekvienai iš aibių $C = A\\bigcup B$; $D = A\\bigcap B$ ir $E = A\\backslash B$ raskite tai aibei priklausančių elementų skaičių.  \n",
    "6\\. Nurodykite aibių $A = \\left[-2;\\;5\\right)$ ir $B=\\left(-1;\\;7\\right]$ sankirtą.  \n",
    "7\\. Nurodykite aibių $A = \\left(7;\\;5\\right]$ ir $B=\\left(-5;\\;7\\right]$ skirtumą.  \n",
    "8\\. Turime aibes $A = \\{1,2,3\\}$, $A = \\{2,3,4\\}$, $C = \\{3,4,5\\}$. Kiek elementų priklauso aibei $\\left(A\\bigcup B\\right) \\bigcap C$ ?  \n",
    "9\\. Aibėje $A$ yra $17$ elementų, o aibėje $B$ yra $29$ elementai. Aibių $A$ ir $B$ sankirtoje yra $11$ elementų. Kiek elementų yra aibių $A$ ir $B$ skirtume?  \n",
    "10\\. Iš $28$ dvyliktos klasės mokinių chemijos egzaminą pasirinko laikyti $10$ mokinių, o fizikos – $12$ mokinių. Be to, $7$ mokiniai pasirinko laikyti abu šiuos egzaminus. Kiek mokinių nelaikys nė vieno iš šių egzaminų?  \n",
    "11\\. Turime aibę $A$, kurią sudaro dviženkliai natūralieji skaičiai, kurie dalijasi iš $5$ ir aibę $B$, kurią sudaro dviženkliai natūralieji skaičiai, kurie dalijasi iš $9$. Raskite aibės $C = A\\bigcup B$ narių skaičių."
   ]
  },
  {
   "cell_type": "markdown",
   "id": "0ea8e0b8-d7a3-407b-b8fb-27f8589e00d6",
   "metadata": {},
   "source": [
    "## Realiojo skaičiaus modulis ★★☆\n",
    "1\\. Apskaičiuokite reiškinio $|\\sqrt{2}-3|−|\\sqrt{2}-2|+1$ reikšmę.  \n",
    "2\\. Apskaičiuokite reiškinio $2-\\sqrt{(2-\\sqrt{5})^2}+\\sqrt{(\\sqrt{5}-2)^2}$ reikšmę.  \n",
    "3\\. Apskaičiuokite reiškinio $\\dfrac{|2\\sqrt{3}-4|}{2-\\sqrt{3}} + \\dfrac{6-3\\sqrt{3}}{|2-\\sqrt{3}|}$ reikšmę.  \n",
    "4\\. Apskaičiuokite reiškinio $\\sqrt{\\left(2\\sqrt{5}-5\\right)^2}+\\sqrt[3]{\\left(2\\sqrt{5}-5\\right)^3}$ reikšmę.  \n",
    "5\\. Suprastinkite reiškinį $2|x-y|-3|y-x|$, kai $x>y$.  \n",
    "6\\. Suprastinkite reiškinį $\\dfrac{1-|x-1|}{2-|2-x|}$, kai $x<0$.  \n",
    "7\\. Suprastinkite reiškinį $\\dfrac{5-5|x+4|}{2|x-4|-18}$, kai $x<-5$.  \n",
    "8\\. Suprastinkite reiškinį $\\sqrt[6]{(x-7)^6} + \\sqrt[5]{(x-7)^5}$, kai $x<7$.  \n",
    "9\\. Suprastinkite reiškinį $\\sqrt{x^2+\\dfrac{7x^2}{9}}-\\dfrac{|x|}{3}$, kai $x<0$.  \n",
    "10\\. Apskaičiuokite reiškinio $\\sqrt{\\left(2-2\\sqrt{2}\\right)^2} - \\sqrt{\\left(\\sqrt{2} - 2\\right)^2} - \\sqrt{18}$ reikšmę.  \n",
    "11\\. Suprastinkite reiškinį $\\sqrt{x^2-6x+9}-\\sqrt{(x+4)^2 - 16x}$, kai $x<3$. "
   ]
  },
  {
   "cell_type": "markdown",
   "id": "40e8b99e-c034-4be5-ad22-a8074e1cc512",
   "metadata": {},
   "source": [
    "## Veiksmai su šaknimis ★★☆\n",
    "\n",
    "1\\. Suprastinkite reiškinį $\\dfrac{a-b}{\\sqrt{a}-\\sqrt{b}}$.  \n",
    "2\\. Suprastinkite reiškinį $2\\sqrt{125} - 3\\sqrt{45} + \\dfrac{\\sqrt{80}}{2}$.  \n",
    "3\\. Suprastinkite reiškinį $a^3 \\cdot \\sqrt{a} \\cdot \\sqrt[3]{a}$.  \n",
    "4\\. Suprastinkite reiškinį $\\sqrt[3]{a^2\\sqrt{a\\sqrt[3]{a^2}}}$.  \n",
    "5\\. Panaikinkite reiškinio $\\dfrac{8}{2 - \\sqrt{2}}$ iracionalumą.  \n",
    "6\\. Apskaičiuokite reiškinio $\\sqrt[3]{2^{(\\sqrt{2}-1)^2} \\cdot 4^\\sqrt{2}}$ reikšmę.  \n",
    "7\\. Raskite nežinomojo $m$ reikšmę, kai $\\dfrac{\\sqrt[6]{27000}}{1000} \\cdot \\sqrt[4]{m} = 3$  \n",
    "8\\. Duota lygybė $\\sqrt[8]{810000} \\cdot \\square = 10 \\cdot 3^{\\frac{1}{2}}$. Kas turėtų būti parašyta kvadratėlio vietoje?  \n",
    "9\\. Duota lygybė $\\dfrac{\\sqrt[3]{7\\sqrt{27}}}{\\sqrt{3}} \\cdot \\square = 7$. Kas turėtų būti parašyta kvadratėlio vietoje?  \n",
    "10\\. Suprastinkite duotąjį reiškinį: $\\sqrt[2n]{4-2\\sqrt{3}}\\cdot \\sqrt[n]{\\dfrac{\\sqrt{3}+1}{2}}$."
   ]
  },
  {
   "cell_type": "markdown",
   "id": "67244bcd-8a78-45e7-a4c2-12a27a734793",
   "metadata": {},
   "source": [
    "## Veiksmai su laipsniais ★★☆\n",
    "\n",
    "1\\. Suprastinkite reiškinį $\\dfrac{2^{20}\\cdot 4^{10} \\cdot 8^8}{16^{12}\\cdot 32^{16}}$  \n",
    "2\\. Nustatykite skaičiaus $5050\\cdot 10^{-17}$, užrašyto standartine $a \\cdot 10^n$ skaičiaus išraiška, $n$ reikšmę  \n",
    "3\\. Suprastinkite reiškinį $\\dfrac{x^{\\frac{4}{5}} - x^{\\frac{3}{5}}}{x^{\\frac{3}{5}} - x^{\\frac{2}{5}}}$  \n",
    "4\\. Jei $\\dfrac{1}{16}\\cdot 2^{2000} = 0{,}25^k$, tai $k=?$  \n",
    "5\\. Suprastinkite reiškinį $\\dfrac{3^{x-7}}{3^{x-10}} : \\dfrac{3^{x-10}}{3^{x-7}}$  \n",
    "6\\. Apskaičiuokite reiškinio $\\dfrac{9^{2x+1}}{27^{x+1}}$ reikšmę, kai $3^x = 30$  \n",
    "7\\. Apskaičiuokite reiškinio $\\dfrac{2^{x-1} - 16^{x-1}}{2^{x}}$ reikšmę, kai $8^x = 5$  \n",
    "8\\. Suprastinkite reiškinį $\\dfrac{6^x + 6^x + 6^x + 6^x + 6^x + 6^x + 6^x}{3^x + 3^x + 3^x}$  \n",
    "9\\. Suprastinkite reiškinį $\\dfrac{a^{\\frac{1}{2}} + b^{\\frac{1}{2}}}{a^{-\\frac{1}{2}} + b^{-\\frac{1}{2}}}$  \n",
    "10\\. Apskaičiuokite reiškinio $\\dfrac{2^{98} + 2^{99}}{2^{98}}$ reikšmę  "
   ]
  },
  {
   "cell_type": "markdown",
   "id": "4d1c74d3-f7b5-4c36-919c-e5e80c530422",
   "metadata": {},
   "source": [
    "## Logaritmų skaičiavimai ★★☆\n",
    "1\\. Surask $m$ reikšmę, kai $\\log_{\\frac{1}{3}}m = -\\dfrac{2}{3}$  \n",
    "2\\. Surask $k$ reikšmę, kai $\\log_{k}2\\sqrt{2} = \\dfrac{1}{2}$  \n",
    "3\\. Kam lygus reiškinys $100^{1+\\lg x}$?  \n",
    "4\\. Jeigu $\\log_{2}6 = a$, tai $\\log_{2}24 = ?$  \n",
    "5\\. $a = \\log_{2}5$, tai $\\dfrac{\\lg 20}{\\lg 5} = ?$  \n",
    "6\\. Suraskite reiškinio $3 \\lg a^3 + 2\\lg\\sqrt{a} - 5\\lg a^5$ reikšmę, kai $\\lg a = -\\dfrac{1}{3}$  \n",
    "7\\. Jei $\\lg 5 = a$ ir $\\lg 3 = b$, tai $\\log_{15}75 = ?$  \n",
    "8\\. Suprastinkite reiškinį $\\log_{0{,}25}x+\\log_{2}y^3$  \n",
    "9\\. Suprastinkite reiškinį $\\dfrac{\\ln\\left(a\\sqrt{a}\\right)}{2\\ln a^3}$  \n",
    "10\\. Suprastinkite reiškinį $2\\lg x + \\lg 3 - 3\\lg y$  \n",
    "11\\. Jei $\\log_{2} 3=m$, tai $\\log_{3}18 = ?$  \n",
    "12\\. Jei $\\log_{k}\\log_{2}\\log_{3} 81 = \\dfrac{2}{3}$, tai $k=?$  \n",
    "13\\. Jei $\\left(4\\sqrt{2}\\right)^{\\log_{8}x} = 32$. tai $x=?$"
   ]
  }
 ],
 "metadata": {
  "kernelspec": {
   "display_name": "Python 3 (ipykernel)",
   "language": "python",
   "name": "python3"
  },
  "language_info": {
   "codemirror_mode": {
    "name": "ipython",
    "version": 3
   },
   "file_extension": ".py",
   "mimetype": "text/x-python",
   "name": "python",
   "nbconvert_exporter": "python",
   "pygments_lexer": "ipython3",
   "version": "3.12.7"
  }
 },
 "nbformat": 4,
 "nbformat_minor": 5
}
