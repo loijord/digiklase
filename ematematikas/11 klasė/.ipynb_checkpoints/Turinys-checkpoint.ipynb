{
 "cells": [
  {
   "cell_type": "markdown",
   "id": "37277c4a-9859-494d-b1b2-a1fd63785734",
   "metadata": {},
   "source": [
    "* [Skaičiavimai](testai_1.ipynb)\n",
    "* [Trigonometrija](testai_2.ipynb)\n",
    "* [Aritmetinė ir geometrinė progresija](testai_3.ipynb)\n",
    "* [Vektoriai](testai_4.ipynb)\n",
    "* [Lygtys ir lygčių sistemos](testai_5.ipynb)\n",
    "* [Nelygybės](testai_6.ipynb)\n",
    "* [Funkcijos](testai_7.ipynb)"
   ]
  }
 ],
 "metadata": {
  "kernelspec": {
   "display_name": "Python 3 (ipykernel)",
   "language": "python",
   "name": "python3"
  },
  "language_info": {
   "codemirror_mode": {
    "name": "ipython",
    "version": 3
   },
   "file_extension": ".py",
   "mimetype": "text/x-python",
   "name": "python",
   "nbconvert_exporter": "python",
   "pygments_lexer": "ipython3",
   "version": "3.12.7"
  }
 },
 "nbformat": 4,
 "nbformat_minor": 5
}
