{
 "cells": [
  {
   "cell_type": "markdown",
   "id": "a5f8b2e5-15c8-45a8-b3cf-79a4f72ba507",
   "metadata": {},
   "source": [
    "## Stereometrija ★★★\n",
    "1\\. Turime dvi nesutampančias plokštumas $\\alpha$, $\\beta$ bei tris nesutampančias tieses $a$, $b$, $c$. Žinoma, kad $a \\subset \\alpha$, $b \\subset \\beta$, $\\alpha \\bigcap \\beta = c$, $a \\parallel c$, $b \\nparallel c$. Kuris iš žemiau pateiktų teiginių yra teisingas?  \n",
    "$\\begin{array}{l{\\quad}l{\\quad}l{\\quad}l}\n",
    "\\boxed{A}\\, a \\bigcap b \\neq \\varnothing &\n",
    "\\boxed{B}\\, a \\nparallel b &\n",
    "\\boxed{C}\\, a \\nparallel \\beta &\n",
    "\\boxed{D}\\, a \\parallel b\n",
    "\\end{array}$  \n",
    "2\\. Turime taisyklingąją penkiakampę piramidę. Nagrinėkime tik tieses, kuriose yra šios piramidės briaunos. Su keliomis kitomis tiesėmis prasilenkia kiekviena iš šių tiesių? Laikome, jog sutampančių tiesių nėra.  \n",
    "3\\. Turime taisyklingąją šešiakampę piramidę. Nagrinėkime tik tieses, kuriose yra šios piramidės briaunos. Su keliomis kitomis tiesėmis susikerta tiesė, kurioje yra pagrindo briauna? Laikome, jog sutampančių tiesių nėra.  \n",
    "4\\. Taisyklingosios trikampės prizmės $ABCA_1B_1C_1$ šoninės sienos yra kvadratai. Raskite kampą tarp tiesių $A_1C$ ir $AB$. Atsakymą pateikite laipsniais vieneto tikslumu.  \n",
    "5\\. Stačiakampio gretasienio vienos sienos plokštumoje yra tiesė $a$. Per šią tiesę nubrėžta plokštuma, kuri kerta priešais esančios sienos plokštumą tiese $b$. Kuris iš žemiau pateiktų teiginių yra teisingas?\n",
    "$\\begin{array}{l}\n",
    "\\boxed{A}\\, \\text{Tiesės $a$ ir $b$ lygiagrečios}\\\\\n",
    "\\boxed{B}\\, \\text{Tiesės $a$ ir $b$ susikertančios} \\\\\n",
    "\\boxed{C}\\, \\text{Tiesės $a$ ir $b$ prasilenkiančios} \\\\\n",
    "\\boxed{D}\\, \\text{Pagal turimus duomenis negalime nusakyti tiesių $a$ ir $b$ padėties}\n",
    "\\end{array}$  \n",
    "6\\. Iš taško $A$ į plokštumą $\\alpha$ nuleistas statmuo $AC$, kurio ilgis lygus $2$ bei, o pasvyroji yra $AB$. Taškas $C$ nuo tiesės $AB$ nutolęs $\\sqrt{3}$. Apskaičiuokite kampą laipsniais, kurį sudaro pasviroji $AB$ su plokštuma $\\alpha$.  \n",
    "7\\. Piramidės $SABCD$, kurios pagrindas $ABCD$ - stačioji trapecija ($CD$ - trapecijos aukštinė), tūris lygus $10$, o aukštinės $SB$ ilgis lygus $3$. Trapecijos pagrindų ilgiai yra $BC=4$ ir $AD=6$. Raskite didžiausią atstumą nuo taško $S$ iki piramidės pagrindo briaunos.  \n",
    "8\\. Stačiosios trikampės prizmės $ABCA_1B_1C_1$ pagrindo briaunų ilgiai $AB = 2$, $BC=4\\sqrt{2}$, $CA = 2\\sqrt{7}$. Apskaičiuokite kampą laipsniais tarp sienų $AA_1B_1B$ ir $BB_1C_1C$.  \n",
    "9\\. $ABCDEFA_1B_1C_1D_1E_1F_1$ - taisyklingoji šešiakampė prizmė. Pagrindo briaunos ilgis lygus $4\\sqrt{3}$. Apskaičiuokite atstumą tarp tiesių $AF$ ir $B_1E$.  \n",
    "10\\. Kūgį perkirtus plokštuma, lygiagrečia su pagindu, gauto nupjautinio kūgio tūris sudarė $87{,}5\\%$ pradinio kūgio tūrio. Kiek kartų skiriasi nupjautinio kūgio pagrindų spindulių ilgiai?  \n",
    "11\\. Piramidę, kurios tūris lygus $32$, o pagrindo plotas - $4$, kerta plokštuma, lygiagreti su pagrindu. Pjūvio plotas lygus $0{,}25$. Apskaičiuokite atstumą tarp pjūvio ir piramidės pagrindo plokštumų.  \n",
    "12\\. Ritinio aukštinė $2$ kartus didesnė už kūgio aukštinę, o ritinio pagrindo skersmuo lygus $3$ kartus mažesnis už kūgio pagrindo skersmenį. Kuris iš žemiau pateiktų teiginių yra\n",
    " kartus mažesnis už kūgio pagrindo skersmenį. Kuris iš žemiau pateiktų teiginių yra **neteisingas**?  \n",
    " $\\begin{array}{l}\n",
    "\\boxed{A}\\, \\text{Kūgio pagrindo plotas $9$ kartus didesnis už ritinio pagrindo plotą} \\\\\n",
    "\\boxed{B}\\, \\text{Kūgio tūris $1{,}5$ karto didesnis už ritinio tūrį} \\\\\n",
    "\\begin{array}{l}\\boxed{C}\\, \\text{Kai kūgio ašinis pjūvis yra lygiakraštis trikampis,} \\\\ \\text{jo šoninio paviršiaus plotas yra didesnis už ritinio šoninio paviršiaus plotą} \\end{array} \\\\\n",
    "\\boxed{D}\\, \\text{Kūgio ašinis pjūvis $25\\%$ mažesnis už ritinio ašinį pjūvį}\n",
    "\\end{array}$  \n",
    "13\\. Kvadrato, kurio kraštinės ilgis $1$, plokštuma kertasi $30^\\circ$ kampu su plokštuma $\\alpha$. Viena kvadrato kraštinių yra šių plokštumų sankirtos tiesėje. Apskaičiuokite atstumą nuo kvadrato įstrižainių susikirtimo taško iki plokštumos $\\alpha$.  \n",
    "14\\. Į rutulį įpilta vandens tiek, jog jo lygis sudaro $\\dfrac{1}{10}$ viso rutulio aukščio. Keliais procentais yra užpildytas rutulys?  \n",
    "15\\. Trikampės piramidės pagrindo briaunų ilgiai $29$, $29$, $40$. Šios piramidės visos šoninės sienos sudaro $60^\\circ$ kampą su pagrindo plokštuma. Apskaičiuokite šios piramidės tūrį. Laikykite $\\sqrt{3}\\approx 1{,}73$.  "
   ]
  },
  {
   "cell_type": "markdown",
   "id": "0cd8bfe1-a5d6-4f18-95c7-fbfafd3624bc",
   "metadata": {},
   "source": [
    "## Briaunainiai ir jų pjūviai ★★☆\n",
    "1\\. Kubo viso paviršiaus plotas lygus $150\\,\\text{cm}^2$. Raskite šio kubo tūrį.  \n",
    "2\\. Stačiakampio gretasienio matmenys $6 \\times 8 \\times 12$ (ilgis $\\times$ plotis $\\times$ aukštis). Raskite šio stačiakampio gretasienio įstrižainės ilgį.  \n",
    "3\\. Kubo formos plieno gabaliuką, kurio briaunos ilgis $4$, nuspręsta išlydyti ir pagaminti rutulio formos lydinį. Raskite gautojo rutulio spindulį. Atsakymą užrašykite dešimtųjų tikslumu.  \n",
    "4\\. Akvariumo matmenys $50\\,\\text{cm} \\times 30\\,\\text{cm} \\times 40\\,\\text{cm}$ (ilgis $\\times$ plotis $\\times$ aukštis). Į akvariumą įpilta $45\\,\\text{l}$ vandens. Koks vandens lygio aukštis akvariume?  \n",
    "5\\. Raskite duotosios taisyklingosios keturkampės piramidės viso paviršiaus plotą.  \n",
    "<img src=\"../images/12_4_5.png\" width=\"200\"/>  \n",
    "6\\. Taisyklingosios keturkampės piramidės šoninė briauna su pagrindo plokštuma sudaro $45U^\\circ$ kampą. Raskite piramidės tūrį, kai jos aukštinės ilgis yra $12$.  \n",
    "7\\. Brėžinyje pavaizduotas stačiakampis gretasienis. $AB=3$, $AD=8$ ir $AA_1=4$. Raskite trikampės piramidės, kurios viršūnės yra taškuose $A$, $B$, $C$, $B_1$, tūrį.  $A$, $B$, $C$, $B_1$, tūrį.  \n",
    "8\\. Taisyklingosios trikampės prizmės $ABCA_1B_1C_1$ pagrindo briaunos ilgis yra $4\\sqrt{3}\\,\\text{cm}$. Prizmės pjūvis, einantis per pagrindo briauną $BC$ ir viršūnę $A_1$, su pagrindo $ABC$ plokštuma sudaro $60$ laipsnių kampą.  \n",
    "<img src=\"../images/12_4_8.png\" width=\"140\"/>  \n",
    "* Raskite taisyklingosios trikampės prizmės pagrindo aukštinės ilgį.  \n",
    "* Raskite taisyklingosios trikampės prizmės tūrį.\n",
    "\n",
    "9\\. Trikampės piramidės $SABC$ šoninės briaunos lygios, o aukštinės ilgis lygus $7{,}2$. Pgrindo $BC$ ilgis lygus $5{,}4$ ir $\\angle BAC = 30^\\circ$. Apskaičiuokite šoninės briaunos ilgį.  \n",
    "<img src=\"../images/12_4_9.png\" width=\"200\"/>  \n",
    "10\\. Duota piramidė, kurios pagrindas yra lygiagretainis. Šio lygiagretainio gretimų kraštinių ilgiai yra $16$ ir $21$, o kampas tarp jų $60^\\circ$. Piramidės aukštinės ilgis lygus $10\\sqrt{3}$.  \n",
    "<img src=\"../images/12_4_10.png\" width=\"200\"/>  \n",
    "* Apskaičiuokite piramidės įstrižinio pjūvio $SBD$ plotą.  \n",
    "* Apskaičiuokite šios piramidės tūrį.\n",
    "* Apskaičiuokite kampo tarp piramidės šoninės sienos $SAD$ ir pagrindo plokštumos tangentą."
   ]
  },
  {
   "cell_type": "markdown",
   "id": "8780419a-4099-4812-9f1c-f7b838a6e41a",
   "metadata": {},
   "source": [
    "## Sukinių skaičiavimai ★★☆\n",
    "1\\. Pavaizduota kūgio išklotinė. Pagal pateiktus išmatavimus, apskaičiuokite iš jos išlankstyto kūgio tūrį. Laikykite $\\pi \\approx 3{,}14$.  \n",
    "<img src=\"../images/12_5_1.png\" width=\"200\"/>  \n",
    "2\\. Raskite pavaizduoto kūgio viso paviršiaus plotą.  \n",
    "<img src=\"../images/12_5_2.png\" width=\"120\"/>  \n",
    "3\\. Raskite pavaizduoto ritinio viso paviršiaus ploto ir tūrio santykį.  \n",
    "<img src=\"../images/12_5_3.png\" width=\"120\"/>  \n",
    "4\\. Kūgio šoninio paviršiaus plotas lygus $260\\pi$, o viso  paviršiaus plotas - $360\\pi$. Apskaičiuokite šio kūgio aukštinės ilgį.  \n",
    "5\\. Raskite kūgio šoninio paviršiaus plotą, kai jo ašinis pjūvis yra lygiakraštis trikampis, kurio kraštinės ilgis lygus $4\\,\\text{cm}$.  \n",
    "6\\. Turime kūgį ir ritinį. Kūgio spindulio ilgis lygus $3$, o aukštis - $8$. Ritinio spindulio ilgis lygus $2$. Raskite ritinio aukštį, jeigu yra žinoma, kad abiejų figūrų tūriai yra lygūs.  \n",
    "7\\. Į ritinį įbrėžtas kubas, kurio briaunos ilgis lygus $8\\,\\text{cm}$. Raskite ritinio tūrį.  \n",
    "8\\. Turime ritinį, kurio ašinis pjūvis yra kvadratas ir rutulį, kurio spindulys lygus ritinio spinduliui. Kiek kartų ritinio tūris yra didesnis už rutulio tūrį?  \n",
    "9\\. Iš pusskritulio formos popieriaus lapo sudaroma kūgio formos kepurėlė. Kam lygi kampo, kurį sudaro kūgio aukštinė ir sudaromoji, reikšmė laipsniais?  \n",
    "10\\. Kūgio formos metalinė detalė, kurios aukštis lygus $12$, o pagrindo spindulys - $3$, buvo išlydyta ir iš jos pagaminta nauja rutulio formos detalė. Kam lygus šio rutulio spindulys?  "
   ]
  }
 ],
 "metadata": {
  "kernelspec": {
   "display_name": "Python 3 (ipykernel)",
   "language": "python",
   "name": "python3"
  },
  "language_info": {
   "codemirror_mode": {
    "name": "ipython",
    "version": 3
   },
   "file_extension": ".py",
   "mimetype": "text/x-python",
   "name": "python",
   "nbconvert_exporter": "python",
   "pygments_lexer": "ipython3",
   "version": "3.12.7"
  }
 },
 "nbformat": 4,
 "nbformat_minor": 5
}
