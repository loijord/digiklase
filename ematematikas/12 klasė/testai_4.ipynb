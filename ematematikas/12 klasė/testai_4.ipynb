{
 "cells": [
  {
   "cell_type": "markdown",
   "id": "aaa36858-2c14-44f9-a180-281c4edcec19",
   "metadata": {},
   "source": [
    "## Pirmykštė funkcija ★★☆\n",
    "1\\. Raskite funkcijos $f(x) = 2x + 5$ pirmykštę funkciją.  \n",
    "2\\. Raskite funkcijos $f(x) = \\dfrac{2}{x} - 5\\sin x + e$ pirmykštę funkciją.  \n",
    "3\\. Raskite funkcijos $f(x) = \\dfrac{3x^3-3x^2}{x^2}$ pirmykštę funkciją.  \n",
    "4\\. Raskite funkcijos $f(x) = \\dfrac{1}{5x+3}$ pirmykštę funkciją.  \n",
    "5\\. Raskite funkcijos $f(x) = \\sqrt{7x + 1}$ pirmykštę funkciją.  \n",
    "6\\. Raskite funkcijos $f(x) = 4x^3 - 2x$ pirmykštę funkciją, kuri eina per tašką $(2; 3)$.  \n",
    "7\\. Raskite funkcijos $f(x) = 5x^4 - 3x^2-1$ pirmykštę funkciją, kuri eina per tašką $(2; 22)$.  \n",
    "8\\. Raskite funkcijos $f(x) = 2\\sin x - \\cos(2x)$ pirmykštę funkciją, kuri eina per tašką $\\left(\\dfrac{\\pi}{2}; 3\\right)$  \n",
    "9\\. Raskite funkcijos $f(x) = 1 - x^3$ pirmykštę funkciją $F(x)$, jeigu yra žinoma, kad $F(2)=5$ ir apskaičiuokite $F(-2)$ reišmę.  \n",
    "10\\. Apskaičiuokite neapibrėžtinį integralą $\\displaystyle \\int(\\text{tg}\\,x \\cdot \\text{ctg}\\,x)\\, dx$."
   ]
  },
  {
   "cell_type": "markdown",
   "id": "9d0d9699-278b-490b-bcf1-a7b6c929e79b",
   "metadata": {},
   "source": [
    "## Apibrėžtinis integralas ★★☆\n",
    "1\\. Apskaičiuokite apibrėžtinį integralą $\\displaystyle\\int\\limits_1^2 (3x^2 + 2x + 1)\\, dx$.  \n",
    "2\\. Apskaičiuokite apibrėžtinį integralą $\\displaystyle\\int\\limits_0^1 (3x + 1)^3\\, dx$.  \n",
    "3\\. Apskaičiuokite apibrėžtinį integralą $\\displaystyle\\int\\limits_0^\\pi \\sin(2x)\\, dx$.  \n",
    "4\\. Apskaičiuokite apibrėžtinį integralą $\\displaystyle\\int\\limits_0^\\pi (3x^2-2\\sin x)\\, dx$.  \n",
    "5\\. Apskaičiuokite apibrėžtinį integralą $\\displaystyle\\int\\limits_{\\sqrt{e}}^{e^2} \\left(\\dfrac{5}{x}\\right)\\, dx$.  \n",
    "6\\. Suraskite koeficiento $k$ reikšmę, kai $\\displaystyle\\int\\limits_0^1 (kx+5)\\, dx = 9$.  \n",
    "7\\. Suraskite nežinomojo rėžio $b$ reikšmę, kai $\\displaystyle\\int\\limits_0^b (4x+1)\\, dx = 15$.  \n",
    "8\\. Apskaičiuokite $\\displaystyle\\int\\limits_2^3 \\left(4f(x)-10x\\right)\\, dx$, kai $\\displaystyle\\int\\limits_2^3 f(x)\\,dx=7$.  \n",
    "9\\. Apskaičiuokite $\\displaystyle\\int\\limits_1^5 \\left(f(x)-2x\\right)\\, dx$, kai $\\displaystyle\\int\\limits_1^3 f(x)\\,dx=14$ ir $\\displaystyle\\int\\limits_3^5 f(x)\\,dx=18$.  \n",
    "10\\. Suraskite nežinomojo rėžio $a$ reikšmę, kai $\\displaystyle\\int\\limits_{a}^{2a} (7x-7)\\,dx=140$ ir $a>0$.    "
   ]
  },
  {
   "cell_type": "markdown",
   "id": "153ecc49-06d2-4e25-bc8b-9855d94799a6",
   "metadata": {},
   "source": [
    "## Integralų taikymai ★★☆\n",
    "1\\. Apskaičiuokite plotą figūros, apribotos kreivėmis $y=x^2-1$ ir $y=x+1$.  \n",
    "2\\. Raskite kreivėmis $y=-x^2+2x$ ir $y=x-2$ apriboto ploto dydį.  \n",
    "3\\. Žinoma, jog parabolės $y=ax^2$ ir ašies $Ox$ ribojamas plotas yra lygus $3$. Raskite koeficiento $a$ reikšmę.  \n",
    "<img src=\"../images/12_11_3.png\" width=\"200\"/>  \n",
    "4\\. Raskite parabolių $y=-\\dfrac{1}{6}x^2+2$ ir $y=\\dfrac{1}{3}x^2 - 2{,}5$ apriboto ploto dydį (žr. paveikslėlį).  \n",
    "<img src=\"../images/12_11_4.png\" width=\"200\"/>  \n",
    "5\\. Plotą riboja $Ox$ ašis, $Oy$ ašis, parabolė $y=-x^2+16x-63$ ir tiesė, lygiagreti $Ox$ ašiai ir einanti per parabolės viršūnę. Raskite to ploto dydį.  \n",
    "6\\. Automobilis juda greičiu, išreikštu formule $v(t) = 3t^2 + 1$, kur greitis yra matuojamas $\\text{m}/\\text{s}$, o laikas - $\\text{s}$. Laiko momentu $t=3\\,\\text{s}$ automobilio koordinatė lygi $32$ metrai. Apskaičiuokite automobilio koordinatę laiko momentu $t=1\\,\\text{s}$.  \n",
    "7\\. Apskaičiuok tiese ir parabole apribotos figūros plotą (žr. paveikslėlį).  \n",
    "<img src=\"../images/12_11_7.png\" width=\"300\"/>  \n",
    "8\\. Paveiksle pavaizduotas plotas yra ribojamas hiperbolės $y=\\dfrac{2}{x}$ bei dviejų tiesių $x=1$ ir $y=1$. Apskaičiuokite nuspalvintos dalies plotą ir atsakymą nurodykite šimtųjų tikslumu.  \n",
    "<img src=\"../images/12_11_8.png\" width=\"240\"/>  "
   ]
  }
 ],
 "metadata": {
  "kernelspec": {
   "display_name": "Python 3 (ipykernel)",
   "language": "python",
   "name": "python3"
  },
  "language_info": {
   "codemirror_mode": {
    "name": "ipython",
    "version": 3
   },
   "file_extension": ".py",
   "mimetype": "text/x-python",
   "name": "python",
   "nbconvert_exporter": "python",
   "pygments_lexer": "ipython3",
   "version": "3.12.7"
  }
 },
 "nbformat": 4,
 "nbformat_minor": 5
}
