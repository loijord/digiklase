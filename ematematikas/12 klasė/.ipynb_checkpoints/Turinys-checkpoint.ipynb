{
 "cells": [
  {
   "cell_type": "markdown",
   "id": "2bcfc943-5847-4594-8736-6928ddacecb2",
   "metadata": {},
   "source": [
    "# 12 klasė\n",
    "* [Trigonometrija](testai_1.ipynb) (2)\n",
    "* [Stereometrija](testai_2.ipynb) (3)\n",
    "* [Išvestinės ir jų taikymai](testai_3.ipynb) (3)\n",
    "* [Integralai ir jų taikymai](testai_4.ipynb) (3)\n",
    "* [Kombinatorika ir tikimybių teorija](testai_5.ipynb) (2)\n",
    "* [Statistika](testai_6.ipynb) (2)"
   ]
  }
 ],
 "metadata": {
  "kernelspec": {
   "display_name": "Python 3 (ipykernel)",
   "language": "python",
   "name": "python3"
  },
  "language_info": {
   "codemirror_mode": {
    "name": "ipython",
    "version": 3
   },
   "file_extension": ".py",
   "mimetype": "text/x-python",
   "name": "python",
   "nbconvert_exporter": "python",
   "pygments_lexer": "ipython3",
   "version": "3.12.7"
  }
 },
 "nbformat": 4,
 "nbformat_minor": 5
}
