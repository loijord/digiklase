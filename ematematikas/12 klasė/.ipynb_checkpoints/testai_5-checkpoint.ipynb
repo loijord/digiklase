{
 "cells": [
  {
   "cell_type": "markdown",
   "id": "898f7ac0-c700-4537-bc0b-308e852ca0b9",
   "metadata": {},
   "source": [
    "## Kombinatorika ★★☆\n",
    "1\\. Keliais skirtingais būdais į lentyną galima sudėti $5$ knygas?  \n",
    "2\\. Kiek skirtingų triženklių skaičių galima sudaryti iš skaitmenų $0$, $1$, $2$, $3$ ir $4$, jeigu visi skaičiuje esantys skaitmenys turi būti skirtingi?  \n",
    "3\\. Kiek skirtingų triženklių skaičių galima sudaryti iš skaitmenų $0$, $1$, $2$, $3$ ir $4$, jeigu visi skaičiuje esantys skaitmenys gali kartotis?  \n",
    "4\\. Klasėje yra $28$ mokiniai. Iš jų reikia išrinkti seniūną ir jo pavaduotoją. Kiek galimybių yra tai padaryti?  \n",
    "5\\. Klasėje yra $25$ mokiniai. Iš jų reikia išrinkti du, kurie bus atsakingi už tvarką. Kiek galimybių yra tai padaryti?  \n",
    "6\\. Šachmatų turnyre dalyvauja $20$ šachmatininkų. Kiekvienas sužais po vieną partiją su visais dalyviais. Kiek iš viso bus šachmatų partijų?  \n",
    "7\\. Verslo susitikime dalyvavo $10$ verslininkų. Visi verslininkai pasidalino savo vizitinėmis kortelėmis. Kiek vizitinių kortelių buvo išdalinta?  \n",
    "8\\. Verslo susitikime dalyvavo $10$ verslininkų. Susitikimo pradžioje visi verslininkai vieni su kitais pasisveikino paspausdami ranką. Kiek iš viso buvo rankų paspaudimų?  \n",
    "9\\. Krepšinio čempionate dalyvauja $12$ komandų. Kiek yra galimybių šioms komandoms pasidalinti pirmos, antros ir trečios vietos taures?  \n",
    "10\\. Jono knygų lentynoje yra $8$ skirtingos knygos. Jonas nutaria šiemet perskaityti ne daugiau $3$ knygų. Kiek pasirinkimo galimybių turi Jonas, jeigu bent vieną knygą jis tikrai perskaitys?  \n",
    "11\\. Elektroninės spynos kodą sudaro $4$ simboliai. Kodą gali sudaryti skaitmenys arba raidės $a$, $b$, $c$, $d$, $e$ ir $f$. Kodo simboliai kartotis negali. Kiek įvairių kodo kombinacijų turi ši spyna?  \n",
    "12\\. Iš $36$ kortų kaladės, kurioje yra $4$ tūzai, ištraukiamos $3$ kortos. Kiek yra galimybių, kad tarp jų bus lygiai $1$ tūzas?  \n",
    "13\\. Ant $10$ kortelių berniukas užrašė po raidę taip, jog sudėjus visas korteles atitinkama tvarka būtų galima perskaityti žodį $\\text{KROKODILAS}$. Kiek skirtingų žodžių, nebūtinai turinčių prasmę, dedant korteles iš kairės į dešinę galima sudaryti panaudojant visas $10$ kortelių?  \n",
    "14\\. Į kino teatrą atėjo $4$ vaikinai ir $3$ merginos. Jie nutarė eiti į tą patį filmą ir salėje sėdėti vienoje eilėje. Taigi buvo nupirkti $7$ bilietai į filmą (visos sėdimos vietos vienoje eilėje, greta viena kitos).\n",
    "* Keliais skirtingais būdais visi gali susėsti kino salės eilėje?\n",
    "* Keliais skirtingais būdais visi gali susėsti kino salės eilėje, jeigu ir vaikiniai, ir merginos nori sedėti greta?  "
   ]
  },
  {
   "cell_type": "markdown",
   "id": "016a8893-fc65-41b0-90e7-79de9e0134da",
   "metadata": {},
   "source": [
    "## Tikimybių teorija ★★☆\n",
    "1\\. Metamas šešiasienis lošimo kauliukas. Kokia tikimybė, kad iškrito daugiau negu $4$ akutės?  \n",
    "2\\. Metamas šešiasienis lošimo kauliukas ir moneta. Kokia tikimybė, kad kauliukas atvirs lyginiu akučių skaičiumi, o moneta - herbu?  \n",
    "3\\. Spynos kodą sudaro keturi skaičiai, kurie negali kartotis. Kokia tikimybė atspėti spynos kodą iš pirmo karto?  \n",
    "4\\. Metami du šešiasieniai lošimo kauliukai ir stebima atvirtusių akučių suma. Kokia tikimybė, kad atvirtusių akučių suma bus $7$?  \n",
    "5\\. Urnoje yra $2$ balti ir $5$ juodi rutuliai. Iš urnos atsitiktinai traukiami du rutuliai. Kokia tikimybė, kad abu rutuliai bus juodi?  \n",
    "6\\. Dėžėje yra $7$ balti ir $5$ raudoni rutuliai. Iš dėžės traukiame $4$ rutulius. Kokia tikimybė, kad tarp jų bus $3$ raudoni rutuliai?  \n",
    "7\\. Šaulio pataikymo į taikinį tikimybė yra $0{,}8$. Kokia tikimybė, kad šauliui šovus tris kartus, jis du kartus pataikys ir vieną kartą nepataikys?  \n",
    "8\\. Tikimybė užvesti žoliapjovės variklį yra $0{,}9$. Kokia tikimybė, kad variklis bus užvestas tik iš trečio karto?  \n",
    "9\\. Turime skaitmenis $0$, $1$, $2$, $3$ ir $4$, iš kurių sudarome triženklius skaičius. Kokia tikimybė, kad sudarytas triženklis skaičius bus lyginis?  \n",
    "10\\. Dėžėje yra $3$ balti ir $5$ juodi rutuliai. Nežiūrėdami ištraukiame du rutulius. Kokia tikimybė, kad jie bus tos pačios spalvos?  \n",
    "11\\. Ant apskritimo pažymėti $8$ taškai atskirti vienodais tarpais. Kokia tikimybė, jog atsitiktinai iš jų parinkus du skirtingus taškus ir juos sujungus atkarpa gausime šio apskritimo skersmenį?  \n",
    "<img src=\"../images/12_13_11.png\" width=\"120\"/>  \n",
    "12\\. Dėžėje yra $4$ mėlyni, $5$ žali ir $6$ raudoni rutuliai. Iš dėžės atsitiktinai traukiame $4$ rutulius.  \n",
    "* Kokia tikimybė, kad jie visi bus žali?\n",
    "* Kokia tikimybė, kad tarp jų bus ne mažiau kaip vienas žalias?\n",
    "  \n",
    "13\\. Dėžėje yra $4$ kortelės su skaičiais $1$, $2$, $3$, $5$. Imame (atgal negrąžindami) po vieną kortelę du kartus. Ištrauktus skaičius surašome iš eilės traukimo tvarka. Kokia tikimybė, kad užrašytas skaičius dalijasi iš $3$ be liekanos?  "
   ]
  }
 ],
 "metadata": {
  "kernelspec": {
   "display_name": "Python 3 (ipykernel)",
   "language": "python",
   "name": "python3"
  },
  "language_info": {
   "codemirror_mode": {
    "name": "ipython",
    "version": 3
   },
   "file_extension": ".py",
   "mimetype": "text/x-python",
   "name": "python",
   "nbconvert_exporter": "python",
   "pygments_lexer": "ipython3",
   "version": "3.12.7"
  }
 },
 "nbformat": 4,
 "nbformat_minor": 5
}
