{
 "cells": [
  {
   "cell_type": "markdown",
   "id": "e760ea08-bac2-449d-a654-4dbd4a29a761",
   "metadata": {},
   "source": [
    "## Trigonometriniai reiškiniai ★☆☆\n",
    "1\\. Suprastinkite reiškinį $\\left(\\sin x - \\cos x\\right)^2 + 2\\,\\text{tg}\\,x \\cdot \\cos^2 x$.  \n",
    "2\\. Suprastinkite reiškinį $2\\cos 2x - \\cos^2 x + 3\\sin^2 x$.  \n",
    "3\\. Suprastinkite reiškinį $\\dfrac{\\cos^{3}x-\\cos x}{\\sin 2x} \\cdot \\dfrac{2}{\\text{tg}\\,x}$.  \n",
    "4\\. Apskaičiuokite $\\cos 2\\alpha$, jei $\\sin \\alpha = 0{,}3$.  \n",
    "5\\. Suprastinkite reiškinį $\\dfrac{\\sin 2\\alpha-\\text{tg}\\,\\alpha \\cdot \\cos^2 \\alpha}{\\text{tg}\\,\\alpha}$.  \n",
    "6\\. Suprastinkite reiškinį $\\dfrac{\\cos(\\pi + x) - \\cos\\left(\\dfrac{3\\pi}{2}+x\\right)}{\\sin\\left(\\dfrac{\\pi}{2}+x\\right)+\\sin(2\\pi + x)}$.  \n",
    "7\\. Apskaičiuokite $\\text{tg}\\,x$, jei $\\sin x = \\dfrac{3}{5}$ ir $\\dfrac{\\pi}{2} < x < \\pi$.  \n",
    "8\\. Apskaičiuokite $\\sin 2x$, jei $\\sin x = \\dfrac{5}{13}$ ir $0 < x < \\dfrac{\\pi}{2}$.  \n",
    "9\\. Suprastinkite reiškinį $\\cos x \\cdot\\,\\text{tg}\\,x - \\sin x \\cdot \\cos^2 x$.  \n",
    "10\\. Apskaičiuokite $\\sin 2\\alpha$, jei $\\sin \\alpha + \\cos \\alpha = \\dfrac{1}{3}$.  \n",
    "11\\. Apskaičiuokite $\\text{tg}\\,\\alpha$, jei $\\dfrac{2\\sin\\alpha + 3\\cos\\alpha}{5\\cos\\alpha} = 2\\,\\text{tg}\\,\\alpha$. Atsakymą pateikite dešimtaine trupmena.  \n",
    "12\\. Suprastinkite reiškinį $\\dfrac{\\sin(2000\\pi+x) - \\sin(2001\\pi + x)}{\\text{tg}\\,(2022\\pi - x)}$.  "
   ]
  },
  {
   "cell_type": "markdown",
   "id": "3e2e6c5e-de17-451c-ad78-dde31ed34019",
   "metadata": {},
   "source": [
    "## Trigonometrinės lygtys ★★☆\n",
    "1\\. Išspręskite lygtį $2\\sin 3x = \\pi$.  \n",
    "2\\. Išspręskite lygtį $2\\cos 2x = \\sqrt{2}$.  \n",
    "3\\. Raskite lygties $2\\sin x - 1$ sprendinių skaičių intervale $[0^\\circ; 360^\\circ]$.  \n",
    "4\\. Raskite mažiausią teigiamą lygties $(\\cos x - \\sqrt{2})(2\\sin x + \\sqrt{2}) = 0$ sprendinį ir atsakymą nurodykite laipsniais.  \n",
    "5\\. Raskite didžiausią neigiamą lygties $\\sin^2 x = \\cos x (2\\sin x - \\cos x)$ sprendinį ir atsakymą nurodykite laipsniais.  \n",
    "6\\. Išspręskite $\\cos(2x) + 4\\sin x = 3$.  \n",
    "7\\. Išspręskite lygtį $\\cos(2x) + \\sqrt{2}\\sin x - 1 = 0$ ir raskite jos sprendinių skaičių intervale $[-\\pi; \\pi]$.  \n",
    "8\\. Išspręskite lygtį $\\sin\\left(x-\\dfrac{\\pi}{2}\\right)\\,\\text{tg}\\,x=0$.  \n",
    "9\\. Išspręskite nelygybę $3\\text{tg}\\,x - \\sqrt{3} \\ge 0$.  \n",
    "10\\. Išspręskite nelygybę $\\sin(3x) < 1$."
   ]
  }
 ],
 "metadata": {
  "kernelspec": {
   "display_name": "Python 3 (ipykernel)",
   "language": "python",
   "name": "python3"
  },
  "language_info": {
   "codemirror_mode": {
    "name": "ipython",
    "version": 3
   },
   "file_extension": ".py",
   "mimetype": "text/x-python",
   "name": "python",
   "nbconvert_exporter": "python",
   "pygments_lexer": "ipython3",
   "version": "3.12.7"
  }
 },
 "nbformat": 4,
 "nbformat_minor": 5
}
