{
 "cells": [
  {
   "cell_type": "markdown",
   "id": "2199e2e2-cece-4e9f-9052-5660f12041fa",
   "metadata": {},
   "source": [
    "## Išvestinių skaičiavimas ★☆☆\n",
    "1\\. Raskite funkcijos $f(x) = \\dfrac{x^5}{5}+2x^3-5x+4$ išvestinę.  \n",
    "2\\. Raskite funkcijos $f(x) = \\sqrt[3]{x}$ išvestinę.  \n",
    "3\\. Raskite funkcijos $f(x) = \\sqrt[4]{x}-\\sqrt{x}$ išvestinę.  \n",
    "4\\. Raskite funkcijos $f(x) = x^2\\sin x$ išvestinę.  \n",
    "5\\. Raskite funkcijos $f(x) = 2\\pi \\cos(2x)$ išvestinę.  \n",
    "6\\. Raskite funkcijos $f(x) = \\dfrac{x^2-1}{x+2}$ išvestinę.  \n",
    "7\\. Raskite funkcijos $f(x) = 3x^2+\\sin^2 x +\\pi$ išvestinę.  \n",
    "8\\. Raskite funkcijos $f(x) = 2\\sqrt{2} - 2e + 3\\pi$ išvestinę.  \n",
    "9\\. Raskite funkcijos $f(x) = \\sin^5(4x)$ išvestinę.  \n",
    "10\\. Raskite funkcijos $f(x) = e^{x^2+x}$ išvestinę.  \n",
    "11\\. Raskite funkcijos $f(x) = (3-x)e^{3-x}$ išvestinę.  \n",
    "12\\. Raskite funkcijos $f(x) = \\ln(5x)$ išvestinę.  \n",
    "13\\. Apskaičiuokite $f'(2)$, kai $f(x) = x^4-2x^5+5$.  \n",
    "14\\. Apskaičiuokite $f'(\\pi)$, kai $f(x) = \\text{tg}(2x) - 5\\sin x$.  "
   ]
  },
  {
   "cell_type": "markdown",
   "id": "224687c8-ea4d-4eb4-a494-5937fbea24db",
   "metadata": {},
   "source": [
    "## Išvestinių taikymai ★★☆\n",
    "1\\. Apskaičiuokite funkcijos $f(x) = 3x^3 - 3x^2 - 3x + 3$ kritinių taškų sumą.  \n",
    "2\\. Nurodykite sritį, kurioje funkcija $f(x) = x^4 - 18x^2 + 36$ yra didėjanti.  \n",
    "3\\. Užrašykite funkcijos $f(x)=x^3 + 3x$ liestinės $y$ taške $x_0 = 1$ lygtį.  \n",
    "4\\. Kokį kampą sudaro funkcijos $f(x) = e^x - 2x + 1$ liestinė su $Ox$ ašimi taške $x_0=0$?  \n",
    "5\\. Kokiame taške $x_0$ nubrėžta funkcijos $f(x) = 3x^2 - 2$ liestinė yra lygiagreti tiesei $y = 3x - 5$?  \n",
    "6\\. Raskite mažiausią funkcijos $f(x) = x^3 - 27x + 5$ reikšmę intervale $[-2; 4]$.  \n",
    "7\\. Raskite didžiausią funkcijos $f(x) = \\sin x + \\cos x$ reikšmę intervale $[0; \\pi]$.  \n",
    "8\\. Judančio kūno koordinatė laiko momentu $t$ išreiškiama formule $x(t) = t^3 - 75t$. Kelintą sekundę kūno greitis bus lygus nuliui, t.y. kūnas sustos?  \n",
    "9\\. Automobilio judėjimo lygtis yra $s(t) = \\dfrac{t^3}{24} - 2t^2 + 5t - 3$. Raskite automobilio pagreitį $20$ sekundę.  \n",
    "10\\. Su kuria parametro $k$ reikšme teisinga lygybė $f'(-2) = -9$, kai $f(x) = 3x^2 + kx$.  "
   ]
  },
  {
   "cell_type": "markdown",
   "id": "675e25d1-8532-430b-a792-b26a485ec48f",
   "metadata": {},
   "source": [
    "## Optimizavimo uždaviniai ★★★\n",
    "1\\. Kepyklos savikaina vienam pyragui iškepti ir parduoti, kai iškepta ir parduota $x$ pyragų, yra apskaičiuojama pagal formulę $S(x) = 0{,}05x^2 - 24x + 300$. Kiek pyragų reikia parduoti, kad vieno pyrago savikaina būtų mažiausia?  \n",
    "2\\. Įmonės pelnas, priklausomai nuo pagamintos ir parduotos produkcijos kiekio $x$, apskaičiuojamas pagal formulę $P(x) = -0{,}004x^2 + 800x - 30\\,000\\,000$. Nurodykite didžiausią pelną, kurį gali gauti ši įmonė.  \n",
    "3\\. Prie pastato sienos, iš trijų pusių, reikia aptverti $800$ kvadratinių metrų ploto stačiakampio formos žemės sklypą. Tam bus panaudotas vielos tinklas. Kiek mažiausiai metrų vielos tinklo gali prireikti, kad sklypas būtų aptvertas?  \n",
    "4\\. Su kuria $p$ reikšme kvadratinės lygties $x^2 + 2(p+1)x + 9p - 5 = 0$ diskriminantas yra mažiausias?  \n",
    "5\\. Kūgio sudaromoji lygi $1$. Raskite kūgio aukštinę, su kuria kūgio tūris būtų didžiausias.  \n",
    "6\\. Parduotuvė iš siuvyklos perka striukes po $100$ eurų už vienetą ir vidutiniškai per mėnesį parduoda po $40$ striukių po $160$ eurų. Yra pastebėta, kad kiekvieną kartą mažinant striukės kainą vienu euru, padidėja jų pardavimas viena striuke per mėnesį. Kokia kaina striukes turi pardavinėti parduotuvė, kad jos mėnesinis pelnas būtų didžiausias?  \n",
    "7\\. Iš popieriaus lapo, kurio matmenys yra $33\\,\\text{cm} \\times 18\\,\\text{cm}$, \n",
    " cm, iškerpama pilkai nuspalvinta figūra ir iš jos išlankstoma stačiakampio gretasienio formos dėžutė (žr. pav.).  \n",
    " <img src=\"../images/12_8_7.png\" width=\"350\"/>  \n",
    " Pažymėję $a = x$, suraskite tokią $x$ reikšmę, kad dėžutės tūris būtų didžiausias.  \n",
    "8\\. Kvadrato $ABCD$ kraštinės ilgis yra $8$. Kvadrate yra įbrėžtas lygiagretainis $HEFG$ (žr. pav.).  \n",
    " <img src=\"../images/12_8_8.png\" width=\"200\"/>  \n",
    "Išreikškite lygiagretainio $HEFG$ plotą, kai $AE = CG = x$, $BF = HD = 2x$ ir $0 < x< 4$. Su kuria $x$ reikšme lygiagretainio $HEFG$ plotas yra mažiausias?"
   ]
  }
 ],
 "metadata": {
  "kernelspec": {
   "display_name": "Python 3 (ipykernel)",
   "language": "python",
   "name": "python3"
  },
  "language_info": {
   "codemirror_mode": {
    "name": "ipython",
    "version": 3
   },
   "file_extension": ".py",
   "mimetype": "text/x-python",
   "name": "python",
   "nbconvert_exporter": "python",
   "pygments_lexer": "ipython3",
   "version": "3.12.7"
  }
 },
 "nbformat": 4,
 "nbformat_minor": 5
}
