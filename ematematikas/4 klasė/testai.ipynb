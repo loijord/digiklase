{
 "cells": [
  {
   "cell_type": "markdown",
   "id": "f35149d4-d82e-4849-b4f7-83429b6fd92d",
   "metadata": {},
   "source": [
    "## Ketvirtos klasės kartojimas ★☆☆\n",
    "\n",
    "1\\. Apskaičiuok $905−127$  \n",
    "2\\. Padalink $2091:17$  \n",
    "3\\. Apskaičiuok $155+217−329$  \n",
    "4\\. Antras daugiklis lygus $21$, o sandauga yra lygi $546$. Kam yra lygus pirmas daugiklis?  \n",
    "5\\. Kas turi būti kvadratėlio vietoje, kad lygybė būtų teisinga? $(117−18)\\cdot \\square=297$  \n",
    "6\\. Nurodyk mažiausią galimą skaičių, kad nelygybė būtų teisinga? $53 + \\square > 117$  \n",
    "7\\. Turime tris skaitmenis: $1$, $0$, $5$. Kokį didžiausią triženklį skaičių galima sudaryti iš šių skaitmenų?  \n",
    "8\\. Kiek daliklių turi skaičius $21$?  \n",
    "9\\. Parašykite skaitmenimis skaičių: \n",
    "*tūkstantis šimtas trys*.  \n",
    "10\\. Kuri visų kvadratėlių dalis yra pažymėta?  \n",
    "$\\boxed{☒☒☒☒☒☒☒☐☐☐}$  \n",
    "11\\. Apskaičiuok $5\\,\\text{cm}\\, 7\\,\\text{mm} + 3\\,\\text{cm}\\, 5\\,\\text{mm}$  \n",
    "12\\. Dabar laikrodis rodo $2\\,\\text{h}\\,45\\,\\text{min}$. Kiek laiko šis laikrodis rodys po $2\\,\\text{h}\\,45\\,\\text{min}$?  \n",
    "13\\. Stalas ir $4$ kėdės kainuoja $470$ eurų. Kiek kainuoja $1$ kėdė, jei stalas kainuoja $150$ eurų?  \n",
    "14\\. Kiek sienų turi stačiakampis gretasienis?  \n",
    "15\\. Stačiakampio ilgis lygus $16$, o jo plotis yra $2$ vienetais mažesnis už jo ilgį. Surask šio stačiakampio perimetrą.  \n",
    "16\\. Stačiakampio perimetras lygus $58$. Koks yra šio stačiakampio ilgis?  \n",
    "<img src=\"../images/4_1_16.png\" width=\"200\"/>  \n",
    "17\\. Sudėk visus skaičius nuo 1 iki 10 imtinai. Kokią sumą gavai?  \n",
    "18\\. $20$ moksleivių turinčioje klasėje vykdoma apklausa apie sportą ir sudaroma skritulinė diagrama. $5$ mokiniai pasirenka krepšinį, o kiti pasirenka kitas sporto šakas. Kuri diagramos spalva atitinka krepšinį?  \n",
    "<img src=\"../images/4_1_18.png\" width=\"150\"/>  "
   ]
  },
  {
   "cell_type": "markdown",
   "id": "117dec0a-562a-4198-844b-ce0661a568ed",
   "metadata": {},
   "source": [
    "## Ketvirtos klasės kartojimas ★★☆\n",
    "\n",
    "1\\. Apskaičiuok $2345+6789$  \n",
    "2\\. Padalink $5435:12$ ir atsakyme nurodyk tik gautą liekaną.  \n",
    "3\\. Apskaičiuok $15\\cdot 183 − 129$  \n",
    "4\\. Atėminys lygus $73$, o skirtumas lygus $23$. Kam yra lygus turinys?  \n",
    "5\\. Kas turi būti kvadratėlio vietoje, kad lygybė būtų teisinga? $(13+\\square)\\cdot 3=192$  \n",
    "6\\. Nurodyk mažiausią galimą skaičių, kad nelygybė būtų teisinga? $93+\\square>187$  \n",
    "7\\. Turime keturis skaitmenis: $4$, $6$, $0$, $1$. Kokį didžiausią keturženklį skaičių galima sudaryti iš šių skaitmenų?  \n",
    "8\\. Kiek daliklių turi skaičius $12$?  \n",
    "9\\. Parašykite skaitmenimis skaičių: *aštuoni tūkstančiai dvidešimt vienas*  \n",
    "10\\. Kuri visų kvadratėlių dalis yra pažymėta?  \n",
    "$\\boxed{\\begin{array} ☒☒☒☒☒☒☒☒☒☒☒ \\\\ ☒☒☒☐☐☐☐☐☐☐ \\\\ ☐☐☐☐☐☐☐☐☐☐ \\end{array}}$  \n",
    "11\\. $109\\,\\text{mm}+3\\,\\text{cm}\\, 2\\,\\text{mm}$  \n",
    "12\\. Dabar laikrodis rodo $5\\,\\text{h}\\,35\\,\\text{min}$. Kiek laiko šis laikrodis rodys po $210$ minučių?  \n",
    "13\\. Močiutė pirko vienodą kiekį puodelių ir lėkščių. Lėkštės kainavo po $3$ eurus, o puodeliai – po $5$ eurus. Kiek kainavo puodeliai, jei visos lėkštės kainavo $36$ eurus?  \n",
    "14\\. Kiek briaunų turi kubas?  \n",
    "15\\. Stačiakampio ilgis lygus $12$, o jo plotis yra tris kartus mažesnis už jo ilgį. Surask šio stačiakampio plotą.  \n",
    "16\\. Rask pavaizduotos figūros perimetrą.  \n",
    "<img src=\"../images/4_2_16.png\" width=\"200\"/>  \n",
    "17\\. Skaičiai surašyti tam tikra tvarka: $5$, $8$, $14$, $23$, ... Koks skaičius turėtų būti parašytas iš karto po skaičiaus $23$?  \n",
    "18\\. Diagramoje pavaizduota, po kiek taškų per varžybas pelnė komandos žaidėjai. Kiek žaidėjų surinko daugiau kaip $10$ taškų?  \n",
    "<img src=\"../images/4_2_18.png\" width=\"250\"/>"
   ]
  },
  {
   "cell_type": "markdown",
   "id": "292a4625-8112-460b-bf59-f068e8e7aefc",
   "metadata": {},
   "source": [
    "## Ketvirtos klasės kartojimas ★★★\n",
    "\n",
    "1\\. Apskaičiuok $1254+2569−3129$  \n",
    "2\\. Apskaičiuok $(303⋅27):81$  \n",
    "3\\. Apskaičiuok $2304−1638:14$  \n",
    "4\\. Daliklis lygus $13$, o dalmuo lygus $46$. Kam yra lygus dalinys?  \n",
    "5\\. Kas turi būti kvadratėlio vietoje, kad lygybė būtų teisinga? $9\\cdot(\\square−97)=126$    \n",
    "6\\. Nurodyk didžiausią galimą skaičių, kad nelygybė būtų teisinga? $1187+\\square <5635$  \n",
    "7\\. Turime keturis skaitmenis: $5$, $2$, $1$, $2$. Iš šių skaitmenų sudaryk didžiausią ir mažiausią keturženklius skaičius. Kam lygi šių skaičių suma?  \n",
    "8\\. Kiek daliklių turi skaičius $72$?  \n",
    "9\\. Apskaičiuok: *trys tūkstančiai šimtas penkiasdešimt septyni plius keturi tūkstančiai keturiasdešimt penki*.  \n",
    "10\\. Kuri visų kvadratėlių dalis yra pažymėta?  \n",
    "$\\boxed{\\begin{array}{l}\n",
    "☒☒☒☒☒☒☒☒\\\\\n",
    "☒☒☒☒☒☒☒☒\\\\  \n",
    "☒☒☒☐☐☐☐☐\\\\\n",
    "☐☐☐☐☐☐☐☐\\\\\n",
    "☐☐☐☐☐☐☐☐\\end{array}}$  \n",
    "11\\. Apskaičiuok $1090\\,\\text{g}+3\\,\\text{kg}\\,250\\,\\text{g}-1\\,\\text{kg}\\,710\\,\\text{g}$  \n",
    "12\\. Dabar laikrodis rodo $15\\,\\text{h}\\, 05\\,\\text{min}$. Kiek laiko šis laikrodis rodė prieš $505$ minutes?   \n",
    "13\\. Lukas turi $24$ monetas po $20\\,\\text{ct}$, o jo draugas turi kažkiek monetų po $50\\,\\text{ct}$. Jie abu kartu turi $12\\,\\text{Eur}\\,30\\,\\text{ct}$. Kiek monetų po $50\\,\\text{ct}$ turi Luko draugas?  \n",
    "14\\. Jeigu sudaugintum visus standartinio šešiasienio žaidimo kailiuko skaičius, kokį skaičių gautum?  \n",
    "15\\. Rask pavaizduotos figūros perimetrą.  \n",
    "<img src=\"../images/4_3_15.png\" width=\"200\"/>  \n",
    "16\\. Rask pavaizduotos figūros plotą.  \n",
    "<img src=\"../images/4_3_16.png\" width=\"200\"/>  \n",
    "17\\. Kiek vienetinių kubelių $❒$ telpa stačiakampyje gretasienyje?  \n",
    "<img src=\"../images/4_3_17.png\" width=\"200\"/>  \n",
    "18\\. Lentelėje pavaizduota, kokius pažymius per kontrolinį gavo vienos klasės mokiniai. Kuri visų mokinių dalis gavo $9$ arba daugiau?  \n",
    "$\\begin{array}{|l|c|c|c|c|}\\hline \\text{Pažymys}&7&8&9&10 \\\\ \\hline \\text{Mokinių skaičius}&5&4&7&4 \\\\ \\hline\\end{array}$"
   ]
  },
  {
   "cell_type": "markdown",
   "id": "aab67b27-cbbb-412d-bf88-b99162f1079f",
   "metadata": {},
   "source": [
    "## Tekstiniai uždaviniai ★☆☆\n",
    "1\\. Klasėje yra $24$ vaikai. $1/3$ jų yra berniukai. Kiek klasėje yra berniukų?  \n",
    "2\\. Mama Jonukui davė keturis eurus. Tėtis dar pridėjo pusę tiek, o močiutė dar pridėjo $1/4$ sumos, kurią davė mama. Kiek iš viso pinigų gavo Jonukas?  \n",
    "3\\. Atstumas nuo namų iki mokyklos yra $1\\,\\text{km}$. Kiek minučių truktų kelionė nuo namų iki mokyklos, jeigu eitume $40$ metrų per minutę greičiu?  \n",
    "4\\. Motiejus turi $7$ monetas po $20\\,\\text{ct}$, o jo draugas turi kažkiek monetų po $50\\,\\text{ct}$. Jie abu kartu turi $3\\,\\text{Eur}\\,40\\,\\text{ct}$. Kiek monetų po $50\\,\\text{ct}$ turi Motiejaus draugas?  \n",
    "5\\. Kiek kainuoja dvi matematikos knygos knygyne, jeigu $9$ tokios matematikos knygos kainuoja $72$ eurus?   \n",
    "6\\. Bilietas į kino filmą kainuoja $6$ eurus. $23$ vaikai nori nueiti į filmą, todėl jie visi kartu surinko $170$ eurų. Kiek pinigų jiems liks po bilietų pirkimo?  \n",
    "7\\. Yra žinoma, kad iškepti $28$ tortams reikia $8\\,\\text{kg}$ miltų. Kiek miltų reikia, jeigu norime iškepti tik $7$ tortus?  \n",
    "8\\. Stalas su $4$ kėdėmis kainuoja $500$ eurų. Kiek kainuoja stalas, jeigu vienos kėdės kaina yra $70$ eurų?  \n",
    "9\\. Kvadrato perimetras yra lygus $20\\,\\text{cm}$. Kam yra lygus šio kvadrato plotas?  \n",
    "10\\. Tomas turi $30$ skanių saldainių. Šeštadienį jis suvalgė trečdalį savo saldainių, o sekmadienį - pusę likusių. Kiek nesuvalgytų saldainių liko Tomui?  \n",
    "11\\. Turime du vienodo ilgio rąstus. Kiekvieną rąstą reikia supjautį į $10$ viendo ilgio gabalus. Kiek iš viso pjūvių reikės padaryti?  \n",
    "12\\. Tomas sugalvojo skaičių. Tada prie jo pridėjo $12$ vienetų ir gautą atsakymą padalino iš $5$. Prie gauto dalmens pridėjo $3$ ir gavo $10$. Kokį skaičių sugalvojo Tomas?"
   ]
  },
  {
   "cell_type": "markdown",
   "id": "f643a0df-5027-4ea5-b619-9dec6a335f53",
   "metadata": {},
   "source": [
    "#### In total\n",
    "18 + 18 + 18 + 12 = 66 (4 topics)"
   ]
  }
 ],
 "metadata": {
  "kernelspec": {
   "display_name": "Python 3 (ipykernel)",
   "language": "python",
   "name": "python3"
  },
  "language_info": {
   "codemirror_mode": {
    "name": "ipython",
    "version": 3
   },
   "file_extension": ".py",
   "mimetype": "text/x-python",
   "name": "python",
   "nbconvert_exporter": "python",
   "pygments_lexer": "ipython3",
   "version": "3.12.7"
  }
 },
 "nbformat": 4,
 "nbformat_minor": 5
}
