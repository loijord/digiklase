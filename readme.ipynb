{
 "cells": [
  {
   "cell_type": "markdown",
   "id": "1f2b9422-bc89-4430-9812-eca464a04764",
   "metadata": {},
   "source": [
    "Uždaviniai 4 - 9 klasių temoms (vėliau bus pridėtos 10 - 12kl.)\n",
    "* [4 klasė](ematematikas/4%20klasė/testai.ipynb)\n",
    "* [5 klasė](ematematikas/5%20klasė/testai.ipynb)\n",
    "* [6 klasė](ematematikas/6%20klasė/testai.ipynb)\n",
    "* [7 klasė](ematematikas/7%20klasė/testai.ipynb)\n",
    "* [8 klasė](ematematikas/8%20klasė/testai.ipynb)\n",
    "* [9 klasė](ematematikas/9%20klasė/testai.ipynb)\n",
    "\n",
    "PUPP 2025m. pasiruošimas.\n",
    "\n",
    "* [PUPP 2025 bandomasis](PUPP/2025%20metai/PUPP_2025.ipynb)\n",
    "* [Elicėjaus PUPP 2025](https://mokinys.elicejus.lt/dashboard/1/public-test/4006)\n",
    "* [Elicėjaus resursai ruoštis PUPP](https://mokinys.elicejus.lt/dashboard/1/public-test?toggleTestType=pupp)\n",
    "* [5 - 10 klasių geometrijos konspektas](https://bit.ly/3CTgl6h)\n",
    "* PUPP sprendimų video: [2015 m.](https://matematika.lt/pupp/2015/) [2016 m.](https://matematika.lt/pupp/2016/) [2017 m.](https://matematika.lt/pupp/2017/) [2018 m.](https://matematika.lt/pupp/2018/) [2019 m.](https://matematika.lt/pupp/2019/)\n",
    "* [Formulynas](PUPP/PUPP%2F2025%20metai/formulynas.png)\n",
    "  \n",
    "Kita medžiaga.\n",
    "\n",
    "* Tekstiniai uždaviniai  \n",
    "    * [Tekstinių uždavinių vedlys, veikia pilnai tik atidarant su Adobe Acrobat Reader ar kitomis .pdf skaityklėmis](https://github.com/loijord/matematikos_pamokos/blob/master/programa/Martynas/zodinis.pdf)\n",
    "    * [Daugiau tekstinių uždavinių medžiagos ir pavyzdžių, kuriuose nurodyta, ką žymime x](https://github.com/loijord/matematikos_pamokos/blob/master/programa/Martynas/nezinomieji.pdf)\n",
    "    * [Tekstinių uždavinių pavyzdžiai iš egzaminų, tekstinio uždavinio apibrėžtis, mokytojų patarimai ir kt.](https://github.com/loijord/matematikos_pamokos/blob/master/programa/Vilius/TU/TU.ipynb)\n",
    "* Treniruotės\n",
    "    * [Trupmenų](https://www.geogebra.org/m/xafff9rn)\n",
    "    * [Tiesinių lygčių](https://www.geogebra.org/m/pkkcyxab)\n",
    "    * [Kvadratinių reiškinių skaidymo](https://www.geogebra.org/m/pasan8st)"
   ]
  },
  {
   "cell_type": "code",
   "execution_count": null,
   "id": "2b5a60cf-62d1-41ec-ba65-0d26e1e5cf5a",
   "metadata": {},
   "outputs": [],
   "source": []
  }
 ],
 "metadata": {
  "kernelspec": {
   "display_name": "Python 3 (ipykernel)",
   "language": "python",
   "name": "python3"
  },
  "language_info": {
   "codemirror_mode": {
    "name": "ipython",
    "version": 3
   },
   "file_extension": ".py",
   "mimetype": "text/x-python",
   "name": "python",
   "nbconvert_exporter": "python",
   "pygments_lexer": "ipython3",
   "version": "3.12.7"
  }
 },
 "nbformat": 4,
 "nbformat_minor": 5
}
