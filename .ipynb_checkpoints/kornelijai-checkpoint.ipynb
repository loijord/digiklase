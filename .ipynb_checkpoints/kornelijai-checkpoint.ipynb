{
 "cells": [
  {
   "cell_type": "markdown",
   "id": "d0f1ecf2-0b86-4edc-bc83-084cd30200a3",
   "metadata": {},
   "source": [
    "![](Kornelijai.png)"
   ]
  },
  {
   "cell_type": "markdown",
   "id": "44daa9c3-a9d8-4150-98b2-4bd5792d649d",
   "metadata": {},
   "source": [
    "## Sprendimas 1 - viską išvedant\n",
    "**Sprendimo planas**\n",
    "* Rasti mėlyno pagrindo $A_1BD$ kraštines\n",
    "* Rasti rasti šoninių sienų $AA_1D$, $ABD$, $A_1BD$ likusias nežinomas kraštines.\n",
    "* Rasti kraštinę $OO_1$ stačiajame trikampyje $OO_1A_1$\n",
    "* Rasti šoninę aukštinę $AO_1$ šoninėje sienoje $A_1AD$\n",
    "* Rasti aukštinę $AO$, kuri sutampa su violetinio trikampio $AOO_1$ statiniu.\n",
    "\n",
    "**Sprendimas**\n",
    "* $AA_1 = AD = AB = 1$. Pagal Pitagoro t. pagrindo $\\boxed{AA_1^2 + AB^2 = A_1B^2} \\Leftrightarrow \\boxed{1^2 + 1^2 = A_1B^2} \\Leftrightarrow \\boxed{A_1B^2 = 2} \\Leftrightarrow \\boxed{A_1B = \\sqrt{2}}$. Analogiškai $A_1 = BD = A_1D = \\sqrt{2}$ (mėlyno trikampio kraštinės)\n",
    "* Trikampis $A_1BD$ lygiakraštis, todėl $\\angle OA_1O_1 = \\dfrac{\\angle BA_1D}{2} = \\dfrac{60^\\circ}{2} = 30^\\circ$. Vadinasi, galime pažymėti $A_1O = 2x$ ir $OO_1=x$ (pagal statinio prieš $30^\\circ$ laipsnių kampo taisyklę).\n",
    "* Pagal Pitagoro t. pagrindo $\\boxed{x^2 + \\left(\\dfrac{\\sqrt{2}}{2}\\right)^2 = (2x)^2}$ $\\Leftrightarrow \\boxed{\\dfrac{2}{4} = 4x^2-x^2} \\Leftrightarrow \\boxed{\\dfrac{1}{2} = 3x^2} \\Leftrightarrow \\boxed{x^2 = \\dfrac{1}{6}} \\Leftrightarrow \\boxed{x = \\sqrt{\\dfrac{1}{6}}}$. Radome $OO_1 = \\sqrt{\\dfrac{1}{6}}$.\n",
    "* Pagal Pitagoro t. $AO_1 = \\dfrac{A_1D}{2} = \\dfrac{\\sqrt{1^2+1^2}}{2} = \\dfrac{\\sqrt{2}}{2}$\n",
    "* Pagal Pitagoro t. $\\boxed{AO^2 + OO_1^2 = AO_1^2} \\Leftrightarrow \\boxed{AO^2 + \\left(\\sqrt{\\dfrac{1}{6}}\\right)^2 = \\left(\\dfrac{\\sqrt{2}}{2}\\right)^2}  \\Leftrightarrow \\boxed{AO^2 + \\dfrac{1}{6} = \\dfrac{1}{2}} \\Leftrightarrow \\boxed{AO^2 = \\dfrac{1}{2} - \\dfrac{1}{6} = \\dfrac{1}{3}} \\Leftrightarrow \\boxed{AO = \\sqrt{\\dfrac{1}{3}}}$"
   ]
  },
  {
   "cell_type": "markdown",
   "id": "eb84aeb9-bfee-4ed5-ada3-9e2bc570ddc8",
   "metadata": {},
   "source": [
    "## Sprendimas 2.\n",
    "**Sprendimo planas**\n",
    "* Apskaičiuoti tetraedro tūrį pagal formulę $V = \\dfrac{1}{3} \\cdot AA_1 \\cdot S_{ABD}$\n",
    "* Sudaryti reiškinį tetraedro tūriui rasti pagal formulę $V = \\dfrac{1}{3} \\cdot AO \\cdot S_{A_1BD}$\n",
    "* Sulyginti abu rezultatus, iš gautos lygties rasti $AO$.\n",
    "\n",
    "**Sprendimas**\n",
    "* $V = \\dfrac{1}{3} \\cdot AA_1 \\cdot S_{ABD} = \\dfrac{1}{3} \\cdot 1 \\cdot \\dfrac{1}{2} = \\dfrac{1}{6}$\n",
    "* $AA_1 = AD = AB = 1$. Pagal Pitagoro t. pagrindo $\\boxed{AA_1^2 + AB^2 = A_1B^2} \\Leftrightarrow \\boxed{1^2 + 1^2 = A_1B^2} \\Leftrightarrow \\boxed{A_1B^2 = 2} \\Leftrightarrow \\boxed{A_1B = \\sqrt{2}}$. Analogiškai $A_1 = BD = A_1D = \\sqrt{2}$ (mėlyno trikampio kraštinės)\n",
    "* Trikampis $A_1BD$ lygiakraštis, jo plotą galima rasti pagal formulę $S = \\dfrac{a^2\\sqrt{3}}{4}$ (arba išvesti pagal Pitagoro t. randant aukštinę).\n",
    "  Turime $S_{A_1BD} = \\dfrac{a^2\\sqrt{3}}{4} = \\dfrac{(\\sqrt{2})^2\\sqrt{3}}{4} = \\dfrac{2\\sqrt{3}}{4} = \\dfrac{\\sqrt{3}}{2}$\n",
    "* $V = \\dfrac{1}{3} \\cdot AO \\cdot \\dfrac{\\sqrt{3}}{2} = AO \\cdot \\dfrac{\\sqrt{3}}{6}$\n",
    "* $\\boxed{\\dfrac{1}{6} = AO \\cdot \\dfrac{\\sqrt{3}}{6}} \\Leftrightarrow 1 = AO \\cdot \\sqrt{3} \\Leftrightarrow AO = \\dfrac{1}{\\sqrt{3}}$"
   ]
  }
 ],
 "metadata": {
  "kernelspec": {
   "display_name": "Python 3 (ipykernel)",
   "language": "python",
   "name": "python3"
  },
  "language_info": {
   "codemirror_mode": {
    "name": "ipython",
    "version": 3
   },
   "file_extension": ".py",
   "mimetype": "text/x-python",
   "name": "python",
   "nbconvert_exporter": "python",
   "pygments_lexer": "ipython3",
   "version": "3.12.7"
  }
 },
 "nbformat": 4,
 "nbformat_minor": 5
}
