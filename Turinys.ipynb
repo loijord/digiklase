{
 "cells": [
  {
   "cell_type": "markdown",
   "id": "a63e66b6-09cf-4361-8ffd-f9e526fcffc7",
   "metadata": {},
   "source": [
    "## [5 klasė](5%20klasė/testai.ipynb)\n",
    "* Veiksmai su natūraliaisiais skaičiais ★☆☆\n",
    "* Matavimo vienetai ★☆☆\n",
    "* Laikrodis ir kampai ★★☆\n",
    "* Trikampiai ir keturkampiai ★★☆\n",
    "* Figūrų plotai ★★☆\n",
    "* Lygtys ir reiškiniai ★★☆\n",
    "* Trupmenos ir procentai ★☆☆\n",
    "* Dešimtainės trupmenos ★☆☆\n",
    "* Penktos klasės kartojimas ★☆☆\n",
    "* Penktos klasės kartojimas ★★☆\n",
    "* Penktos klasės kartojimas ★★★"
   ]
  },
  {
   "cell_type": "code",
   "execution_count": null,
   "id": "117e3571-82cb-43c5-a251-f4124e587e9c",
   "metadata": {},
   "outputs": [],
   "source": []
  }
 ],
 "metadata": {
  "kernelspec": {
   "display_name": "Python 3 (ipykernel)",
   "language": "python",
   "name": "python3"
  },
  "language_info": {
   "codemirror_mode": {
    "name": "ipython",
    "version": 3
   },
   "file_extension": ".py",
   "mimetype": "text/x-python",
   "name": "python",
   "nbconvert_exporter": "python",
   "pygments_lexer": "ipython3",
   "version": "3.12.7"
  }
 },
 "nbformat": 4,
 "nbformat_minor": 5
}
