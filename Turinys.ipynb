{
 "cells": [
  {
   "cell_type": "markdown",
   "id": "0d27861e-d23c-40a9-a678-60c6ec6272c8",
   "metadata": {},
   "source": [
    "Uždaviniai 4 - 9 klasių temoms (vėliau bus pridėtos 10 - 12kl.)\n",
    "* [4 klasė](Ematematikas/4%20klasė/testai.ipynb)\n",
    "* [5 klasė](Ematematikas/5%20klasė/testai.ipynb)\n",
    "* [6 klasė](Ematematikas/6%20klasė/testai.ipynb)\n",
    "* [7 klasė](Ematematikas/7%20klasė/testai.ipynb)\n",
    "* [8 klasė](Ematematikas/8%20klasė/testai.ipynb)\n",
    "* [9 klasė](Ematematikas/9%20klasė/testai.ipynb)\n",
    "\n",
    "PUPP 2025m. pasiruošimas.\n",
    "\n",
    "* ?\n",
    "* !"
   ]
  },
  {
   "cell_type": "code",
   "execution_count": null,
   "id": "a54c8224-847b-4414-9603-2d0655bc1f78",
   "metadata": {},
   "outputs": [],
   "source": []
  }
 ],
 "metadata": {
  "kernelspec": {
   "display_name": "Python 3 (ipykernel)",
   "language": "python",
   "name": "python3"
  },
  "language_info": {
   "codemirror_mode": {
    "name": "ipython",
    "version": 3
   },
   "file_extension": ".py",
   "mimetype": "text/x-python",
   "name": "python",
   "nbconvert_exporter": "python",
   "pygments_lexer": "ipython3",
   "version": "3.12.7"
  }
 },
 "nbformat": 4,
 "nbformat_minor": 5
}
