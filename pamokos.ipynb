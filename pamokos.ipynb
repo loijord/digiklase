{
 "cells": [
  {
   "cell_type": "markdown",
   "id": "c5cad482-bf4d-405b-a611-e06909d9de69",
   "metadata": {},
   "source": [
    "# Ievos pamokos\n",
    "## Pamoka 1\n",
    "### Pavyzdys 0\n",
    "Kaip sudauginti $5\\cdot \\frac{1}{3}$?\n",
    "### Simono sprendimas\n",
    "$\\displaystyle 5\\cdot \\frac{1}{3} = \\frac{5\\cdot 1}{3} = \\frac{5}{3}$\n",
    "### Ievos sprendimas\n",
    "$\\displaystyle 5\\cdot \\frac{1}{3} = \\frac{5}{1} \\cdot \\frac{1}{3} = \\frac{5}{3}$\n",
    "\n",
    "Čia viskas OK, tik norėjau parodyti, kad senesnė programa ne tik, kad nesiūlydavo daryti automatiškai $5$ verčiant į $\\frac{5}{1}$, bet ir siūlydavo ir greitesnį, ir turintį asociacijų su kartotinumu būdą. \n",
    "\n",
    "### Pavyzdys 1\n",
    "Išspręsti sistemą: $\\displaystyle \\begin{cases}x + \\frac{3}{5}y = 9 \\\\ x-y = 10\\end{cases}$ \n",
    "### Simono sprendimas 1 \n",
    "* $\\displaystyle \\begin{cases}x + \\frac{3}{5}y = 9 \\\\ x-y = 10\\end{cases}$ \n",
    "* Pagal antrą lygtį rasti $y$ išraišką: \n",
    "$\\boxed{x-y = 10} \\Leftrightarrow \\boxed{y = x - 10}$  \n",
    "* Pagal pirmą lygtį rasti $x$:\n",
    "    * Įstatyti gautą išraišką $\\boxed{y = x - 10}$ į pirmą lygtį:  \n",
    "      $\\boxed{x + \\frac{3}{5}y = 9} \\Leftrightarrow \\boxed{x + \\frac{3}{5}\\left(x - 10\\right) = 9}$  \n",
    "    * Išspręsti gautą lygtį  \n",
    "      $\\boxed{x + \\frac{3}{5}\\left(x - 10\\right) = 9} \\Leftrightarrow \\boxed{x = \\frac{75}{8}}$\n",
    " Remiantis gauta išraiška apskaičiuoti $y$ reikšmę:  \n",
    "$\\displaystyle y = \\frac{75}{8} - 10 = \\frac{75}{8} - \\frac{80}{8} = -\\frac{5}{8}$\n",
    "\n",
    "### Ievos sprendimas\n",
    "$\\displaystyle \\begin{cases}x + \\frac{3}{5}y = 9 \\\\ x-y = 10\\end{cases}$ \n",
    "* $\\boxed{x-y = 10} \\Leftrightarrow \\boxed{-y = 10 - x} \\Leftrightarrow \\boxed{y = - 10 + x}$  <font color='green'>GERAI!</font>\n",
    "* $\\boxed{x + \\frac{3}{5}y = 9} \\Leftrightarrow \\boxed{x + \\frac{3}{5}\\left(x - 10\\right) = 9}$ <font color='green'>GERAI!</font>\n",
    "* $\\boxed{x + \\frac{3}{5}(- 10 + x) = 9} \\Leftrightarrow \\boxed{x +\\left(-\\frac{30}{5}\\right) + \\frac{3}{5}x - 9 = 0} \\Leftrightarrow \\boxed{{\\huge{2}}\\frac{3}{5}x - 6 - 9 = 0}$ <font color='RED'>KLAIDA!</font>\n",
    "* Pataisius klaidą: $\\boxed{{\\huge{1}}\\frac{3}{5}x - 6 - 9 = 0} = \\boxed{\\frac{8}{5}x - 15 = 0} \\Leftrightarrow \\boxed{\\frac{8}{5}x = 15} \\Leftrightarrow \\boxed{x = 15\\cdot \\frac{5}{8}} \\Leftrightarrow \\boxed{x = \\frac{75}{8}}$\n",
    "* Nepataisius klaidos: $\\boxed{{\\huge{2}}\\frac{3}{5}x - 6 - 9 = 0} = \\boxed{\\frac{13}{5}x - 15 = 0} \\Leftrightarrow \\boxed{\\frac{13}{5}x = 15} = \\boxed{x = 15\\cdot \\frac{5}{13}} \\Leftrightarrow \\boxed{x = \\frac{75}{13}}$\n",
    "* $\\displaystyle y = - 10 + x = -10 + \\frac{75}{13} = {\\huge{5}}\\frac{10}{13} - 10 = -{\\huge{5}}\\frac{10}{13}$ <font color='RED'>DAR VIENA KLAIDA!</font>"
   ]
  },
  {
   "cell_type": "markdown",
   "id": "dd21ebcd-a9c5-42e6-a244-8ad664710d02",
   "metadata": {},
   "source": [
    "### Pavyzdys 2\n",
    "Išspręsti sistemą $\\begin{cases}x + 2y = 9\\\\2x + y = 6 \\end{cases}$ sudėties būdu\n",
    "\n",
    "### Ievos sprendimas\n",
    "$\\begin{cases}x + 2y = 9\\,|\\cdot (-2)\\\\2x + y = 6 \\end{cases} \\Leftrightarrow \\begin{cases}-2x - 4y = -18\\,|\\cdot (-2)\\\\2x + y = 6 \\end{cases}$ ir toliau sudedant kažkas nesigauna, lyg $-3y = -18$ <font color='red'>KLAIDA!</font>"
   ]
  },
  {
   "cell_type": "markdown",
   "id": "5406e964-c229-4e5f-a6fd-b913973b8bde",
   "metadata": {},
   "source": [
    "## Pamoka 2"
   ]
  },
  {
   "cell_type": "markdown",
   "id": "e655e4a0-adb5-45b9-b6ef-7e3eae2ee62a",
   "metadata": {},
   "source": [
    "### Apie kontrolinio darbo laiko paskirstymą uždaviniams.\n",
    "Tarkime kontrolinį sudaro 4 uždaviniai vertinami šitaip:\n",
    "* 4t\n",
    "* 2t\n",
    "* 3t\n",
    "  * 1t\n",
    "  * 2t\n",
    "* 3t\n",
    "\n",
    "Kiek minučių tikėtumėtės susiplanuuot spręsti kiekvieną uždavinį?"
   ]
  },
  {
   "cell_type": "markdown",
   "id": "fcd0f599-7e21-40dd-9876-fb8c8ba6e559",
   "metadata": {},
   "source": [
    "### Apie lygčių sistemas\n",
    "Dvi sistemos laikomos ekvivakenčiomis, jei galioja su tomis pačiomis nežinomųjų reikšmėmis\n",
    "\n",
    "### Pavyzdys 1.\n",
    "Sistema $\\begin{cases}x + 2y = 9\\\\2x + y = 6 \\end{cases}$\n",
    "\n",
    "Jei abejas lygtis sudedame, tai gauname lygybę $3x + 3y = 15$. Ši lygtis yra pirmos ir antros lygčių išvada. Vadinasi toliau spręsti teisinga būtų pagal abu variantus:\n",
    "\n",
    "$$\\begin{cases}x + 2y = 9\\\\2x + y = 6 \\end{cases} \\Leftrightarrow \\begin{cases}x + 2y = 9\\\\3x + 3y = 15 \\end{cases}$$\n",
    "\n",
    "ir \n",
    "\n",
    "$$\\begin{cases}x + 2y = 9\\\\2x + y = 6 \\end{cases} \\Leftrightarrow \\begin{cases}3x + 3y = 15\\\\2x + y = 6 \\end{cases}$$\n",
    "\n",
    "Pasirenkame, kuris variantas patogesnis. Abiem atvejais gausime tuos pačius sprendinius. Pastaba: šitokiu būdu vieną sistemą keisti kita gal būt nėra optimaliausias sprendimo metodas, tik tiek, kad išlaikomas ekvivalentumas (sprendiniai išlieka vienodi visais atvejais)"
   ]
  },
  {
   "cell_type": "markdown",
   "id": "a727b1e3-74e6-408a-8c41-acce118774d0",
   "metadata": {},
   "source": [
    "### Apie tai, kas yra lygčių sistema\n",
    "* **Lygčių sistema** - tai lygčių rinkinys, galiojantis su tam tikromis nežinomųjų reiškėmis\n",
    "* **Lygtis** - tai lygybė, kurioje įprasta ieškoti, su kuriomis nežinomųjų reikšmėmis ji tampa teisinga skaitine lygybe\n",
    "* **Skaitinė lygybė** - lygybė, kurioje palyginami du kintamųjų ar nežinomųjų neturintys reiškiniai\n",
    "* **Nežinomasis** - tai kintamasis, kurio ieškome\n",
    "* **Lygybė** - tai teiginys, parodantis, kad du reiškiniai yra lygūs\n",
    "* **Reiškinys** - tai frazė, sudaryta iš skaičių, kintamųjų, aritmetinių operacijų, skliaustų, funkcijų ir kitų prasmingų matematinių žymėjimų"
   ]
  },
  {
   "cell_type": "markdown",
   "id": "22e55804-e253-4b97-b0f5-f3ef7ec8556d",
   "metadata": {},
   "source": [
    "### Apie dauginamojo iškėlimą prieš šaknį\n",
    "\n",
    "Jei $a \\ge 0$ ir $b\\ge 0$, tai yra būdai, kaip iškelti dauginamąjį prieš šaknies ženklą reiškinyje $\\sqrt{a^2b}$:\n",
    "1. Remtis taisykle $$\\sqrt{a^2b} = a\\sqrt{b}$$\n",
    "2. Remtis taisyklės loginiu pagrindu. Loginis pagrindas - tai dažniausiai esminė vieta, kurios pristinga, kad būtų suprastas taisyklės veikimas arba uždavinio sprendimas. Šiuo atveju taisyklė grindžiama tuo, kad galima šaknį parašyti dviejų šaknų sandauga:\n",
    "    $$\\sqrt{a^2b} = \\sqrt{a^2}\\sqrt{b} = a\\sqrt{b}$$\n",
    "\n",
    "### Pavyzdys 2.\n",
    "Iškelti dauginamąjį prieš šaknies ženklą reiškinyje $\\sqrt{45}$\n",
    "#### Pirmas sprendimo būdas\n",
    "Pagal taisyklę: formulėje $\\sqrt{a^2b} = a\\sqrt{b}$ vietoj kintamųjų paimami skaičiai 9 ir 5:\n",
    "$$\\sqrt{45} = \\sqrt{9 \\cdot 5} = 3\\sqrt{5}$$\n",
    "#### Antras sprendimo būdas\n",
    "Pagal loginį pagrindą. Panašiai atkartojamas anksčiau minėtas procesas, kur reikia šaknį parašyti dviejų šaknų sandauga:\n",
    "$$\\sqrt{45} = \\sqrt{9 \\cdot 5} = \\sqrt{9} \\sqrt {5} = 3\\sqrt{5}$$\n",
    "\n",
    "#### Išvados\n",
    "Jei taisyklė paaiškinama pakankamai nesudėtingu loginiu pagrindu, tai pravartu sprendime remtis ne taisykle, o jos loginiu pagrindu. Nors ir sprendimas yra ilgesnis, bet tai geriau padeda atkurti taisyklę atmintyje. \n",
    "\n",
    "Be to, galima net gi užrašyti, kaip atrodo sprendimo strūktūra. Antrą žingsnį sudaro du požingsniai:\n",
    "\n",
    "* Išskaidyti dauginamaisiais 45\n",
    "* Iškelti dauginamąjį 9 prieš šaknies ženklą\n",
    "  * $\\sqrt{9 \\cdot 5}$ parašyti kaip dviejų šaknų sandaugą\n",
    "  * Apskaičiuoti $\\sqrt{9}$"
   ]
  },
  {
   "cell_type": "markdown",
   "id": "a17a9953-f800-4b69-8e8f-cdff3b37f267",
   "metadata": {},
   "source": [
    "## Pamoka 3\n",
    "Skirta nagrinėti tekstiniams uždaviniams, kuriuose reikia įvesti nežinomuosius. Štai kaip galėtų atrodyti tekstinio uždavinio sprendimo struktūra:\n",
    "\n",
    "* **[ * ]** Pažymime norimus dydžius nežinomaisiais arba kitais raidiniais reiškinias, užsirašome teiginius, kuriuose įvardijama, kas būtent taip yra žymima\n",
    "* Pilnai išnaudojame likusias iš tekstinio uždavinio konteksto aiškias sąlygas:\n",
    "  * **[ ** ]** sudarome lygtį arba lygčių sistemą\n",
    "  * **[ *** ]** išsprendžiame gautą lygtį arba lygčių sistemą\n",
    "* Gavę sprendinius grįžtame prie užrašytų teiginių ir juose apskaičiuojame užrašytų reiškinių skaitines reikšmes\n",
    "* Jei reikia, randame kita, ko stinga pilnam atsakymui\n",
    "\n",
    "**Kaip gerai atlikti [*]?** Ieškoti sąlygoje žodžių *daugiau* kažkuo, *mažiau* kažkuo, *suma*, *skirtumas*, *santykis* ir pan. Jeigu pvz.: nurodyta, kad vienas dydis už kitą mažesnis 3 vienetais, tai šiai sąlygai panaudoti pilnai pakanka įvesti žymėjimus:\n",
    "$$\\begin{cases} x - 3\\text{ vienas dydis}\\\\ x \\text{ kitas dydis}\\end{cases} \\text{ arba } \n",
    "\\begin{cases} x \\text{ vienas dydis}\\\\ x+3 \\text{ kitas dydis}\\end{cases}$$\n",
    "\n",
    "**Kaip gerai atlikti [ ** ]?** Lygtys arba lygčių sistemose dažniausiai sudaromos išnaudojant likusias (sudėtingesnes) sąlygas, kuriose:\n",
    "* Reikia žinoti papildomą kontekstą, pvz.:\n",
    "    * Stačiakampio ploto formulė $S=ab$\n",
    "    * Pitagoro teorema $a^2+b^2=c^2$\n",
    "    * Greičio, kelio ir laiko priklausomybė $s=vt$\n",
    "* Nereikia papildomo konteksto, sąryšis nurodomas uždavinyje, pvz.:\n",
    "    * Žinoma dviejų pirkinių bendra kaina (tada suma lygi kažkam duotam)\n",
    "    * Žinoma kad kino teatro salėje žmonės sėdi eilėmis po kažkiek (tada eilių ir vietų eilėje sandauga bus lygi kažkam duotam) ir t.t.\n",
    "      \n",
    "**Kaip gerai atlikti [ *** ]?** Lygtis spręsti jau mokam, o, jei gaunasi dviejų lygčių sistema, tai galime iš pirmos pamokos prisiminti, kaip galėtų atrodyti jos sprendimo požingsniai:\n",
    "\n",
    "* Pagal vieną lygtį rasti pasirinkto nežinomojo (tarkime $y$) išraišką likusio nežinomojo (tarkime $x$) atžvilgiu\n",
    "* Pagal kitą lygtį rasti likusio nežinomojo $x$ reikšmę tokiu būdu:\n",
    "    * Įstatyti gautą $y$ išraišką į tą lygtį ir išvesti naują lygtį, turinčią tik vieną nežinomąjį $x$\n",
    "    * Išspręsti šią lygtį. \n",
    "* Užrašytoje $y$ išraiškoje nežinomojo $x$ atžvilgiu įstačius gautą $x$ reikšmę rasti $y$ reikšmę \n",
    "\n",
    "\n"
   ]
  },
  {
   "cell_type": "markdown",
   "id": "83f1cb54-7ef3-408c-bee1-0f031e60ac32",
   "metadata": {},
   "source": [
    "### Pavyzdys 1. \n",
    "Stačiojo trikampio įžambinė lygi 25, o vienas statinis didesnis už kitą 17. Rasti trikampio plotą.\n",
    "\n",
    "#### Sprendimas\n",
    "**[ * ]** **didesnis už kitą 17**. Tegu $\\begin{cases}x + 17 \\text{ - vienas statinis}\\\\ x \\text{ - kitas statinis}\\end{cases}$  \n",
    "**[ ** ]** **Du statiniai ir įžambinė - reikės taikyti Pitagoro teoremą.** Sudarome lygtį $\\boxed{x^2 + (x+17)^2 = 25^2}$  \n",
    "**[ *** ]** Išsprendžiame lygtį: $\\boxed{x^2 + (x+17)^2 = 25^2} \\Leftrightarrow \\boxed{x=7}$  \n",
    "Grįžtame prie pradinio teiginio: $\\begin{cases}24 \\text{ - vienas statinis}\\\\ 7 \\text{ - kitas statinis}\\end{cases}$  \n",
    "Atsakymui stinga rasti trikampio plotą. Atsakymas: $\\displaystyle \\frac{7 \\cdot 24}{2} = 84$"
   ]
  },
  {
   "cell_type": "markdown",
   "id": "3daac13c-524e-4759-bee3-073512974464",
   "metadata": {},
   "source": [
    "### Pavyzdys 2. \n",
    "Tarp vietovių 24km. Dviratininkai, išvažiavę iš tų vietovių, susitiko pusiaukelėje. Pirmasis išvažiavo 20 min anksčiau, bet mynė 6km/h lėčiau. Rasti dviratininkų greičius\n",
    "\n",
    "#### Sprendimas\n",
    "**[ * ]** Nesudėtingos sąlygos, padėsiančios apsispręsti dėl žymėjimų:\n",
    "* **20 min anksčiau**  \n",
    "* **6km/h lėčiau**  \n",
    "* **pusiaukelė** - lygūs įveikti keliai   \n",
    "* **Tarp vietovių 24km** - visas kelias 24km\n",
    "  \n",
    "Judėjimo uždaviniuose patariu kiekvienam iš judančių objektų užrašyti lygybes $s_1 = v_1t_1$, $s_2 = v_2t_2$ ir t.t. Šiame uždavinyje pusiaukelė tarp vietovių reiškia, kad kiekvienas įveikė po 12km. Kad būtų aiškiau, pavaizduokim visų žymėjimų paaiškinimus lentele. Bendru atveju:\n",
    "\n",
    "$$\\begin{array}{r|c|c}&\\text{pirmo dviratininko}&\\text{antro dviratininko} \\\\ \\hline \\text{kelias}&s_1&s_2 \\\\ \\text{greitis}&v_1&v_2 \\\\ \\text{laikas}&t_1&t_2 \\end{array}$$\n",
    "\n",
    "Mūsų atveju:\n",
    "\n",
    "$$\\begin{array}{r|c|c}&\\text{pirmo dviratininko}&\\text{antro dviratininko} \\\\ \\hline \\text{kelias}&12&12 \\\\ \\text{greitis}&v&v+6 \\\\ \\text{laikas}&t&t-1/3 \\end{array}$$\n",
    "\n",
    "**[ ** ]** Sudarome lygčių sistemą: $$\\begin{cases} 12 = vt \\\\ 12 = (v+6)(t-1/3) \\end{cases}$$\n",
    "\n",
    "**[ *** ]** Sprendžiame:\n",
    "\n",
    "* $\\boxed{12 = vt} \\Leftrightarrow \\boxed{\\Leftrightarrow \\boxed{v=\\frac{12}{t}}}$\n",
    "* $\\begin{align}\n",
    "\\boxed{12 = \\left(\\frac{12}{t}+6\\right)\\left(t-\\frac{1}{3}\\right)} \\Leftrightarrow \\boxed{12+6t -\\frac{12}{3t}-2-12=0} &\\xLeftrightarrow{\\color{red}{\\text{KLAIDA!}}}\\boxed{\\frac{18t^2 -12}{3t}-14=0 \\quad|\\cdot 3t}\\\\\n",
    "&\\xLeftrightarrow{\\color{green}{\\text{ŠITAIP}}}\\boxed{\\frac{18t^2 -12}{3t}-2=0 \\quad|\\cdot 3t}\\Leftrightarrow \\boxed{18t^2 -12-6t=0 \\quad|: 6} \\Leftrightarrow \\boxed{3t^2-t-2=0} \\end{align}$  \n",
    "  $\\quad \\color{orange}{\\text{KAIP UŽBAIGTI?}}$\n",
    "\n",
    "  Taip pat duosiu minčių, kaip galima truputį greičiau spręsti:  \n",
    "$\\boxed{12 = \\left(\\frac{12}{t}+6\\right)\\left(t-\\frac{1}{3}\\right)\\quad|\\cdot 3t} \\xleftrightarrow{\\begin{array}{ll}\\text{pirmą dauginamąjį dauginti iš t}\\\\ \\text{antrą dauginamąjį dauginti iš 3}\\end{array}} \\boxed{36t = \\left(12+6t\\right)\\left(3t-1\\right)\\quad|:6} \\Leftrightarrow \\boxed{6t = \\left(2+t\\right)\\left(3t-1\\right)} \\Leftrightarrow \\boxed{3t^2-t-2=0}$\n",
    "\n",
    "Gavome $t=1$(h).  \n",
    "Tada $v=\\frac{12}{1} = 12$(km/h)  \n",
    "$v+6=18$(km/h).  \n",
    "Ats.: 12km/h ir 18km/h.\n"
   ]
  },
  {
   "cell_type": "markdown",
   "id": "e845a776-14f5-4b8d-9703-08750808aecf",
   "metadata": {},
   "source": [
    "### Pavyzdys 3.\n",
    "Dvi buhalterės dirbdamos kartu firmos mokesčių deklaracijas paruošia per 12 darbo dienų. Jei pusę deklaracijų paruoštų pirmoji, o tada likusią pusę ruoštų antroji, tai jos užtruktų 25 darbo dienas. Per kiek darbo dienų darbą atlieka kiekviena iš jų?"
   ]
  },
  {
   "cell_type": "markdown",
   "id": "ca738b70-709f-4af3-b0a2-e57e8c27abfb",
   "metadata": {},
   "source": [
    "* x - kiek dienų trunka pirmai buhalterei atlikti darbą\n",
    "* y - kiek dienų trunka antrai buhalterei atlikti darbą\n",
    "* 1/x - kiek darbo per dieną atlieka pirma buhalterė\n",
    "* 1/y - kiek darbo per dieną atlieka antra buhalterė\n",
    "\n",
    "Darbo dalys, atliktos per dieną, yra sudedamos, tuomet gaunasi, kiek per dieną yra darbo atlikta dirbant dviese.  \n",
    "Duota: dirbant kartu per dieną atliekama 1/12 darbo"
   ]
  },
  {
   "cell_type": "markdown",
   "id": "c9603358-861d-48fb-8833-912be1451dc2",
   "metadata": {},
   "source": [
    "## Pamoka 4"
   ]
  },
  {
   "cell_type": "markdown",
   "id": "5216815d-ffe4-446d-b7b1-23f97af72a1c",
   "metadata": {},
   "source": [
    "### Pavyzdys 1\n",
    "\n",
    "Žanetos greitis 2.5km didesnis už Aistės greitį. Jos abi treniruojasi bėgiodamos ilgus atstumus. Per vieną treniruotę Aistė nubėgo 12km atstumą 24min greičiau negu Žaneta 20km. Rasti Aistės greitį.\n",
    "\n",
    "\n",
    "\n",
    "#### Sprendimas.\n",
    "Bendra schema:\n",
    "\n",
    "$$\\begin{array}{r|c|c}&\\text{Aistės}&\\text{Žanetos} \\\\ \\hline \\text{kelias}&s_1&s_2 \\\\ \\text{greitis}&v_1&v_2 \\\\ \\text{laikas}&t_1&t_2 \\end{array}$$\n",
    "\n",
    "Mūsų atveju:\n",
    "\n",
    "$$\\begin{array}{r|c|c}&\\text{Aistės}&\\text{Žanetos} \\\\ \\hline \\text{kelias}&12&20 \\\\ \\text{greitis}&v&v+2.5 \\\\ \\text{laikas}&t&t+0.4 \\end{array}$$"
   ]
  },
  {
   "cell_type": "markdown",
   "id": "5a610d0d-1dfc-40b3-b961-2ca5a086c92f",
   "metadata": {},
   "source": [
    "Sudarytoje lentelę galime interpretuoti kaip lygčių sistemą remdamiesi formule $s = vt$:\n",
    "\n",
    "$$\\begin{cases}12 = vt \\\\ 20 = (v+2.5)(t+0.4) \\end{cases}$$\n"
   ]
  },
  {
   "cell_type": "markdown",
   "id": "d9c40ddb-f677-4270-81e4-eb95b7a82360",
   "metadata": {},
   "source": [
    "Toliau yra 4 sprendimo būdai:\n",
    "\n",
    "* **Pirmas būdas.** Nežinomąjį $t$ išreikšti iš pirmos lygties ir įrašyti į antrą\n",
    "* **Antras būdas.** Nežinomąjį $v$ išreikšti iš pirmos lygties ir įrašyti į antrą\n",
    "* **Trečias būdas.** Nežinomąjį $t$ išreikšti iš antros lygties ir įrašyti į pirmą\n",
    "* **Ketvirtas būdas.** Nežinomąjį $v$ išreikšti iš antros lygties ir įrašyti į pirmą\n",
    "\n",
    "Sudėtingesnėse sistemose ne visuomet suveikia kiekvienas iš būdų, nes gali gautis lygtys, kurias per sudėtinga išspręsti. Tokiose lygtyse gali atsirasti trupmeniniai reiškiniai, kurie duoda aukštesnio laipsnio lygtis, nei kvadratinės. Panagrinėsim, kokios lygtys gaunasi kiekvienu iš atvejų:\n",
    "\n",
    "**Pirmas būdas**\n",
    "\n",
    "$$\\begin{cases}\\boxed{12 = vt} \\xLeftrightarrow{\\phantom{xxxxxxxxxx}} \\boxed{t = \\frac{12}{v}} \\\\ \\boxed{20 = (v+2.5)(t+0.4)}\\xLeftrightarrow{\\downarrow}{\\boxed{20 = (v+2.5)\\left(\\frac{12}{v}+0.4\\right)}}\\end{cases}$$\n",
    "\n",
    "Iš gautos lygties:\n",
    "$$\\begin{equation}\\begin{split}\n",
    "20 &= (v+2.5)\\left(\\frac{12}{v}+0.4\\right)\\\\\n",
    "20 &= (v+2.5)\\left(\\frac{12}{v}+\\frac{0.4v}{v}\\right)\\\\\n",
    "20 &= (v+2.5)\\left(\\frac{12+0.4v}{v}\\right)|\\times v \\\\\n",
    "20v &= (v+2.5)(12+0.4v) \\\\\n",
    "20v &= 12v+30+0.4v^2+v \\\\\n",
    "0.4v^2 &- 7v + 30 = 0 |\\times 5 \\\\\n",
    "2v^2 &- 35v + 150 = 0 \\\\\n",
    "v &= \\frac{35 \\pm \\sqrt{35^2 - 4\\cdot 2 \\cdot 150}}{2\\cdot 2} =\\frac{35 \\pm \\sqrt{1225 - 1200}}{4} = \n",
    "\\frac{35 \\pm 5}{4} \\\\\n",
    "v_1 &= 7.5, \\quad v_2 = 10\n",
    "\\end{split}\\end{equation} \\\\\n",
    "$$"
   ]
  },
  {
   "cell_type": "markdown",
   "id": "1fdc07b1-5c0a-45b3-b026-5379e9f6fdcd",
   "metadata": {},
   "source": [
    "**Antras būdas**\n",
    "\n",
    "$$\\begin{cases}\\boxed{12 = vt} \\xLeftrightarrow{\\phantom{xxxxxxxxxx}} \\boxed{v = \\frac{12}{t}} \\\\ \\boxed{20 = (v+2.5)(t+0.4)}\\xLeftrightarrow{\\downarrow}{\\boxed{20 = (\\frac{12}{t}+2.5)\\left(t+0.4\\right)}}\\end{cases}$$\n",
    "\n",
    "Iš gautos lygties:\n",
    "$$\\begin{equation}\\begin{split}\n",
    "20 &= \\left(\\frac{12}{t}+2.5\\right)(t+0.4)\\\\\n",
    "20 &= \\left(\\frac{12}{t}+\\frac{2.5t}{t}\\right)(t+0.4)\\\\\n",
    "20 &= \\left(\\frac{12+2.5t}{t}\\right)(t+0.4)|\\times t \\\\\n",
    "20t &= (12+2.5t)(t+0.4) \\\\\n",
    "20t &= 12t+4.8+2.5t^2+t \\\\\n",
    "2.5t^2 &- 7t + 4.8 = 0 |\\times 10 \\\\\n",
    "25t^2 &- 70t + 48 = 0 \\\\\n",
    "t &= \\frac{70 \\pm \\sqrt{70^2 - 4\\cdot 25 \\cdot 48}}{2\\cdot 25} =\\frac{70 \\pm \\sqrt{4900 - 4800}}{50} = \n",
    "\\frac{70 \\pm 10}{50} \\\\\n",
    "t_1 &= 1.2, \\quad t_2 = 1.6\n",
    "\\end{split}\\end{equation} \\\\\n",
    "$$\n",
    "Tuomet:\n",
    "$$v_1 = \\frac{12}{t_1} = 10, \\quad v_2 = \\frac{12}{t_2} = 7.5$$"
   ]
  },
  {
   "cell_type": "markdown",
   "id": "3743c51d-4ea2-4653-9020-9b2015871d66",
   "metadata": {},
   "source": [
    "**Trečias būdas**\n",
    "$$\\begin{cases}\\boxed{12 = vt}\\xLeftrightarrow[\\phantom{xxxxxxxxxxxxxxxxxxxxx}\\uparrow\\phantom{xx}]{} \n",
    "\\boxed{12 = v\\left(\\frac{20}{v+2.5} - 0.4\\right)}\\\\ \n",
    "\\boxed{20 = (v+2.5)(t+0.4)}\\Leftrightarrow \\boxed{t = \\frac{20}{v+2.5} - 0.4}\\end{cases}$$\n",
    "Iš gautos lygties:\n",
    "$$\\begin{equation}\\begin{split}\n",
    "12 &= v\\left(\\frac{20}{v+2.5} - 0.4\\right)\\\\\n",
    "12 &= v\\left(\\frac{20}{v+2.5} - \\frac{0.4(v+2.5)}{v+2.5}\\right)\\\\ \n",
    "12 &= v\\left(\\frac{20-0.4(v+2.5)}{v+2.5}\\right)|\\cdot (v+2.5)\\\\\n",
    "12(v+2.5) &= v\\left(20-0.4(v+2.5)\\right)\\\\\n",
    "12v + 30 &= v(19 - 0.4v) \\\\\n",
    "12v + 30 &= 19v - 0.4v^2 \\\\\n",
    "0.4v^2 - 7v + 30 &= 0\n",
    "\\end{split}\\end{equation}\n",
    "$$\n",
    "Toliau sprendimo eiga nesikeičia nuo pirmo būdo"
   ]
  },
  {
   "cell_type": "markdown",
   "id": "cf0f83b3-172c-4f10-b42c-b21df40101ee",
   "metadata": {},
   "source": [
    "**Ketvirtas būdas**\n",
    "\n",
    "$$\\begin{cases}\\boxed{12 = vt}\\xLeftrightarrow[\\phantom{xxxxxxxxxxxxxxxxxxxxx}\\uparrow\\phantom{xx}]{} \n",
    "\\boxed{12 = t\\left(\\frac{20}{t+0.4} - 2.5\\right)}\\\\ \n",
    "\\boxed{20 = (v+2.5)(t+0.4)}\\Leftrightarrow \\boxed{v = \\frac{20}{t+0.4} - 2.5}\\end{cases}$$\n",
    "Iš gautos lygties:\n",
    "$$\\begin{equation}\\begin{split}\n",
    "12 &= t\\left(\\frac{20}{t+0.4} - 2.5\\right)\\\\\n",
    "12 &= t\\left(\\frac{20}{t+0.4} - \\frac{2.5(t+0.4)}{t+0.4}\\right)\\\\ \n",
    "12 &= t\\left(\\frac{20-2.5(t+0.4)}{t+0.4}\\right)|\\cdot (t+0.4)\\\\\n",
    "12(t+0.4) &= t\\left(20-2.5(t+0.4)\\right)\\\\\n",
    "12t + 4.8 &= t(20 - 2.5t-1) \\\\\n",
    "12t + 4.8 &= 19t - 2.5t^2 \\\\\n",
    "2.5t^2 - 7t + 4.8 &= 0\n",
    "\\end{split}\\end{equation}\n",
    "$$\n",
    "Toliau sprendimo eiga beveik nesikeičia nuo antro būdo, tik uždavinio gale surastas $t$ reikšmes teks įrašyti į šiek tiek sudėtingesnę išraišką: $\\boxed{v = \\frac{20}{t+0.4} - 2.5}$"
   ]
  },
  {
   "cell_type": "markdown",
   "id": "5b2d1dc4-a22f-45fc-bc7a-db4d6c2df4b6",
   "metadata": {},
   "source": [
    "### Košmaras! Ar tikrai nėra lengvesnių būdų išspręsti sistemą?\n",
    "Štai:"
   ]
  },
  {
   "cell_type": "markdown",
   "id": "02bc8f76-0e67-4c54-be38-aa8f66aaa850",
   "metadata": {},
   "source": [
    "$$\\begin{cases}\\boxed{12 = vt}\\xLeftrightarrow{\\phantom{xxxxxxxxxxxxxxxxxxxxxxxxxxxxxxxxxxxxxxxxxx}}\\boxed{12 = vt}\\\\ \n",
    "\\boxed{20 = (v+2.5)(t+0.4)}\\Leftrightarrow \\boxed{20 = vt + 2.5t + 0.4v + 1}\\xLeftrightarrow{\\downarrow} \\boxed{20 = 12 + 2.5t + 0.4v + 1}\\end{cases} \\Leftrightarrow \\begin{cases}\\boxed{12 = vt} \\\\ \\boxed{7 = 2.5t + 0.4v} \\end{cases}$$"
   ]
  },
  {
   "cell_type": "markdown",
   "id": "7eb87e95-9ab3-4232-899c-2666dd9bd625",
   "metadata": {},
   "source": [
    "Toliau vėl įvertinsime, kiek sudėtingi yra visi standartiniai sprendimo variantai:"
   ]
  },
  {
   "cell_type": "markdown",
   "id": "21a55460-e3f5-4091-ab05-d4534c2d64b8",
   "metadata": {},
   "source": [
    "**Pirmas**  \n",
    "$\\begin{cases}\\boxed{12 = vt}\\Leftrightarrow \\boxed{v = \\frac{12}{t}}\\\\ \\boxed{7 = 2.5t + 0.4v}\\xLeftrightarrow{\\downarrow}\\boxed{7 = 2.5t + 0.4\\cdot \\frac{12}{t}}\\Leftrightarrow \\boxed{7 = \\frac{2.5t^2}{t} + \\frac{4.8}{t}} \\Leftrightarrow \\boxed{7 = \\frac{2.5t^2+4.8}{t}}\\Leftrightarrow \\boxed{7t = 2.5t^2+4.8}\\Leftrightarrow \\boxed{2.5t^2-7t+4.8=0}\\end{cases}$  \n",
    "**Antras**  \n",
    "$\\begin{cases}\\boxed{12 = vt}\\Leftrightarrow \\boxed{t = \\frac{12}{v}}\\\\ \\boxed{7 = 2.5t + 0.4v}\\xLeftrightarrow{\\downarrow}\\boxed{7 = 2.5\\cdot \\frac{12}{v}+ 0.4v}\\Leftrightarrow \\boxed{7 = \\frac{30}{v} + \\frac{0.4v^2}{v}} \\Leftrightarrow \\boxed{7 = \\frac{0.4v^2+30}{v}}\\Leftrightarrow \\boxed{7v = 0.4v^2+30}\\Leftrightarrow \\boxed{0.4v^2-7v+30=0}\\end{cases}$  \n",
    "**Trečias**  \n",
    "$\\begin{cases}\\boxed{12 = vt}\\xLeftrightarrow[\\phantom{xxxxxxxxxxxxxxxxxxxxxxxxxxxxxxxxxxxxxxxxxxxxxxxx}\\uparrow\\phantom{xx}]{} \n",
    "\\boxed{12 = t(17.5 - 6.25t)}\\\\ \n",
    "\\boxed{7 = 2.5t + 0.4v}\\Leftrightarrow \\boxed{0.4v = 7 - 2.5t}|\\times 2.5 \\Leftrightarrow \\boxed{v = 17.5 - 6.25t}\\end{cases}$  \n",
    "**Ketvirtas**  \n",
    "$\\begin{cases}\\boxed{12 = vt}\\xLeftrightarrow[\\phantom{xxxxxxxxxxxxxxxxxxxxxxxxxxxxxxxxxxxxxxxx}\\uparrow\\phantom{xx}]{} \n",
    "\\boxed{12 = v(2.8 - 0.16v)}\\Leftrightarrow \\boxed{12 = 2.8v - 0.16v^2} \\Leftrightarrow \\boxed{0.16v^2 - 2.8v - 12 = 0}\\Leftrightarrow \\boxed{2v^2 - 35v - 150 = 0}\\\\ \n",
    "\\boxed{7 = 2.5t + 0.4v}\\Leftrightarrow \\boxed{2.5t = 7 - 0.4v} \\Leftrightarrow \\boxed{t = 2.8 - 0.16v}\\end{cases}$ "
   ]
  },
  {
   "cell_type": "markdown",
   "id": "a15b90da-2c06-493c-a6d4-d9b63da03db1",
   "metadata": {},
   "source": [
    "### O dar lengvesnių?"
   ]
  },
  {
   "cell_type": "markdown",
   "id": "a05d8fe8-f0d2-4261-92ff-5e0ababbe45c",
   "metadata": {},
   "source": [
    "Įvedame keitinius:\n",
    "* $\\boxed{x = 2.5t} \\Leftrightarrow \\boxed{t = \\frac{x}{2.5}}$\n",
    "* $\\boxed{y = 0.4v} \\Leftrightarrow \\boxed{v = \\frac{y}{0.4}}$\n",
    "\n",
    "Tada:\n",
    "$$\\boxed{\\begin{cases}12 = vt \\\\ 7 = 2.5t + 0.4v \\end{cases}} \\Leftrightarrow \\boxed{\\begin{cases}12 = xy \\\\ 7 = x + y \\end{cases}}$$ \n",
    "\n",
    "Galima atspėti, kad pora 3 ir 4 yra vienintelis sprendinys (ir būti tikram, kad tai vienintelis sprendinys), bet spėlioti yra draužiama, todėl taikysime kitą būdą.\n",
    "\n",
    "Pagal Vieto teoremą $x$ ir $y$ yra lygties $\\boxed{t^2 - 7t + 12=0} \\Leftrightarrow \\boxed{t^2 - 3t - 4t + 12=0} \\Leftrightarrow \\boxed{t(t - 3) -4(t - 3)=0} \\Leftrightarrow \\boxed{(t-4)(t-3)=0}$ sprendiniai. \n",
    "\n",
    "Aišku, kad tai yra 3 ir 4. Tada: \n",
    "\n",
    "$$\\boxed{x_1 = 3,\\quad y_1 = 4} \\Leftrightarrow \\boxed{t_1 = 1.2,\\quad v_1 = 10}$$\n",
    "$$\\boxed{x_2 = 4,\\quad y_2 = 3} \\Leftrightarrow \\boxed{t_1 = 1.6,\\quad v_1 = 7.5}$$"
   ]
  },
  {
   "cell_type": "markdown",
   "id": "8e0be61b-5b83-4b62-985c-eb44147bf962",
   "metadata": {},
   "source": [
    "### Atsakymas\n",
    "$$\\begin{array}{r|c|c}&\\text{Aistės}&\\text{Žanetos} \\\\ \n",
    "\\hline \\text{kelias}&12&20 \\\\ \n",
    "\\text{greitis}&10&12.5 \\\\ \n",
    "\\text{laikas}&1.2&1.6 \n",
    "\\end{array}\n",
    "\\quad\\text{arba}\\quad\n",
    "\\begin{array}{r|c|c}&\\text{Aistės}&\\text{Žanetos} \\\\ \n",
    "\\hline \\text{kelias}&12&20 \\\\ \n",
    "\\text{greitis}&7.5&10 \\\\ \n",
    "\\text{laikas}&1.6&2 \n",
    "\\end{array}$$"
   ]
  },
  {
   "cell_type": "markdown",
   "id": "07b6c746-fdea-4a05-9f44-80f1c82db734",
   "metadata": {},
   "source": [
    "### Praktika\n",
    "#### Set 1\n",
    "1\\. $20 = (x+2.5)\\left(\\frac{12}{x}+0.4\\right)$  \n",
    "2\\. $20 = (\\frac{12}{x}+2.5)\\left(x+0.4\\right)$  \n",
    "3\\. $12 = x\\left(\\frac{20}{x+2.5} - 0.4\\right)$  \n",
    "4\\. $12 = x\\left(\\frac{20}{x+0.4} - 2.5\\right)$  \n",
    "5\\. $7 = 2.5x + 0.4\\cdot \\frac{12}{x}$  \n",
    "6\\. $7 = 2.5\\cdot \\frac{12}{x}+ 0.4v$  \n",
    "7\\. $12 = x(17.5 - 6.25x)$  \n",
    "8\\. $12 = 2.8x - 0.16x^2$  \n",
    "9\\. $12 = x(7-x)$  \n",
    "10\\. $7 = x + \\frac{1}{x}$  \n",
    "#### Set 2\n",
    "1\\. $\\begin{cases}x+y = 2 \\\\xy = -12\\end{cases}$  \n",
    "2\\. $\\begin{cases}x+y = 50 \\\\ xy = 600\\end{cases}$  \n",
    "3\\. $\\begin{cases}x+y = 50 \\\\ \\frac{1}{x}+\\frac{1}{y} = \\frac{1}{12}\\end{cases}$  \n",
    "4\\. $\\begin{cases}vt = (v-30)(t+2) \\\\ vt = (v-15)(t+\\frac{2}{3})\\end{cases}$  \n",
    "5\\. $\\begin{cases}c = ax \\\\ d = bx \\\\ c = t_1b \\\\ d = t_2a\\end{cases} \\quad x=?$\n",
    "#### Set 3\n",
    "1\\. $12 = \\left(\\frac{12}{x}+6\\right)\\left(x-\\frac{1}{3}\\right)$  "
   ]
  },
  {
   "cell_type": "markdown",
   "id": "7b8a4de1-63ce-46e1-ae61-815ecb144f79",
   "metadata": {},
   "source": [
    "### Kūrybinė dalis: ar $x$ ir $y$ ką nors reiškia?\n",
    "$$\\begin{array}{r|c|c}&\\text{Aistės}&\\text{Žanetos} \\\\ \\hline \\text{kelias}&12&20 \\\\ \\text{greitis}&v&v+2.5 \\\\ \\text{laikas}&t&t+0.4 \\end{array}$$"
   ]
  },
  {
   "cell_type": "markdown",
   "id": "d59b710d-3d94-4946-9ea3-66664fdc9569",
   "metadata": {},
   "source": [
    "#### Sąlyga\n",
    "Žanetos greitis 2.5km didesnis už Aistės greitį. Jos abi treniruojasi bėgiodamos ilgus atstumus. Per vieną treniruotę Aistė nubėgo 12km atstumą 24min greičiau negu Žaneta 20km. Rasti Aistės greitį.\n",
    "\n",
    "#### Perfrazuota sąlyga\n",
    "Žanetos greitis 2.5km didesnis už Aistės greitį. Kai Aistė nubėgo 12 km, Žaneta nubėgo $x$ km daugiau. Jei Aistė bėgtų dar 0.4val, tai nubėgtų dar $y$ km, bet Žaneta nubėgtų $z$ km daugiau, o Žanetos visas įveiktas atstumas būtų 20km. Rasti $x + y$ ir $xy$\n",
    "\n",
    "* Rasti $x+y$:\n",
    "  * Kodėl $x + y + z = 8$?\n",
    "  * Rasti $z$\n",
    "* Rasti $xy$:\n",
    "  * Užrašyti $x$ raidiniu reiškiniu, priklausančiu nuo Aistės 12km bėgimo laiko $t$.\n",
    "  * Užrašyti $y$ raidiniu reiškiniu, priklausančiu nuo Aistės greičio $v$.\n",
    "  * Rasti $xy$, jei $vt = 12$\n",
    "\n",
    "#### Magics\n",
    "Lentelės visų 4 langelių suma lygi 20:\n",
    "$$\\begin{array}{r||c|c}&v&2.5 \\\\ \\hline t&12=vt&y=2.5t \\\\ \\hline 0.4&x=0.4v&z=1\\end{array}$$"
   ]
  }
 ],
 "metadata": {
  "kernelspec": {
   "display_name": "Python 3 (ipykernel)",
   "language": "python",
   "name": "python3"
  },
  "language_info": {
   "codemirror_mode": {
    "name": "ipython",
    "version": 3
   },
   "file_extension": ".py",
   "mimetype": "text/x-python",
   "name": "python",
   "nbconvert_exporter": "python",
   "pygments_lexer": "ipython3",
   "version": "3.12.7"
  },
  "toc": {
   "base_numbering": 1,
   "nav_menu": {},
   "number_sections": true,
   "sideBar": true,
   "skip_h1_title": false,
   "title_cell": "Table of Contents",
   "title_sidebar": "Contents",
   "toc_cell": false,
   "toc_position": {},
   "toc_section_display": true,
   "toc_window_display": false
  },
  "varInspector": {
   "cols": {
    "lenName": 16,
    "lenType": 16,
    "lenVar": 40
   },
   "kernels_config": {
    "python": {
     "delete_cmd_postfix": "",
     "delete_cmd_prefix": "del ",
     "library": "var_list.py",
     "varRefreshCmd": "print(var_dic_list())"
    },
    "r": {
     "delete_cmd_postfix": ") ",
     "delete_cmd_prefix": "rm(",
     "library": "var_list.r",
     "varRefreshCmd": "cat(var_dic_list()) "
    }
   },
   "types_to_exclude": [
    "module",
    "function",
    "builtin_function_or_method",
    "instance",
    "_Feature"
   ],
   "window_display": false
  }
 },
 "nbformat": 4,
 "nbformat_minor": 5
}
