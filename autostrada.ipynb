{
 "cells": [
  {
   "cell_type": "markdown",
   "id": "fb53d190",
   "metadata": {},
   "source": [
    "## Pavyzdys 1.\n",
    "Mašina ir fūra išvažiuoja iš miestų $A$ ir $B$ priešingomis kryptimis. Mašina po susitikimo pasiekia $B$ per laiką $a$, o fūra - $A$ nuvažiuoja per laiką $b$. Kiek laiko jie važiavo iki susitikimo?\n",
    "\n",
    "### Sprendimas:\n",
    "\n",
    "$$\\begin{array}{r|c|c|c|c}\n",
    "&\\text{Mašina (AO)}&\\text{Fūra (BO)}&\\text{Mašina (OB)}&\\text{Fūra (OA)} \\\\ \n",
    "\\hline \\text{kelias}&s_1&s_2&s_2&s_1 \\\\ \n",
    "\\text{greitis}&v_1&v_2&v_1&v_2 \\\\ \n",
    "\\text{laikas}&t&t&a&b\n",
    "\\end{array} \\Leftrightarrow \\begin{cases} s_1 = v_1t \\\\ s_2 = v_2t \\\\ s_2 = v_1a \\\\ s_1 = v_2b \\end{cases} \\Rightarrow \\begin{cases} s_1s_2 = v_1v_2t^2 \\\\ s_1s_2 = v_1v_2ab \\end{cases} \\Rightarrow \\boxed{t^2=ab} \\Leftrightarrow \\boxed{t=\\sqrt{ab}}$$\n",
    "\n",
    "## Pavyzdys 2.\n",
    "Papildomai nurodyta, kad $|AB| = s$ ir klausia, kam lygus $v_1$.\n",
    "\n",
    "### Sprendimo dalis, skirta gauti santykiui $v_2 / v_1$:\n",
    "#### Pirmas būdas\n",
    "$$\\begin{cases} \\phantom{xxxxxx}\\boxed{s_1 = v_2b}\\\\ \\boxed{s_1 = v_1t} \\overset{\\downarrow}\\Longrightarrow \\boxed{v_2b = v_1t}  \\Rightarrow \\boxed{b\\cdot\\frac{v_2}{v_1} = t} \\\\ \\boxed{s_2 = v_2t} \\underset{\\uparrow}\\Longrightarrow \\boxed{v_1a = v_2t} \\Rightarrow \\boxed{a\\cdot\\frac{v_1}{v_2} = t}\\\\ \\phantom{xxxxxx}\\boxed{s_2 = v_1a}\\end{cases} \\Rightarrow\\boxed{a\\cdot\\frac{v_1}{v_2} = b\\cdot\\frac{v_2}{v_1}} \\Leftrightarrow \\boxed{\\left(\\frac{v_2}{v_1}\\right)^2 = \\frac{a}{b}} \\Leftrightarrow \\boxed{\\frac{v_2}{v_1} = \\sqrt{\\frac{a}{b}}}\\Leftrightarrow \\boxed{v_2 = v_1\\cdot \\sqrt{\\frac{a}{b}}}$$\n",
    "\n",
    "#### Antras būdas\n",
    "\n",
    "$$\\begin{cases} s_1 = v_1t \\\\ s_2 = v_2t \\\\ s_2 = v_1a \\\\ s_1 = v_2b \\end{cases} \\Rightarrow \\begin{cases} \\frac{s_1}{s_2} = \\frac{v_1}{v_2} \\\\  \\frac{s_1}{s_2} = \\frac{v_2}{v_1}\\cdot\\frac{a}{b} \\end{cases} \\Rightarrow \\boxed{\\frac{v_1}{v_2} = \\frac{v_2}{v_1}\\cdot\\frac{a}{b}} \\Leftrightarrow \\boxed{\\left(\\frac{v_2}{v_1}\\right)^2 = \\frac{a}{b}} $$\n",
    "\n",
    "### Likusi sprendimo dalis\n",
    "\n",
    "$\\boxed{s_1 + s_2 = s}\\underset{\\stackrel{\\uparrow}{\\boxed{s_1 = v_2b}}}{\\overset{\\stackrel{\\boxed{s_2 = v_1a}}{\\downarrow}}\\Longrightarrow} \\boxed{v_1a + v_2b = s} \\overset{\\stackrel{\\boxed{v_2 = v_1\\cdot \\sqrt{\\frac{a}{b}}}}{\\downarrow}}\\Longrightarrow \\boxed{v_1a + v_1\\sqrt{ab} = s} \\Leftrightarrow \\boxed{v_1 = \\frac{s}{a + \\sqrt{ab}}}$\n",
    "\n",
    "### Sprendimas 2. \n",
    "Užtenka kelią $s$ padalyti iš laiko $a + t$. Tačiau tam reikia parodyti laiko $t$ iki mašinos ir fūros susitikimo gavimo eigą:\n",
    "\n",
    "$$\\begin{cases} s_1 = v_1t \\\\ s_2 = v_2t \\\\ s_2 = v_1a \\\\ s_1 = v_2b \\end{cases} \\Rightarrow \\begin{cases} s_1s_2 = v_1v_2t^2 \\\\ s_1s_2 = v_1v_2ab \\end{cases} \\Rightarrow \\boxed{t^2=ab} \\Leftrightarrow \\boxed{t=\\sqrt{ab}}$$"
   ]
  }
 ],
 "metadata": {
  "kernelspec": {
   "display_name": "Python 3 (ipykernel)",
   "language": "python",
   "name": "python3"
  },
  "language_info": {
   "codemirror_mode": {
    "name": "ipython",
    "version": 3
   },
   "file_extension": ".py",
   "mimetype": "text/x-python",
   "name": "python",
   "nbconvert_exporter": "python",
   "pygments_lexer": "ipython3",
   "version": "3.10.9"
  },
  "toc": {
   "base_numbering": 1,
   "nav_menu": {},
   "number_sections": true,
   "sideBar": true,
   "skip_h1_title": false,
   "title_cell": "Table of Contents",
   "title_sidebar": "Contents",
   "toc_cell": false,
   "toc_position": {},
   "toc_section_display": true,
   "toc_window_display": false
  },
  "varInspector": {
   "cols": {
    "lenName": 16,
    "lenType": 16,
    "lenVar": 40
   },
   "kernels_config": {
    "python": {
     "delete_cmd_postfix": "",
     "delete_cmd_prefix": "del ",
     "library": "var_list.py",
     "varRefreshCmd": "print(var_dic_list())"
    },
    "r": {
     "delete_cmd_postfix": ") ",
     "delete_cmd_prefix": "rm(",
     "library": "var_list.r",
     "varRefreshCmd": "cat(var_dic_list()) "
    }
   },
   "types_to_exclude": [
    "module",
    "function",
    "builtin_function_or_method",
    "instance",
    "_Feature"
   ],
   "window_display": false
  }
 },
 "nbformat": 4,
 "nbformat_minor": 5
}
